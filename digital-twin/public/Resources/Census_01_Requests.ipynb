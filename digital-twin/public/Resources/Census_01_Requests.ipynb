{
 "cells": [
  {
   "cell_type": "code",
   "execution_count": 1,
   "outputs": [],
   "source": [
    "import pandas as pd\n",
    "import seaborn\n",
    "import requests"
   ],
   "metadata": {
    "collapsed": false,
    "pycharm": {
     "name": "#%%\n"
    }
   }
  },
  {
   "cell_type": "code",
   "execution_count": 19,
   "metadata": {
    "collapsed": true
   },
   "outputs": [],
   "source": [
    "HOST = \"https://api.census.gov/data\"\n",
    "year = \"2010\"\n",
    "dataset = \"dec/sf1\"\n",
    "base_url = \"/\".join([HOST, year, dataset])\n",
    "predicates = {}\n",
    "# land area in square meter\n",
    "# get_vars = [\"NAME\", \"AREALAND\", \"P001001\"]\n",
    "get_vars = [\"NAME\", \"P001001\"]\n",
    "predicates[\"get\"] = \",\".join(get_vars)\n",
    "predicates[\"for\"] = \"state:*\"\n",
    "r = requests.get(base_url, params=predicates)"
   ]
  },
  {
   "cell_type": "code",
   "execution_count": 16,
   "outputs": [
    {
     "name": "stdout",
     "output_type": "stream",
     "text": [
      "[[\"NAME\",\"P001001\",\"state\"],\n",
      "[\"Alabama\",\"4779736\",\"01\"],\n",
      "[\"Alaska\",\"710231\",\"02\"],\n",
      "[\"Arizona\",\"6392017\",\"04\"],\n",
      "[\"Arkansas\",\"2915918\",\"05\"],\n",
      "[\"California\",\"37253956\",\"06\"],\n",
      "[\"Louisiana\",\"4533372\",\"22\"],\n",
      "[\"Kentucky\",\"4339367\",\"21\"],\n",
      "[\"Colorado\",\"5029196\",\"08\"],\n",
      "[\"Connecticut\",\"3574097\",\"09\"],\n",
      "[\"Delaware\",\"897934\",\"10\"],\n",
      "[\"District of Columbia\",\"601723\",\"11\"],\n",
      "[\"Florida\",\"18801310\",\"12\"],\n",
      "[\"Georgia\",\"9687653\",\"13\"],\n",
      "[\"Hawaii\",\"1360301\",\"15\"],\n",
      "[\"Idaho\",\"1567582\",\"16\"],\n",
      "[\"Illinois\",\"12830632\",\"17\"],\n",
      "[\"Indiana\",\"6483802\",\"18\"],\n",
      "[\"Iowa\",\"3046355\",\"19\"],\n",
      "[\"Kansas\",\"2853118\",\"20\"],\n",
      "[\"Maine\",\"1328361\",\"23\"],\n",
      "[\"Maryland\",\"5773552\",\"24\"],\n",
      "[\"Massachusetts\",\"6547629\",\"25\"],\n",
      "[\"Michigan\",\"9883640\",\"26\"],\n",
      "[\"Minnesota\",\"5303925\",\"27\"],\n",
      "[\"Mississippi\",\"2967297\",\"28\"],\n",
      "[\"Missouri\",\"5988927\",\"29\"],\n",
      "[\"Montana\",\"989415\",\"30\"],\n",
      "[\"Nebraska\",\"1826341\",\"31\"],\n",
      "[\"Nevada\",\"2700551\",\"32\"],\n",
      "[\"New Hampshire\",\"1316470\",\"33\"],\n",
      "[\"New Jersey\",\"8791894\",\"34\"],\n",
      "[\"New Mexico\",\"2059179\",\"35\"],\n",
      "[\"New York\",\"19378102\",\"36\"],\n",
      "[\"North Carolina\",\"9535483\",\"37\"],\n",
      "[\"North Dakota\",\"672591\",\"38\"],\n",
      "[\"Ohio\",\"11536504\",\"39\"],\n",
      "[\"Oklahoma\",\"3751351\",\"40\"],\n",
      "[\"Oregon\",\"3831074\",\"41\"],\n",
      "[\"Pennsylvania\",\"12702379\",\"42\"],\n",
      "[\"Rhode Island\",\"1052567\",\"44\"],\n",
      "[\"South Carolina\",\"4625364\",\"45\"],\n",
      "[\"South Dakota\",\"814180\",\"46\"],\n",
      "[\"Tennessee\",\"6346105\",\"47\"],\n",
      "[\"Texas\",\"25145561\",\"48\"],\n",
      "[\"Utah\",\"2763885\",\"49\"],\n",
      "[\"Vermont\",\"625741\",\"50\"],\n",
      "[\"Virginia\",\"8001024\",\"51\"],\n",
      "[\"Washington\",\"6724540\",\"53\"],\n",
      "[\"West Virginia\",\"1852994\",\"54\"],\n",
      "[\"Wisconsin\",\"5686986\",\"55\"],\n",
      "[\"Wyoming\",\"563626\",\"56\"],\n",
      "[\"Puerto Rico\",\"3725789\",\"72\"]]\n"
     ]
    }
   ],
   "source": [
    "print(r.text)"
   ],
   "metadata": {
    "collapsed": false,
    "pycharm": {
     "name": "#%%\n"
    }
   }
  },
  {
   "cell_type": "code",
   "execution_count": 20,
   "outputs": [
    {
     "ename": "ValueError",
     "evalue": "2 columns passed, passed data had 3 columns",
     "output_type": "error",
     "traceback": [
      "\u001B[0;31m---------------------------------------------------------------------------\u001B[0m",
      "\u001B[0;31mAssertionError\u001B[0m                            Traceback (most recent call last)",
      "\u001B[0;32m/usr/local/anaconda3/envs/py38/lib/python3.8/site-packages/pandas/core/internals/construction.py\u001B[0m in \u001B[0;36m_list_to_arrays\u001B[0;34m(data, columns, coerce_float, dtype)\u001B[0m\n\u001B[1;32m    563\u001B[0m     \u001B[0;32mtry\u001B[0m\u001B[0;34m:\u001B[0m\u001B[0;34m\u001B[0m\u001B[0;34m\u001B[0m\u001B[0m\n\u001B[0;32m--> 564\u001B[0;31m         \u001B[0mcolumns\u001B[0m \u001B[0;34m=\u001B[0m \u001B[0m_validate_or_indexify_columns\u001B[0m\u001B[0;34m(\u001B[0m\u001B[0mcontent\u001B[0m\u001B[0;34m,\u001B[0m \u001B[0mcolumns\u001B[0m\u001B[0;34m)\u001B[0m\u001B[0;34m\u001B[0m\u001B[0;34m\u001B[0m\u001B[0m\n\u001B[0m\u001B[1;32m    565\u001B[0m         \u001B[0mresult\u001B[0m \u001B[0;34m=\u001B[0m \u001B[0m_convert_object_array\u001B[0m\u001B[0;34m(\u001B[0m\u001B[0mcontent\u001B[0m\u001B[0;34m,\u001B[0m \u001B[0mdtype\u001B[0m\u001B[0;34m=\u001B[0m\u001B[0mdtype\u001B[0m\u001B[0;34m,\u001B[0m \u001B[0mcoerce_float\u001B[0m\u001B[0;34m=\u001B[0m\u001B[0mcoerce_float\u001B[0m\u001B[0;34m)\u001B[0m\u001B[0;34m\u001B[0m\u001B[0;34m\u001B[0m\u001B[0m\n",
      "\u001B[0;32m/usr/local/anaconda3/envs/py38/lib/python3.8/site-packages/pandas/core/internals/construction.py\u001B[0m in \u001B[0;36m_validate_or_indexify_columns\u001B[0;34m(content, columns)\u001B[0m\n\u001B[1;32m    687\u001B[0m             \u001B[0;31m# caller's responsibility to check for this...\u001B[0m\u001B[0;34m\u001B[0m\u001B[0;34m\u001B[0m\u001B[0;34m\u001B[0m\u001B[0m\n\u001B[0;32m--> 688\u001B[0;31m             raise AssertionError(\n\u001B[0m\u001B[1;32m    689\u001B[0m                 \u001B[0;34mf\"{len(columns)} columns passed, passed data had \"\u001B[0m\u001B[0;34m\u001B[0m\u001B[0;34m\u001B[0m\u001B[0m\n",
      "\u001B[0;31mAssertionError\u001B[0m: 2 columns passed, passed data had 3 columns",
      "\nThe above exception was the direct cause of the following exception:\n",
      "\u001B[0;31mValueError\u001B[0m                                Traceback (most recent call last)",
      "\u001B[0;32m<ipython-input-20-d8557ee512bf>\u001B[0m in \u001B[0;36m<module>\u001B[0;34m\u001B[0m\n\u001B[1;32m      1\u001B[0m \u001B[0mcol_names\u001B[0m \u001B[0;34m=\u001B[0m \u001B[0;34m[\u001B[0m\u001B[0;34m'name'\u001B[0m\u001B[0;34m,\u001B[0m \u001B[0;34m'total_pop'\u001B[0m\u001B[0;34m]\u001B[0m\u001B[0;34m\u001B[0m\u001B[0;34m\u001B[0m\u001B[0m\n\u001B[1;32m      2\u001B[0m \u001B[0;31m# slicing skip first row\u001B[0m\u001B[0;34m\u001B[0m\u001B[0;34m\u001B[0m\u001B[0;34m\u001B[0m\u001B[0m\n\u001B[0;32m----> 3\u001B[0;31m \u001B[0mdf\u001B[0m \u001B[0;34m=\u001B[0m \u001B[0mpd\u001B[0m\u001B[0;34m.\u001B[0m\u001B[0mDataFrame\u001B[0m\u001B[0;34m(\u001B[0m\u001B[0mcolumns\u001B[0m\u001B[0;34m=\u001B[0m\u001B[0mcol_names\u001B[0m\u001B[0;34m,\u001B[0m \u001B[0mdata\u001B[0m\u001B[0;34m=\u001B[0m\u001B[0mr\u001B[0m\u001B[0;34m.\u001B[0m\u001B[0mjson\u001B[0m\u001B[0;34m(\u001B[0m\u001B[0;34m)\u001B[0m\u001B[0;34m[\u001B[0m\u001B[0;36m1\u001B[0m\u001B[0;34m:\u001B[0m\u001B[0;34m]\u001B[0m\u001B[0;34m)\u001B[0m\u001B[0;34m\u001B[0m\u001B[0;34m\u001B[0m\u001B[0m\n\u001B[0m\u001B[1;32m      4\u001B[0m \u001B[0;31m# df[\"area_m2\"] =\u001B[0m\u001B[0;34m\u001B[0m\u001B[0;34m\u001B[0m\u001B[0;34m\u001B[0m\u001B[0m\n\u001B[1;32m      5\u001B[0m \u001B[0mdf\u001B[0m\u001B[0;34m[\u001B[0m\u001B[0;34m\"total_pop\"\u001B[0m\u001B[0;34m]\u001B[0m \u001B[0;34m=\u001B[0m \u001B[0mdf\u001B[0m\u001B[0;34m[\u001B[0m\u001B[0;34m\"total_pop\"\u001B[0m\u001B[0;34m]\u001B[0m\u001B[0;34m.\u001B[0m\u001B[0mastype\u001B[0m\u001B[0;34m(\u001B[0m\u001B[0mint\u001B[0m\u001B[0;34m)\u001B[0m\u001B[0;34m\u001B[0m\u001B[0;34m\u001B[0m\u001B[0m\n",
      "\u001B[0;32m/usr/local/anaconda3/envs/py38/lib/python3.8/site-packages/pandas/core/frame.py\u001B[0m in \u001B[0;36m__init__\u001B[0;34m(self, data, index, columns, dtype, copy)\u001B[0m\n\u001B[1;32m    507\u001B[0m                     \u001B[0;32mif\u001B[0m \u001B[0mis_named_tuple\u001B[0m\u001B[0;34m(\u001B[0m\u001B[0mdata\u001B[0m\u001B[0;34m[\u001B[0m\u001B[0;36m0\u001B[0m\u001B[0;34m]\u001B[0m\u001B[0;34m)\u001B[0m \u001B[0;32mand\u001B[0m \u001B[0mcolumns\u001B[0m \u001B[0;32mis\u001B[0m \u001B[0;32mNone\u001B[0m\u001B[0;34m:\u001B[0m\u001B[0;34m\u001B[0m\u001B[0;34m\u001B[0m\u001B[0m\n\u001B[1;32m    508\u001B[0m                         \u001B[0mcolumns\u001B[0m \u001B[0;34m=\u001B[0m \u001B[0mdata\u001B[0m\u001B[0;34m[\u001B[0m\u001B[0;36m0\u001B[0m\u001B[0;34m]\u001B[0m\u001B[0;34m.\u001B[0m\u001B[0m_fields\u001B[0m\u001B[0;34m\u001B[0m\u001B[0;34m\u001B[0m\u001B[0m\n\u001B[0;32m--> 509\u001B[0;31m                     \u001B[0marrays\u001B[0m\u001B[0;34m,\u001B[0m \u001B[0mcolumns\u001B[0m \u001B[0;34m=\u001B[0m \u001B[0mto_arrays\u001B[0m\u001B[0;34m(\u001B[0m\u001B[0mdata\u001B[0m\u001B[0;34m,\u001B[0m \u001B[0mcolumns\u001B[0m\u001B[0;34m,\u001B[0m \u001B[0mdtype\u001B[0m\u001B[0;34m=\u001B[0m\u001B[0mdtype\u001B[0m\u001B[0;34m)\u001B[0m\u001B[0;34m\u001B[0m\u001B[0;34m\u001B[0m\u001B[0m\n\u001B[0m\u001B[1;32m    510\u001B[0m                     \u001B[0mcolumns\u001B[0m \u001B[0;34m=\u001B[0m \u001B[0mensure_index\u001B[0m\u001B[0;34m(\u001B[0m\u001B[0mcolumns\u001B[0m\u001B[0;34m)\u001B[0m\u001B[0;34m\u001B[0m\u001B[0;34m\u001B[0m\u001B[0m\n\u001B[1;32m    511\u001B[0m \u001B[0;34m\u001B[0m\u001B[0m\n",
      "\u001B[0;32m/usr/local/anaconda3/envs/py38/lib/python3.8/site-packages/pandas/core/internals/construction.py\u001B[0m in \u001B[0;36mto_arrays\u001B[0;34m(data, columns, coerce_float, dtype)\u001B[0m\n\u001B[1;32m    522\u001B[0m         \u001B[0;32mreturn\u001B[0m \u001B[0;34m[\u001B[0m\u001B[0;34m]\u001B[0m\u001B[0;34m,\u001B[0m \u001B[0;34m[\u001B[0m\u001B[0;34m]\u001B[0m  \u001B[0;31m# columns if columns is not None else []\u001B[0m\u001B[0;34m\u001B[0m\u001B[0;34m\u001B[0m\u001B[0m\n\u001B[1;32m    523\u001B[0m     \u001B[0;32mif\u001B[0m \u001B[0misinstance\u001B[0m\u001B[0;34m(\u001B[0m\u001B[0mdata\u001B[0m\u001B[0;34m[\u001B[0m\u001B[0;36m0\u001B[0m\u001B[0;34m]\u001B[0m\u001B[0;34m,\u001B[0m \u001B[0;34m(\u001B[0m\u001B[0mlist\u001B[0m\u001B[0;34m,\u001B[0m \u001B[0mtuple\u001B[0m\u001B[0;34m)\u001B[0m\u001B[0;34m)\u001B[0m\u001B[0;34m:\u001B[0m\u001B[0;34m\u001B[0m\u001B[0;34m\u001B[0m\u001B[0m\n\u001B[0;32m--> 524\u001B[0;31m         \u001B[0;32mreturn\u001B[0m \u001B[0m_list_to_arrays\u001B[0m\u001B[0;34m(\u001B[0m\u001B[0mdata\u001B[0m\u001B[0;34m,\u001B[0m \u001B[0mcolumns\u001B[0m\u001B[0;34m,\u001B[0m \u001B[0mcoerce_float\u001B[0m\u001B[0;34m=\u001B[0m\u001B[0mcoerce_float\u001B[0m\u001B[0;34m,\u001B[0m \u001B[0mdtype\u001B[0m\u001B[0;34m=\u001B[0m\u001B[0mdtype\u001B[0m\u001B[0;34m)\u001B[0m\u001B[0;34m\u001B[0m\u001B[0;34m\u001B[0m\u001B[0m\n\u001B[0m\u001B[1;32m    525\u001B[0m     \u001B[0;32melif\u001B[0m \u001B[0misinstance\u001B[0m\u001B[0;34m(\u001B[0m\u001B[0mdata\u001B[0m\u001B[0;34m[\u001B[0m\u001B[0;36m0\u001B[0m\u001B[0;34m]\u001B[0m\u001B[0;34m,\u001B[0m \u001B[0mabc\u001B[0m\u001B[0;34m.\u001B[0m\u001B[0mMapping\u001B[0m\u001B[0;34m)\u001B[0m\u001B[0;34m:\u001B[0m\u001B[0;34m\u001B[0m\u001B[0;34m\u001B[0m\u001B[0m\n\u001B[1;32m    526\u001B[0m         return _list_of_dict_to_arrays(\n",
      "\u001B[0;32m/usr/local/anaconda3/envs/py38/lib/python3.8/site-packages/pandas/core/internals/construction.py\u001B[0m in \u001B[0;36m_list_to_arrays\u001B[0;34m(data, columns, coerce_float, dtype)\u001B[0m\n\u001B[1;32m    565\u001B[0m         \u001B[0mresult\u001B[0m \u001B[0;34m=\u001B[0m \u001B[0m_convert_object_array\u001B[0m\u001B[0;34m(\u001B[0m\u001B[0mcontent\u001B[0m\u001B[0;34m,\u001B[0m \u001B[0mdtype\u001B[0m\u001B[0;34m=\u001B[0m\u001B[0mdtype\u001B[0m\u001B[0;34m,\u001B[0m \u001B[0mcoerce_float\u001B[0m\u001B[0;34m=\u001B[0m\u001B[0mcoerce_float\u001B[0m\u001B[0;34m)\u001B[0m\u001B[0;34m\u001B[0m\u001B[0;34m\u001B[0m\u001B[0m\n\u001B[1;32m    566\u001B[0m     \u001B[0;32mexcept\u001B[0m \u001B[0mAssertionError\u001B[0m \u001B[0;32mas\u001B[0m \u001B[0me\u001B[0m\u001B[0;34m:\u001B[0m\u001B[0;34m\u001B[0m\u001B[0;34m\u001B[0m\u001B[0m\n\u001B[0;32m--> 567\u001B[0;31m         \u001B[0;32mraise\u001B[0m \u001B[0mValueError\u001B[0m\u001B[0;34m(\u001B[0m\u001B[0me\u001B[0m\u001B[0;34m)\u001B[0m \u001B[0;32mfrom\u001B[0m \u001B[0me\u001B[0m\u001B[0;34m\u001B[0m\u001B[0;34m\u001B[0m\u001B[0m\n\u001B[0m\u001B[1;32m    568\u001B[0m     \u001B[0;32mreturn\u001B[0m \u001B[0mresult\u001B[0m\u001B[0;34m,\u001B[0m \u001B[0mcolumns\u001B[0m\u001B[0;34m\u001B[0m\u001B[0;34m\u001B[0m\u001B[0m\n\u001B[1;32m    569\u001B[0m \u001B[0;34m\u001B[0m\u001B[0m\n",
      "\u001B[0;31mValueError\u001B[0m: 2 columns passed, passed data had 3 columns"
     ]
    }
   ],
   "source": [
    "col_names = ['name', 'total_pop']\n",
    "# slicing skip first row\n",
    "df = pd.DataFrame(columns=col_names, data=r.json()[1:])\n",
    "# df[\"area_m2\"] =\n",
    "df[\"total_pop\"] = df[\"total_pop\"].astype(int)\n",
    "\n",
    "# states[[\"in_adult\", \"in_juvenile\"]] = states[[\"in_adult\", \"in_juvenile\"]].astype(int)\n",
    "\n",
    "print(df.head())"
   ],
   "metadata": {
    "collapsed": false,
    "pycharm": {
     "name": "#%%\n"
    }
   }
  },
  {
   "cell_type": "code",
   "execution_count": null,
   "outputs": [],
   "source": [
    "df[\"pop_per_km2\"] = 1000**2 * df[\"total_pop\"] / df[\"area_m2\"]\n",
    "df.nlargest(3, \"pop_per_km2\")\n",
    "\n",
    "# states[\"pct_in_adult\"] = 100 * states['in_adult'] / (states[\"in_adult\"] + states['in_juvenile'])\n",
    "# states.sort_values(by = 'pct_in_adult', ascending = False, inplace = True)\n",
    "# sns.stripplot(x = \"pct_in_adult\", y = \"name\", data = states)"
   ],
   "metadata": {
    "collapsed": false,
    "pycharm": {
     "name": "#%%\n"
    }
   }
  },
  {
   "cell_type": "code",
   "execution_count": 31,
   "outputs": [
    {
     "name": "stdout",
     "output_type": "stream",
     "text": [
      "https://api.census.gov/data/2010/dec/sf1\n"
     ]
    }
   ],
   "source": [
    "HOST = \"https://api.census.gov/data\"\n",
    "year = \"2010\"\n",
    "dataset = \"dec/sf1\"\n",
    "base_url = \"/\".join([HOST, year, dataset])\n",
    "predicates = {}\n",
    "# land area in square meter\n",
    "# get_vars = [\"NAME\", \"AREALAND\", \"P001001\"]\n",
    "get_vars = [\"NAME\", \"P001001\"]\n",
    "predicates[\"get\"] = \",\".join(get_vars)\n",
    "predicates[\"for\"] = \"county:*\"\n",
    "# predicates[\"for\"] = \"tract\"\n",
    "predicates[\"in\"] = \"state:36\"\n",
    "r = requests.get(base_url, params=predicates)\n",
    "# print(r.text)"
   ],
   "metadata": {
    "collapsed": false,
    "pycharm": {
     "name": "#%%\n"
    }
   }
  },
  {
   "cell_type": "markdown",
   "source": [
    "Look up geography hierarchy\n",
    "'''print(base_url + \"geography.html\")'''"
   ],
   "metadata": {
    "collapsed": false
   }
  },
  {
   "cell_type": "code",
   "execution_count": 34,
   "outputs": [
    {
     "name": "stdout",
     "output_type": "stream",
     "text": [
      "[[\"NAME\",\"P001001\",\"state\",\"congressional district\",\"county (or part)\"],\n",
      "[\"Montgomery County (part), Congressional District 2 (111th Congress), Pennsylvania\",\"36793\",\"42\",\"02\",\"091\"],\n",
      "[\"Philadelphia County (part), Congressional District 2 (111th Congress), Pennsylvania\",\"593484\",\"42\",\"02\",\"101\"]]\n"
     ]
    }
   ],
   "source": [
    "HOST = \"https://api.census.gov/data\"\n",
    "year = \"2010\"\n",
    "dataset = \"dec/sf1\"\n",
    "base_url = \"/\".join([HOST, year, dataset])\n",
    "predicates = {}\n",
    "get_vars = [\"NAME\", \"P001001\"]\n",
    "predicates[\"get\"] = \",\".join(get_vars)\n",
    "\n",
    "predicates[\"for\"] = \"county (or part): *\"\n",
    "predicates[\"in\"] = \"state:42;congressional district:02\"\n",
    "r = requests.get(base_url, params=predicates)\n",
    "print(r.text)\n",
    "\n",
    "# 51000. New York city, NY (8,443,713)"
   ],
   "metadata": {
    "collapsed": false,
    "pycharm": {
     "name": "#%%\n"
    }
   }
  },
  {
   "cell_type": "code",
   "execution_count": 40,
   "outputs": [
    {
     "name": "stdout",
     "output_type": "stream",
     "text": [
      "error: unknown/unsupported geography heirarchy\n"
     ]
    }
   ],
   "source": [
    "HOST = \"https://api.census.gov/data\"\n",
    "year = \"2010\"\n",
    "dataset = \"dec/sf1\"\n",
    "base_url = \"/\".join([HOST, year, dataset])\n",
    "predicates = {}\n",
    "get_vars = [\"NAME\", \"P001001\"]\n",
    "predicates[\"get\"] = \",\".join(get_vars)\n",
    "\n",
    "predicates[\"for\"] = \"place: *\"\n",
    "predicates[\"in\"] = \"state:36\"\n",
    "r = requests.get(base_url, params=predicates)\n",
    "print(r.text)\n",
    "\n",
    "# http://mcdc.missouri.edu/applications/geocodes/?state=36\n",
    "# https://data.census.gov/cedsci/profile?g=1600000US3651000"
   ],
   "metadata": {
    "collapsed": false,
    "pycharm": {
     "name": "#%%\n"
    }
   }
  }
 ],
 "metadata": {
  "kernelspec": {
   "display_name": "Python 3",
   "language": "python",
   "name": "python3"
  },
  "language_info": {
   "codemirror_mode": {
    "name": "ipython",
    "version": 2
   },
   "file_extension": ".py",
   "mimetype": "text/x-python",
   "name": "python",
   "nbconvert_exporter": "python",
   "pygments_lexer": "ipython2",
   "version": "2.7.6"
  }
 },
 "nbformat": 4,
 "nbformat_minor": 0
}