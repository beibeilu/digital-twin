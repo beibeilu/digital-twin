{
 "cells": [
  {
   "cell_type": "code",
   "execution_count": 1,
   "metadata": {
    "collapsed": true
   },
   "outputs": [],
   "source": [
    "import pandas as pd"
   ]
  },
  {
   "cell_type": "code",
   "execution_count": 6,
   "outputs": [],
   "source": [
    "income = pd.read_csv('Source/inc_data.csv')"
   ],
   "metadata": {
    "collapsed": false,
    "pycharm": {
     "name": "#%%\n"
    }
   }
  },
  {
   "cell_type": "code",
   "execution_count": 12,
   "outputs": [
    {
     "data": {
      "text/plain": "         GeoId  tractsId Families Median income \n0  36005000100       1.0                       -\n1  36005000200       2.0                   66488\n2  36005000400       4.0                   90118\n3  36005001600      16.0                   40577\n4  36005001900      19.0                   41447",
      "text/html": "<div>\n<style scoped>\n    .dataframe tbody tr th:only-of-type {\n        vertical-align: middle;\n    }\n\n    .dataframe tbody tr th {\n        vertical-align: top;\n    }\n\n    .dataframe thead th {\n        text-align: right;\n    }\n</style>\n<table border=\"1\" class=\"dataframe\">\n  <thead>\n    <tr style=\"text-align: right;\">\n      <th></th>\n      <th>GeoId</th>\n      <th>tractsId</th>\n      <th>Families Median income</th>\n    </tr>\n  </thead>\n  <tbody>\n    <tr>\n      <th>0</th>\n      <td>36005000100</td>\n      <td>1.0</td>\n      <td>-</td>\n    </tr>\n    <tr>\n      <th>1</th>\n      <td>36005000200</td>\n      <td>2.0</td>\n      <td>66488</td>\n    </tr>\n    <tr>\n      <th>2</th>\n      <td>36005000400</td>\n      <td>4.0</td>\n      <td>90118</td>\n    </tr>\n    <tr>\n      <th>3</th>\n      <td>36005001600</td>\n      <td>16.0</td>\n      <td>40577</td>\n    </tr>\n    <tr>\n      <th>4</th>\n      <td>36005001900</td>\n      <td>19.0</td>\n      <td>41447</td>\n    </tr>\n  </tbody>\n</table>\n</div>"
     },
     "execution_count": 12,
     "metadata": {},
     "output_type": "execute_result"
    }
   ],
   "source": [
    "income.head()\n",
    "# print(income.dtypes())"
   ],
   "metadata": {
    "collapsed": false,
    "pycharm": {
     "name": "#%%\n"
    }
   }
  }
 ],
 "metadata": {
  "kernelspec": {
   "display_name": "Python 3",
   "language": "python",
   "name": "python3"
  },
  "language_info": {
   "codemirror_mode": {
    "name": "ipython",
    "version": 2
   },
   "file_extension": ".py",
   "mimetype": "text/x-python",
   "name": "python",
   "nbconvert_exporter": "python",
   "pygments_lexer": "ipython2",
   "version": "2.7.6"
  }
 },
 "nbformat": 4,
 "nbformat_minor": 0
}