{
 "cells": [
  {
   "cell_type": "code",
   "execution_count": 3,
   "metadata": {
    "collapsed": true,
    "pycharm": {
     "name": "#%%\n"
    }
   },
   "outputs": [],
   "source": [
    "import requests\n",
    "import pandas as pd\n",
    "\n",
    "import geopandas\n",
    "import matplotlib as plt"
   ]
  },
  {
   "cell_type": "code",
   "execution_count": 15,
   "outputs": [],
   "source": [
    "# API Call Constructor\n",
    "HOST = \"https://api.census.gov/data\"\n",
    "dataset = \"acs/acs5/profile\" # 5-year\n",
    "year = \"2010\"\n",
    "base_url = \"/\".join([HOST, year, dataset])\n",
    "predicates = {}\n",
    "# https://api.census.gov/data/2010/acs/acs5?get=NAME,B00001_001E&for=tract:*&in=state:01&in=county:*&key=YOUR_KEY_GOES_HERE\n",
    "get_vars = [\"NAME\", \"GEO_ID\", \"DP03_0062E\"]"
   ],
   "metadata": {
    "collapsed": false,
    "pycharm": {
     "name": "#%%\n"
    }
   }
  },
  {
   "cell_type": "markdown",
   "source": [
    "Reference: \n",
    "`data-analysis/docs/ACS/ACS Data Description.md`"
   ],
   "metadata": {
    "collapsed": false,
    "pycharm": {
     "name": "#%% md\n"
    }
   }
  },
  {
   "cell_type": "code",
   "source": [
    "# New York City - tract\n",
    "predicates[\"get\"] = \",\".join(get_vars)\n",
    "predicates[\"for\"] = \"tract:*\"\n",
    "predicates[\"in\"] = \"state:36;county:081,047,061,005,085\"\n",
    "\n",
    "# New York City - County\n",
    "# predicates[\"get\"] = \",\".join(get_vars)\n",
    "# predicates[\"for\"] = \"county:081,047,061,005,085\"\n",
    "# predicates[\"in\"] = \"state:36\"\n",
    "\n",
    "r = requests.get(base_url, params=predicates)\n",
    "print(r.text)"
   ],
   "metadata": {
    "collapsed": false,
    "pycharm": {
     "name": "#%%\n"
    }
   },
   "execution_count": null,
   "outputs": []
  }
 ],
 "metadata": {
  "kernelspec": {
   "display_name": "Python 3",
   "language": "python",
   "name": "python3"
  },
  "language_info": {
   "codemirror_mode": {
    "name": "ipython",
    "version": 2
   },
   "file_extension": ".py",
   "mimetype": "text/x-python",
   "name": "python",
   "nbconvert_exporter": "python",
   "pygments_lexer": "ipython2",
   "version": "2.7.6"
  }
 },
 "nbformat": 4,
 "nbformat_minor": 0
}