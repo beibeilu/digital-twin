{
 "cells": [
  {
   "cell_type": "code",
   "execution_count": 1,
   "metadata": {
    "collapsed": true,
    "pycharm": {
     "name": "#%%\n"
    }
   },
   "outputs": [],
   "source": [
    "import requests\n",
    "import pandas as pd\n",
    "\n",
    "import geopandas\n",
    "import matplotlib as plt"
   ]
  },
  {
   "cell_type": "code",
   "execution_count": 9,
   "outputs": [],
   "source": [
    "# API Call Constructor\n",
    "HOST = \"https://api.census.gov/data\"\n",
    "dataset = \"acs/acs5/profile\" # 5-year\n",
    "year = \"2010\"\n",
    "base_url = \"/\".join([HOST, year, dataset])\n",
    "predicates = {}\n",
    "get_vars = [\"GEO_ID\", \"DP03_0062E\", \"DP04_0134E\", \"DP04_0136E\"]\n",
    "# New York City - tract\n",
    "predicates[\"get\"] = \",\".join(get_vars)\n",
    "predicates[\"for\"] = \"tract:*\"\n",
    "predicates[\"in\"] = \"state:36;county:081,047,061,005,085\"\n",
    "\n",
    "dfs = []\n",
    "r = requests.get(base_url, params=predicates)\n",
    "income_rent_2010 = pd.DataFrame(columns=r.json()[0], data=r.json()[1:])"
   ],
   "metadata": {
    "collapsed": false,
    "pycharm": {
     "name": "#%%\n"
    }
   }
  },
  {
   "cell_type": "code",
   "source": [
    "income_rent_2010.rename(columns = {'DP03_0062E':'MEDIAN_HOUSEHOLD_INCOME_2010', 'DP04_0136E':'GROSS_RENT_MEDIAN_INCOME_PERCENTAGE_2010', 'DP04_0134E':'MEDIAN_RENT_2010'}, inplace = True)\n",
    "income_rent_2010['GEO_ID'] = income_rent_2010['GEO_ID'].apply(lambda s:str(s)[9:])\n",
    "income_rent_2010.head()\n",
    "income_rent_2010['MEDIAN_HOUSEHOLD_INCOME_2010'].describe()\n",
    "print(income_rent_2010.dtypes)"
   ],
   "metadata": {
    "collapsed": false,
    "pycharm": {
     "name": "#%%\n"
    }
   },
   "execution_count": 10,
   "outputs": [
    {
     "name": "stdout",
     "output_type": "stream",
     "text": [
      "GEO_ID                                      object\n",
      "MEDIAN_HOUSEHOLD_INCOME_2010                object\n",
      "MEDIAN_RENT_2010                            object\n",
      "GROSS_RENT_MEDIAN_INCOME_PERCENTAGE_2010    object\n",
      "state                                       object\n",
      "county                                      object\n",
      "tract                                       object\n",
      "dtype: object\n"
     ]
    }
   ]
  },
  {
   "cell_type": "code",
   "execution_count": 13,
   "outputs": [
    {
     "data": {
      "text/plain": "(2168, 7)"
     },
     "execution_count": 13,
     "metadata": {},
     "output_type": "execute_result"
    }
   ],
   "source": [
    "income_rent_2010.head()\n",
    "income_rent_2010.shape"
   ],
   "metadata": {
    "collapsed": false,
    "pycharm": {
     "name": "#%%\n"
    }
   }
  },
  {
   "cell_type": "code",
   "execution_count": 14,
   "outputs": [
    {
     "name": "stdout",
     "output_type": "stream",
     "text": [
      "2168\n"
     ]
    }
   ],
   "source": [
    "print(len(income_rent_2010))\n",
    "income_rent_2010.to_csv('income_rent_2010.csv')"
   ],
   "metadata": {
    "collapsed": false,
    "pycharm": {
     "name": "#%%\n"
    }
   }
  },
  {
   "cell_type": "markdown",
   "source": [
    "Reference:\n",
    "`data-analysis/docs/ACS/ACS Data Description.md`"
   ],
   "metadata": {
    "collapsed": false,
    "pycharm": {
     "name": "#%% md\n"
    }
   }
  },
  {
   "cell_type": "code",
   "source": [
    "HOST = \"https://api.census.gov/data\"\n",
    "dataset = \"acs/acs5/profile\" # 5-year\n",
    "get_vars = [\"GEO_ID\", \"DP03_0062E\", \"DP04_0134E\", \"DP04_0136E\"]\n",
    "predicates = {}\n",
    "# New York City - tract\n",
    "predicates[\"get\"] = \",\".join(get_vars)\n",
    "predicates[\"for\"] = \"tract:*\"\n",
    "predicates[\"in\"] = \"state:36;county:081,047,061,005,085\"\n",
    "\n",
    "# New York City - County\n",
    "# predicates[\"get\"] = \",\".join(get_vars)\n",
    "# predicates[\"for\"] = \"county:081,047,061,005,085\"\n",
    "# predicates[\"in\"] = \"state:36\"\n",
    "\n",
    "# dataframe collector for each year.\n",
    "# Initialize data frame collector\n",
    "dfs = []\n",
    "for year in range(2011, 2018):\n",
    "    base_url = \"/\".join([HOST, str(year), dataset])\n",
    "    r = requests.get(base_url, params=predicates)\n",
    "    df = pd.DataFrame(columns=r.json()[0], data=r.json()[1:])\n",
    "    # Add column to hold year value\n",
    "    df[\"year\"] = year\n",
    "    dfs.append(df)\n",
    "# Concatenate all data frames in collector\n",
    "income_rent = pd.concat(dfs)\n",
    "\n",
    "# r = requests.get(base_url, params=predicates)\n",
    "# print(r.text)"
   ],
   "metadata": {
    "collapsed": false,
    "pycharm": {
     "name": "#%%\n"
    }
   },
   "execution_count": 12,
   "outputs": []
  },
  {
   "cell_type": "code",
   "execution_count": 13,
   "outputs": [
    {
     "data": {
      "text/plain": "                                          NAME                GEO_ID  \\\n0     Census Tract 426, Bronx County, New York  1400000US36005042600   \n1     Census Tract 428, Bronx County, New York  1400000US36005042800   \n2  Census Tract 429.01, Bronx County, New York  1400000US36005042901   \n3  Census Tract 429.02, Bronx County, New York  1400000US36005042902   \n4     Census Tract 430, Bronx County, New York  1400000US36005043000   \n\n  DP03_0062E DP04_0134E state county   tract  year  \n0      67540        558    36    005  042600  2011  \n1      69274        217    36    005  042800  2011  \n2      31000       1020    36    005  042901  2011  \n3      30481       1134    36    005  042902  2011  \n4      45096        289    36    005  043000  2011  ",
      "text/html": "<div>\n<style scoped>\n    .dataframe tbody tr th:only-of-type {\n        vertical-align: middle;\n    }\n\n    .dataframe tbody tr th {\n        vertical-align: top;\n    }\n\n    .dataframe thead th {\n        text-align: right;\n    }\n</style>\n<table border=\"1\" class=\"dataframe\">\n  <thead>\n    <tr style=\"text-align: right;\">\n      <th></th>\n      <th>NAME</th>\n      <th>GEO_ID</th>\n      <th>DP03_0062E</th>\n      <th>DP04_0134E</th>\n      <th>state</th>\n      <th>county</th>\n      <th>tract</th>\n      <th>year</th>\n    </tr>\n  </thead>\n  <tbody>\n    <tr>\n      <th>0</th>\n      <td>Census Tract 426, Bronx County, New York</td>\n      <td>1400000US36005042600</td>\n      <td>67540</td>\n      <td>558</td>\n      <td>36</td>\n      <td>005</td>\n      <td>042600</td>\n      <td>2011</td>\n    </tr>\n    <tr>\n      <th>1</th>\n      <td>Census Tract 428, Bronx County, New York</td>\n      <td>1400000US36005042800</td>\n      <td>69274</td>\n      <td>217</td>\n      <td>36</td>\n      <td>005</td>\n      <td>042800</td>\n      <td>2011</td>\n    </tr>\n    <tr>\n      <th>2</th>\n      <td>Census Tract 429.01, Bronx County, New York</td>\n      <td>1400000US36005042901</td>\n      <td>31000</td>\n      <td>1020</td>\n      <td>36</td>\n      <td>005</td>\n      <td>042901</td>\n      <td>2011</td>\n    </tr>\n    <tr>\n      <th>3</th>\n      <td>Census Tract 429.02, Bronx County, New York</td>\n      <td>1400000US36005042902</td>\n      <td>30481</td>\n      <td>1134</td>\n      <td>36</td>\n      <td>005</td>\n      <td>042902</td>\n      <td>2011</td>\n    </tr>\n    <tr>\n      <th>4</th>\n      <td>Census Tract 430, Bronx County, New York</td>\n      <td>1400000US36005043000</td>\n      <td>45096</td>\n      <td>289</td>\n      <td>36</td>\n      <td>005</td>\n      <td>043000</td>\n      <td>2011</td>\n    </tr>\n  </tbody>\n</table>\n</div>"
     },
     "execution_count": 13,
     "metadata": {},
     "output_type": "execute_result"
    }
   ],
   "source": [
    "income_rent.head()"
   ],
   "metadata": {
    "collapsed": false,
    "pycharm": {
     "name": "#%%\n"
    }
   }
  },
  {
   "cell_type": "code",
   "execution_count": 14,
   "outputs": [
    {
     "name": "stdout",
     "output_type": "stream",
     "text": [
      "1896.125\n"
     ]
    }
   ],
   "source": [
    "print(len(income_rent)/8)\n"
   ],
   "metadata": {
    "collapsed": false,
    "pycharm": {
     "name": "#%%\n"
    }
   }
  },
  {
   "cell_type": "code",
   "execution_count": null,
   "outputs": [],
   "source": [],
   "metadata": {
    "collapsed": false,
    "pycharm": {
     "name": "#%%\n"
    }
   }
  }
 ],
 "metadata": {
  "kernelspec": {
   "display_name": "Python 3",
   "language": "python",
   "name": "python3"
  },
  "language_info": {
   "codemirror_mode": {
    "name": "ipython",
    "version": 2
   },
   "file_extension": ".py",
   "mimetype": "text/x-python",
   "name": "python",
   "nbconvert_exporter": "python",
   "pygments_lexer": "ipython2",
   "version": "2.7.6"
  }
 },
 "nbformat": 4,
 "nbformat_minor": 0
}