{
 "cells": [
  {
   "cell_type": "code",
   "execution_count": 1,
   "metadata": {},
   "outputs": [],
   "source": [
    "import geopandas\n",
    "import pandas as pd\n",
    "import numpy as np\n",
    "import matplotlib as plt"
   ]
  },
  {
   "cell_type": "code",
   "execution_count": 2,
   "metadata": {
    "pycharm": {
     "name": "#%%\n"
    }
   },
   "outputs": [],
   "source": [
    "tract = geopandas.read_file('Clean Data/geo_nyc_tract.geojson')\n",
    "tract['GEO_ID'] = tract['GEO_ID'].apply(int)"
   ]
  },
  {
   "cell_type": "code",
   "execution_count": 4,
   "metadata": {
    "pycharm": {
     "name": "#%%\n"
    }
   },
   "outputs": [
    {
     "data": {
      "text/plain": "        GEO_ID   nta                                         nta_name  \\\n0  36005000100  BX98                                    Rikers Island   \n1  36005000200  BX09  Soundview-Castle Hill-Clason Point-Harding Park   \n2  36005000400  BX09  Soundview-Castle Hill-Clason Point-Harding Park   \n3  36005001600  BX09  Soundview-Castle Hill-Clason Point-Harding Park   \n4  36005001900  BX39                           Mott Haven-Port Morris   \n\n                                            geometry  \n0  POLYGON ((1019965.737 226696.334, 1019943.935 ...  \n1  POLYGON ((1021558.247 236060.696, 1021824.736 ...  \n2  MULTIPOLYGON (((1023113.723 236337.849, 102336...  \n3  POLYGON ((1022690.148 238650.346, 1022944.985 ...  \n4  MULTIPOLYGON (((1003183.626 233654.444, 100336...  ",
      "text/html": "<div>\n<style scoped>\n    .dataframe tbody tr th:only-of-type {\n        vertical-align: middle;\n    }\n\n    .dataframe tbody tr th {\n        vertical-align: top;\n    }\n\n    .dataframe thead th {\n        text-align: right;\n    }\n</style>\n<table border=\"1\" class=\"dataframe\">\n  <thead>\n    <tr style=\"text-align: right;\">\n      <th></th>\n      <th>GEO_ID</th>\n      <th>nta</th>\n      <th>nta_name</th>\n      <th>geometry</th>\n    </tr>\n  </thead>\n  <tbody>\n    <tr>\n      <th>0</th>\n      <td>36005000100</td>\n      <td>BX98</td>\n      <td>Rikers Island</td>\n      <td>POLYGON ((1019965.737 226696.334, 1019943.935 ...</td>\n    </tr>\n    <tr>\n      <th>1</th>\n      <td>36005000200</td>\n      <td>BX09</td>\n      <td>Soundview-Castle Hill-Clason Point-Harding Park</td>\n      <td>POLYGON ((1021558.247 236060.696, 1021824.736 ...</td>\n    </tr>\n    <tr>\n      <th>2</th>\n      <td>36005000400</td>\n      <td>BX09</td>\n      <td>Soundview-Castle Hill-Clason Point-Harding Park</td>\n      <td>MULTIPOLYGON (((1023113.723 236337.849, 102336...</td>\n    </tr>\n    <tr>\n      <th>3</th>\n      <td>36005001600</td>\n      <td>BX09</td>\n      <td>Soundview-Castle Hill-Clason Point-Harding Park</td>\n      <td>POLYGON ((1022690.148 238650.346, 1022944.985 ...</td>\n    </tr>\n    <tr>\n      <th>4</th>\n      <td>36005001900</td>\n      <td>BX39</td>\n      <td>Mott Haven-Port Morris</td>\n      <td>MULTIPOLYGON (((1003183.626 233654.444, 100336...</td>\n    </tr>\n  </tbody>\n</table>\n</div>"
     },
     "execution_count": 4,
     "metadata": {},
     "output_type": "execute_result"
    }
   ],
   "source": [
    "tract.head()\n",
    "# print(len(tract))   # 2164"
   ]
  },
  {
   "cell_type": "code",
   "execution_count": 8,
   "metadata": {
    "pycharm": {
     "name": "#%%\n"
    }
   },
   "outputs": [
    {
     "data": {
      "text/plain": "        GEO_ID                                      NAME  county  state  \\\n0  36005039000  Census Tract 390, Bronx County, New York       5     36   \n1  36005039100  Census Tract 391, Bronx County, New York       5     36   \n2  36005039200  Census Tract 392, Bronx County, New York       5     36   \n3  36005039300  Census Tract 393, Bronx County, New York       5     36   \n4  36005039400  Census Tract 394, Bronx County, New York       5     36   \n\n   tract  medium_income_2010  medium_income_2011  medium_income_2012  \\\n0  39000               35729               34010               34750   \n1  39100               22081               23804               24010   \n2  39200               57000               30577               31917   \n3  39300               17988               16825               15875   \n4  39400               35329               34759               38365   \n\n   medium_income_2013  medium_income_2014  medium_income_2015  \\\n0               35037               34531               32364   \n1               24193               24043               30661   \n2               32386               35515               39457   \n3               16949               19025               20891   \n4               39157               34348               33708   \n\n   medium_income_2016  medium_income_2017  medium_income_2018  \n0               32438               35313               42011  \n1               31238               33020               32298  \n2               40054               40282               44375  \n3               21587               21651               21370  \n4               34517               31738               34355  ",
      "text/html": "<div>\n<style scoped>\n    .dataframe tbody tr th:only-of-type {\n        vertical-align: middle;\n    }\n\n    .dataframe tbody tr th {\n        vertical-align: top;\n    }\n\n    .dataframe thead th {\n        text-align: right;\n    }\n</style>\n<table border=\"1\" class=\"dataframe\">\n  <thead>\n    <tr style=\"text-align: right;\">\n      <th></th>\n      <th>GEO_ID</th>\n      <th>NAME</th>\n      <th>county</th>\n      <th>state</th>\n      <th>tract</th>\n      <th>medium_income_2010</th>\n      <th>medium_income_2011</th>\n      <th>medium_income_2012</th>\n      <th>medium_income_2013</th>\n      <th>medium_income_2014</th>\n      <th>medium_income_2015</th>\n      <th>medium_income_2016</th>\n      <th>medium_income_2017</th>\n      <th>medium_income_2018</th>\n    </tr>\n  </thead>\n  <tbody>\n    <tr>\n      <th>0</th>\n      <td>36005039000</td>\n      <td>Census Tract 390, Bronx County, New York</td>\n      <td>5</td>\n      <td>36</td>\n      <td>39000</td>\n      <td>35729</td>\n      <td>34010</td>\n      <td>34750</td>\n      <td>35037</td>\n      <td>34531</td>\n      <td>32364</td>\n      <td>32438</td>\n      <td>35313</td>\n      <td>42011</td>\n    </tr>\n    <tr>\n      <th>1</th>\n      <td>36005039100</td>\n      <td>Census Tract 391, Bronx County, New York</td>\n      <td>5</td>\n      <td>36</td>\n      <td>39100</td>\n      <td>22081</td>\n      <td>23804</td>\n      <td>24010</td>\n      <td>24193</td>\n      <td>24043</td>\n      <td>30661</td>\n      <td>31238</td>\n      <td>33020</td>\n      <td>32298</td>\n    </tr>\n    <tr>\n      <th>2</th>\n      <td>36005039200</td>\n      <td>Census Tract 392, Bronx County, New York</td>\n      <td>5</td>\n      <td>36</td>\n      <td>39200</td>\n      <td>57000</td>\n      <td>30577</td>\n      <td>31917</td>\n      <td>32386</td>\n      <td>35515</td>\n      <td>39457</td>\n      <td>40054</td>\n      <td>40282</td>\n      <td>44375</td>\n    </tr>\n    <tr>\n      <th>3</th>\n      <td>36005039300</td>\n      <td>Census Tract 393, Bronx County, New York</td>\n      <td>5</td>\n      <td>36</td>\n      <td>39300</td>\n      <td>17988</td>\n      <td>16825</td>\n      <td>15875</td>\n      <td>16949</td>\n      <td>19025</td>\n      <td>20891</td>\n      <td>21587</td>\n      <td>21651</td>\n      <td>21370</td>\n    </tr>\n    <tr>\n      <th>4</th>\n      <td>36005039400</td>\n      <td>Census Tract 394, Bronx County, New York</td>\n      <td>5</td>\n      <td>36</td>\n      <td>39400</td>\n      <td>35329</td>\n      <td>34759</td>\n      <td>38365</td>\n      <td>39157</td>\n      <td>34348</td>\n      <td>33708</td>\n      <td>34517</td>\n      <td>31738</td>\n      <td>34355</td>\n    </tr>\n  </tbody>\n</table>\n</div>"
     },
     "execution_count": 8,
     "metadata": {},
     "output_type": "execute_result"
    }
   ],
   "source": [
    "median_income = pd.read_csv('Clean Data/medium_income.csv', index_col=0)\n",
    "median_income.head()"
   ]
  },
  {
   "cell_type": "code",
   "execution_count": 12,
   "metadata": {
    "pycharm": {
     "name": "#%%\n"
    }
   },
   "outputs": [
    {
     "data": {
      "text/plain": "        GEO_ID   nta                                         nta_name  \\\n0  36005000100  BX98                                    Rikers Island   \n1  36005000200  BX09  Soundview-Castle Hill-Clason Point-Harding Park   \n2  36005000400  BX09  Soundview-Castle Hill-Clason Point-Harding Park   \n3  36005001600  BX09  Soundview-Castle Hill-Clason Point-Harding Park   \n4  36005001900  BX39                           Mott Haven-Port Morris   \n\n                                            geometry  \\\n0  POLYGON ((1019965.737 226696.334, 1019943.935 ...   \n1  POLYGON ((1021558.247 236060.696, 1021824.736 ...   \n2  MULTIPOLYGON (((1023113.723 236337.849, 102336...   \n3  POLYGON ((1022690.148 238650.346, 1022944.985 ...   \n4  MULTIPOLYGON (((1003183.626 233654.444, 100336...   \n\n                                      NAME  county  state  tract  \\\n0   Census Tract 1, Bronx County, New York       5     36    100   \n1   Census Tract 2, Bronx County, New York       5     36    200   \n2   Census Tract 4, Bronx County, New York       5     36    400   \n3  Census Tract 16, Bronx County, New York       5     36   1600   \n4  Census Tract 19, Bronx County, New York       5     36   1900   \n\n   medium_income_2010  medium_income_2011  medium_income_2012  \\\n0          -666666666          -666666666          -666666666   \n1               59826               63449               71250   \n2               71968               75729               75833   \n3               30355               33910               32328   \n4               25093               26291               29491   \n\n   medium_income_2013  medium_income_2014  medium_income_2015  \\\n0          -666666666          -666666666          -666666666   \n1               69514               74837               72034   \n2               73036               77991               74836   \n3               30817               32354               32312   \n4               33862               34635               37936   \n\n   medium_income_2016  medium_income_2017  medium_income_2018  \n0          -666666666          -666666666          -666666666  \n1               70893               62773               59914  \n2               76667               82697               82073  \n3               31540               33118               35802  \n4               39130               40117               42075  ",
      "text/html": "<div>\n<style scoped>\n    .dataframe tbody tr th:only-of-type {\n        vertical-align: middle;\n    }\n\n    .dataframe tbody tr th {\n        vertical-align: top;\n    }\n\n    .dataframe thead th {\n        text-align: right;\n    }\n</style>\n<table border=\"1\" class=\"dataframe\">\n  <thead>\n    <tr style=\"text-align: right;\">\n      <th></th>\n      <th>GEO_ID</th>\n      <th>nta</th>\n      <th>nta_name</th>\n      <th>geometry</th>\n      <th>NAME</th>\n      <th>county</th>\n      <th>state</th>\n      <th>tract</th>\n      <th>medium_income_2010</th>\n      <th>medium_income_2011</th>\n      <th>medium_income_2012</th>\n      <th>medium_income_2013</th>\n      <th>medium_income_2014</th>\n      <th>medium_income_2015</th>\n      <th>medium_income_2016</th>\n      <th>medium_income_2017</th>\n      <th>medium_income_2018</th>\n    </tr>\n  </thead>\n  <tbody>\n    <tr>\n      <th>0</th>\n      <td>36005000100</td>\n      <td>BX98</td>\n      <td>Rikers Island</td>\n      <td>POLYGON ((1019965.737 226696.334, 1019943.935 ...</td>\n      <td>Census Tract 1, Bronx County, New York</td>\n      <td>5</td>\n      <td>36</td>\n      <td>100</td>\n      <td>-666666666</td>\n      <td>-666666666</td>\n      <td>-666666666</td>\n      <td>-666666666</td>\n      <td>-666666666</td>\n      <td>-666666666</td>\n      <td>-666666666</td>\n      <td>-666666666</td>\n      <td>-666666666</td>\n    </tr>\n    <tr>\n      <th>1</th>\n      <td>36005000200</td>\n      <td>BX09</td>\n      <td>Soundview-Castle Hill-Clason Point-Harding Park</td>\n      <td>POLYGON ((1021558.247 236060.696, 1021824.736 ...</td>\n      <td>Census Tract 2, Bronx County, New York</td>\n      <td>5</td>\n      <td>36</td>\n      <td>200</td>\n      <td>59826</td>\n      <td>63449</td>\n      <td>71250</td>\n      <td>69514</td>\n      <td>74837</td>\n      <td>72034</td>\n      <td>70893</td>\n      <td>62773</td>\n      <td>59914</td>\n    </tr>\n    <tr>\n      <th>2</th>\n      <td>36005000400</td>\n      <td>BX09</td>\n      <td>Soundview-Castle Hill-Clason Point-Harding Park</td>\n      <td>MULTIPOLYGON (((1023113.723 236337.849, 102336...</td>\n      <td>Census Tract 4, Bronx County, New York</td>\n      <td>5</td>\n      <td>36</td>\n      <td>400</td>\n      <td>71968</td>\n      <td>75729</td>\n      <td>75833</td>\n      <td>73036</td>\n      <td>77991</td>\n      <td>74836</td>\n      <td>76667</td>\n      <td>82697</td>\n      <td>82073</td>\n    </tr>\n    <tr>\n      <th>3</th>\n      <td>36005001600</td>\n      <td>BX09</td>\n      <td>Soundview-Castle Hill-Clason Point-Harding Park</td>\n      <td>POLYGON ((1022690.148 238650.346, 1022944.985 ...</td>\n      <td>Census Tract 16, Bronx County, New York</td>\n      <td>5</td>\n      <td>36</td>\n      <td>1600</td>\n      <td>30355</td>\n      <td>33910</td>\n      <td>32328</td>\n      <td>30817</td>\n      <td>32354</td>\n      <td>32312</td>\n      <td>31540</td>\n      <td>33118</td>\n      <td>35802</td>\n    </tr>\n    <tr>\n      <th>4</th>\n      <td>36005001900</td>\n      <td>BX39</td>\n      <td>Mott Haven-Port Morris</td>\n      <td>MULTIPOLYGON (((1003183.626 233654.444, 100336...</td>\n      <td>Census Tract 19, Bronx County, New York</td>\n      <td>5</td>\n      <td>36</td>\n      <td>1900</td>\n      <td>25093</td>\n      <td>26291</td>\n      <td>29491</td>\n      <td>33862</td>\n      <td>34635</td>\n      <td>37936</td>\n      <td>39130</td>\n      <td>40117</td>\n      <td>42075</td>\n    </tr>\n  </tbody>\n</table>\n</div>"
     },
     "execution_count": 12,
     "metadata": {},
     "output_type": "execute_result"
    }
   ],
   "source": [
    "geo_median_income = pd.merge(tract, median_income, how='inner', on='GEO_ID')\n",
    "geo_median_income.head()\n"
   ]
  },
  {
   "cell_type": "code",
   "execution_count": 13,
   "metadata": {
    "pycharm": {
     "name": "#%%\n"
    }
   },
   "outputs": [],
   "source": [
    "geo_median_income.to_file('geo_median_income.geojson',driver='GeoJSON')\n"
   ]
  }
 ],
 "metadata": {
  "kernelspec": {
   "display_name": "Python 3",
   "language": "python",
   "name": "python3"
  },
  "language_info": {
   "codemirror_mode": {
    "name": "ipython",
    "version": 3
   },
   "file_extension": ".py",
   "mimetype": "text/x-python",
   "name": "python",
   "nbconvert_exporter": "python",
   "pygments_lexer": "ipython3",
   "version": "3.8.2"
  }
 },
 "nbformat": 4,
 "nbformat_minor": 1
}