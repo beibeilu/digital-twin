{
 "cells": [
  {
   "cell_type": "code",
   "execution_count": 1,
   "metadata": {
    "collapsed": true
   },
   "outputs": [],
   "source": [
    "import geopandas\n",
    "import pandas as pd\n",
    "import numpy as np\n",
    "import matplotlib as plt"
   ]
  },
  {
   "cell_type": "code",
   "execution_count": 2,
   "outputs": [
    {
     "data": {
      "text/plain": "         GEOID        County first_4_digits  boro  \\\n0  36005000100  Bronx County           3600  5000   \n1  36005000200  Bronx County           3600  5000   \n2  36005000400  Bronx County           3600  5000   \n3  36005001600  Bronx County           3600  5001   \n4  36005001900  Bronx County           3600  5001   \n\n                                            geometry  \n0  POLYGON ((-8223304.523 4981044.586, -8223307.3...  \n1  POLYGON ((-8221503.700 4983296.896, -8221648.4...  \n2  MULTIPOLYGON (((-8221072.012 4985004.760, -822...  \n3  POLYGON ((-8221516.289 4986187.406, -8221497.4...  \n4  MULTIPOLYGON (((-8226302.917 4982445.645, -822...  ",
      "text/html": "<div>\n<style scoped>\n    .dataframe tbody tr th:only-of-type {\n        vertical-align: middle;\n    }\n\n    .dataframe tbody tr th {\n        vertical-align: top;\n    }\n\n    .dataframe thead th {\n        text-align: right;\n    }\n</style>\n<table border=\"1\" class=\"dataframe\">\n  <thead>\n    <tr style=\"text-align: right;\">\n      <th></th>\n      <th>GEOID</th>\n      <th>County</th>\n      <th>first_4_digits</th>\n      <th>boro</th>\n      <th>geometry</th>\n    </tr>\n  </thead>\n  <tbody>\n    <tr>\n      <th>0</th>\n      <td>36005000100</td>\n      <td>Bronx County</td>\n      <td>3600</td>\n      <td>5000</td>\n      <td>POLYGON ((-8223304.523 4981044.586, -8223307.3...</td>\n    </tr>\n    <tr>\n      <th>1</th>\n      <td>36005000200</td>\n      <td>Bronx County</td>\n      <td>3600</td>\n      <td>5000</td>\n      <td>POLYGON ((-8221503.700 4983296.896, -8221648.4...</td>\n    </tr>\n    <tr>\n      <th>2</th>\n      <td>36005000400</td>\n      <td>Bronx County</td>\n      <td>3600</td>\n      <td>5000</td>\n      <td>MULTIPOLYGON (((-8221072.012 4985004.760, -822...</td>\n    </tr>\n    <tr>\n      <th>3</th>\n      <td>36005001600</td>\n      <td>Bronx County</td>\n      <td>3600</td>\n      <td>5001</td>\n      <td>POLYGON ((-8221516.289 4986187.406, -8221497.4...</td>\n    </tr>\n    <tr>\n      <th>4</th>\n      <td>36005001900</td>\n      <td>Bronx County</td>\n      <td>3600</td>\n      <td>5001</td>\n      <td>MULTIPOLYGON (((-8226302.917 4982445.645, -822...</td>\n    </tr>\n  </tbody>\n</table>\n</div>"
     },
     "execution_count": 2,
     "metadata": {},
     "output_type": "execute_result"
    }
   ],
   "source": [
    "tract = geopandas.read_file('Clean Data/census_tract_nyc.geojson')\n",
    "tract.head()"
   ],
   "metadata": {
    "collapsed": false,
    "pycharm": {
     "name": "#%%\n"
    }
   }
  },
  {
   "cell_type": "code",
   "execution_count": 5,
   "outputs": [
    {
     "name": "stdout",
     "output_type": "stream",
     "text": [
      "2164\n"
     ]
    }
   ],
   "source": [
    "print(len(tract))"
   ],
   "metadata": {
    "collapsed": false,
    "pycharm": {
     "name": "#%%\n"
    }
   }
  },
  {
   "cell_type": "code",
   "execution_count": 9,
   "outputs": [
    {
     "data": {
      "text/plain": "        GEO_ID  MEDIAN_HOUSEHOLD_INCOME_2010  MEDIAN_RENT_2010\n0  36005039000                         35729               539\n1  36005039100                         22081              1853\n2  36005039200                         57000               440\n3  36005039300                         17988              3029\n4  36005039400                         35329              1291",
      "text/html": "<div>\n<style scoped>\n    .dataframe tbody tr th:only-of-type {\n        vertical-align: middle;\n    }\n\n    .dataframe tbody tr th {\n        vertical-align: top;\n    }\n\n    .dataframe thead th {\n        text-align: right;\n    }\n</style>\n<table border=\"1\" class=\"dataframe\">\n  <thead>\n    <tr style=\"text-align: right;\">\n      <th></th>\n      <th>GEO_ID</th>\n      <th>MEDIAN_HOUSEHOLD_INCOME_2010</th>\n      <th>MEDIAN_RENT_2010</th>\n    </tr>\n  </thead>\n  <tbody>\n    <tr>\n      <th>0</th>\n      <td>36005039000</td>\n      <td>35729</td>\n      <td>539</td>\n    </tr>\n    <tr>\n      <th>1</th>\n      <td>36005039100</td>\n      <td>22081</td>\n      <td>1853</td>\n    </tr>\n    <tr>\n      <th>2</th>\n      <td>36005039200</td>\n      <td>57000</td>\n      <td>440</td>\n    </tr>\n    <tr>\n      <th>3</th>\n      <td>36005039300</td>\n      <td>17988</td>\n      <td>3029</td>\n    </tr>\n    <tr>\n      <th>4</th>\n      <td>36005039400</td>\n      <td>35329</td>\n      <td>1291</td>\n    </tr>\n  </tbody>\n</table>\n</div>"
     },
     "execution_count": 9,
     "metadata": {},
     "output_type": "execute_result"
    }
   ],
   "source": [
    "income_rent = pd.read_csv('Source/income_rent_2010.csv')\n",
    "# income_rent.head()\n",
    "income_rent = income_rent[['GEO_ID', 'MEDIAN_HOUSEHOLD_INCOME_2010', 'MEDIAN_RENT_2010']]\n",
    "income_rent.head()"
   ],
   "metadata": {
    "collapsed": false,
    "pycharm": {
     "name": "#%%\n"
    }
   }
  },
  {
   "cell_type": "code",
   "execution_count": 10,
   "outputs": [
    {
     "ename": "ValueError",
     "evalue": "You are trying to merge on object and int64 columns. If you wish to proceed you should use pd.concat",
     "output_type": "error",
     "traceback": [
      "\u001B[0;31m---------------------------------------------------------------------------\u001B[0m",
      "\u001B[0;31mValueError\u001B[0m                                Traceback (most recent call last)",
      "\u001B[0;32m<ipython-input-10-ecb4010d0d40>\u001B[0m in \u001B[0;36m<module>\u001B[0;34m\u001B[0m\n\u001B[0;32m----> 1\u001B[0;31m \u001B[0mtract_income_rent\u001B[0m \u001B[0;34m=\u001B[0m \u001B[0mpd\u001B[0m\u001B[0;34m.\u001B[0m\u001B[0mmerge\u001B[0m\u001B[0;34m(\u001B[0m\u001B[0mtract\u001B[0m\u001B[0;34m,\u001B[0m \u001B[0mincome_rent\u001B[0m\u001B[0;34m,\u001B[0m \u001B[0mhow\u001B[0m\u001B[0;34m=\u001B[0m\u001B[0;34m'inner'\u001B[0m\u001B[0;34m,\u001B[0m \u001B[0mleft_on\u001B[0m\u001B[0;34m=\u001B[0m\u001B[0;34m'GEOID'\u001B[0m\u001B[0;34m,\u001B[0m \u001B[0mright_on\u001B[0m\u001B[0;34m=\u001B[0m\u001B[0;34m'GEO_ID'\u001B[0m\u001B[0;34m)\u001B[0m\u001B[0;34m.\u001B[0m\u001B[0mdrop\u001B[0m\u001B[0;34m(\u001B[0m\u001B[0mcolumns\u001B[0m\u001B[0;34m=\u001B[0m\u001B[0;34m'GEO_ID'\u001B[0m\u001B[0;34m)\u001B[0m\u001B[0;34m\u001B[0m\u001B[0;34m\u001B[0m\u001B[0m\n\u001B[0m",
      "\u001B[0;32m/usr/local/anaconda3/envs/py38/lib/python3.8/site-packages/pandas/core/reshape/merge.py\u001B[0m in \u001B[0;36mmerge\u001B[0;34m(left, right, how, on, left_on, right_on, left_index, right_index, sort, suffixes, copy, indicator, validate)\u001B[0m\n\u001B[1;32m     72\u001B[0m     \u001B[0mvalidate\u001B[0m\u001B[0;34m=\u001B[0m\u001B[0;32mNone\u001B[0m\u001B[0;34m,\u001B[0m\u001B[0;34m\u001B[0m\u001B[0;34m\u001B[0m\u001B[0m\n\u001B[1;32m     73\u001B[0m ) -> \"DataFrame\":\n\u001B[0;32m---> 74\u001B[0;31m     op = _MergeOperation(\n\u001B[0m\u001B[1;32m     75\u001B[0m         \u001B[0mleft\u001B[0m\u001B[0;34m,\u001B[0m\u001B[0;34m\u001B[0m\u001B[0;34m\u001B[0m\u001B[0m\n\u001B[1;32m     76\u001B[0m         \u001B[0mright\u001B[0m\u001B[0;34m,\u001B[0m\u001B[0;34m\u001B[0m\u001B[0;34m\u001B[0m\u001B[0m\n",
      "\u001B[0;32m/usr/local/anaconda3/envs/py38/lib/python3.8/site-packages/pandas/core/reshape/merge.py\u001B[0m in \u001B[0;36m__init__\u001B[0;34m(self, left, right, how, on, left_on, right_on, axis, left_index, right_index, sort, suffixes, copy, indicator, validate)\u001B[0m\n\u001B[1;32m    654\u001B[0m         \u001B[0;31m# validate the merge keys dtypes. We may need to coerce\u001B[0m\u001B[0;34m\u001B[0m\u001B[0;34m\u001B[0m\u001B[0;34m\u001B[0m\u001B[0m\n\u001B[1;32m    655\u001B[0m         \u001B[0;31m# to avoid incompatible dtypes\u001B[0m\u001B[0;34m\u001B[0m\u001B[0;34m\u001B[0m\u001B[0;34m\u001B[0m\u001B[0m\n\u001B[0;32m--> 656\u001B[0;31m         \u001B[0mself\u001B[0m\u001B[0;34m.\u001B[0m\u001B[0m_maybe_coerce_merge_keys\u001B[0m\u001B[0;34m(\u001B[0m\u001B[0;34m)\u001B[0m\u001B[0;34m\u001B[0m\u001B[0;34m\u001B[0m\u001B[0m\n\u001B[0m\u001B[1;32m    657\u001B[0m \u001B[0;34m\u001B[0m\u001B[0m\n\u001B[1;32m    658\u001B[0m         \u001B[0;31m# If argument passed to validate,\u001B[0m\u001B[0;34m\u001B[0m\u001B[0;34m\u001B[0m\u001B[0;34m\u001B[0m\u001B[0m\n",
      "\u001B[0;32m/usr/local/anaconda3/envs/py38/lib/python3.8/site-packages/pandas/core/reshape/merge.py\u001B[0m in \u001B[0;36m_maybe_coerce_merge_keys\u001B[0;34m(self)\u001B[0m\n\u001B[1;32m   1163\u001B[0m                     \u001B[0minferred_right\u001B[0m \u001B[0;32min\u001B[0m \u001B[0mstring_types\u001B[0m \u001B[0;32mand\u001B[0m \u001B[0minferred_left\u001B[0m \u001B[0;32mnot\u001B[0m \u001B[0;32min\u001B[0m \u001B[0mstring_types\u001B[0m\u001B[0;34m\u001B[0m\u001B[0;34m\u001B[0m\u001B[0m\n\u001B[1;32m   1164\u001B[0m                 ):\n\u001B[0;32m-> 1165\u001B[0;31m                     \u001B[0;32mraise\u001B[0m \u001B[0mValueError\u001B[0m\u001B[0;34m(\u001B[0m\u001B[0mmsg\u001B[0m\u001B[0;34m)\u001B[0m\u001B[0;34m\u001B[0m\u001B[0;34m\u001B[0m\u001B[0m\n\u001B[0m\u001B[1;32m   1166\u001B[0m \u001B[0;34m\u001B[0m\u001B[0m\n\u001B[1;32m   1167\u001B[0m             \u001B[0;31m# datetimelikes must match exactly\u001B[0m\u001B[0;34m\u001B[0m\u001B[0;34m\u001B[0m\u001B[0;34m\u001B[0m\u001B[0m\n",
      "\u001B[0;31mValueError\u001B[0m: You are trying to merge on object and int64 columns. If you wish to proceed you should use pd.concat"
     ]
    }
   ],
   "source": [],
   "metadata": {
    "collapsed": false,
    "pycharm": {
     "name": "#%%\n"
    }
   }
  },
  {
   "cell_type": "code",
   "execution_count": 13,
   "outputs": [
    {
     "name": "stdout",
     "output_type": "stream",
     "text": [
      "GEO_ID                          int64\n",
      "MEDIAN_HOUSEHOLD_INCOME_2010    int64\n",
      "MEDIAN_RENT_2010                int64\n",
      "dtype: object\n"
     ]
    },
    {
     "ename": "ValueError",
     "evalue": "You are trying to merge on object and int64 columns. If you wish to proceed you should use pd.concat",
     "output_type": "error",
     "traceback": [
      "\u001B[0;31m---------------------------------------------------------------------------\u001B[0m",
      "\u001B[0;31mValueError\u001B[0m                                Traceback (most recent call last)",
      "\u001B[0;32m<ipython-input-13-43cc054d867e>\u001B[0m in \u001B[0;36m<module>\u001B[0;34m\u001B[0m\n\u001B[1;32m      1\u001B[0m \u001B[0mprint\u001B[0m\u001B[0;34m(\u001B[0m\u001B[0mincome_rent\u001B[0m\u001B[0;34m.\u001B[0m\u001B[0mdtypes\u001B[0m\u001B[0;34m)\u001B[0m\u001B[0;34m\u001B[0m\u001B[0;34m\u001B[0m\u001B[0m\n\u001B[0;32m----> 2\u001B[0;31m \u001B[0mtract_income_rent\u001B[0m \u001B[0;34m=\u001B[0m \u001B[0mpd\u001B[0m\u001B[0;34m.\u001B[0m\u001B[0mmerge\u001B[0m\u001B[0;34m(\u001B[0m\u001B[0mtract\u001B[0m\u001B[0;34m,\u001B[0m \u001B[0mincome_rent\u001B[0m\u001B[0;34m,\u001B[0m \u001B[0mhow\u001B[0m\u001B[0;34m=\u001B[0m\u001B[0;34m'inner'\u001B[0m\u001B[0;34m,\u001B[0m \u001B[0mleft_on\u001B[0m\u001B[0;34m=\u001B[0m\u001B[0;34m'GEOID'\u001B[0m\u001B[0;34m,\u001B[0m \u001B[0mright_on\u001B[0m\u001B[0;34m=\u001B[0m\u001B[0;34m'GEO_ID'\u001B[0m\u001B[0;34m)\u001B[0m\u001B[0;34m.\u001B[0m\u001B[0mdrop\u001B[0m\u001B[0;34m(\u001B[0m\u001B[0mcolumns\u001B[0m\u001B[0;34m=\u001B[0m\u001B[0;34m'GEO_ID'\u001B[0m\u001B[0;34m)\u001B[0m\u001B[0;34m\u001B[0m\u001B[0;34m\u001B[0m\u001B[0m\n\u001B[0m",
      "\u001B[0;32m/usr/local/anaconda3/envs/py38/lib/python3.8/site-packages/pandas/core/reshape/merge.py\u001B[0m in \u001B[0;36mmerge\u001B[0;34m(left, right, how, on, left_on, right_on, left_index, right_index, sort, suffixes, copy, indicator, validate)\u001B[0m\n\u001B[1;32m     72\u001B[0m     \u001B[0mvalidate\u001B[0m\u001B[0;34m=\u001B[0m\u001B[0;32mNone\u001B[0m\u001B[0;34m,\u001B[0m\u001B[0;34m\u001B[0m\u001B[0;34m\u001B[0m\u001B[0m\n\u001B[1;32m     73\u001B[0m ) -> \"DataFrame\":\n\u001B[0;32m---> 74\u001B[0;31m     op = _MergeOperation(\n\u001B[0m\u001B[1;32m     75\u001B[0m         \u001B[0mleft\u001B[0m\u001B[0;34m,\u001B[0m\u001B[0;34m\u001B[0m\u001B[0;34m\u001B[0m\u001B[0m\n\u001B[1;32m     76\u001B[0m         \u001B[0mright\u001B[0m\u001B[0;34m,\u001B[0m\u001B[0;34m\u001B[0m\u001B[0;34m\u001B[0m\u001B[0m\n",
      "\u001B[0;32m/usr/local/anaconda3/envs/py38/lib/python3.8/site-packages/pandas/core/reshape/merge.py\u001B[0m in \u001B[0;36m__init__\u001B[0;34m(self, left, right, how, on, left_on, right_on, axis, left_index, right_index, sort, suffixes, copy, indicator, validate)\u001B[0m\n\u001B[1;32m    654\u001B[0m         \u001B[0;31m# validate the merge keys dtypes. We may need to coerce\u001B[0m\u001B[0;34m\u001B[0m\u001B[0;34m\u001B[0m\u001B[0;34m\u001B[0m\u001B[0m\n\u001B[1;32m    655\u001B[0m         \u001B[0;31m# to avoid incompatible dtypes\u001B[0m\u001B[0;34m\u001B[0m\u001B[0;34m\u001B[0m\u001B[0;34m\u001B[0m\u001B[0m\n\u001B[0;32m--> 656\u001B[0;31m         \u001B[0mself\u001B[0m\u001B[0;34m.\u001B[0m\u001B[0m_maybe_coerce_merge_keys\u001B[0m\u001B[0;34m(\u001B[0m\u001B[0;34m)\u001B[0m\u001B[0;34m\u001B[0m\u001B[0;34m\u001B[0m\u001B[0m\n\u001B[0m\u001B[1;32m    657\u001B[0m \u001B[0;34m\u001B[0m\u001B[0m\n\u001B[1;32m    658\u001B[0m         \u001B[0;31m# If argument passed to validate,\u001B[0m\u001B[0;34m\u001B[0m\u001B[0;34m\u001B[0m\u001B[0;34m\u001B[0m\u001B[0m\n",
      "\u001B[0;32m/usr/local/anaconda3/envs/py38/lib/python3.8/site-packages/pandas/core/reshape/merge.py\u001B[0m in \u001B[0;36m_maybe_coerce_merge_keys\u001B[0;34m(self)\u001B[0m\n\u001B[1;32m   1163\u001B[0m                     \u001B[0minferred_right\u001B[0m \u001B[0;32min\u001B[0m \u001B[0mstring_types\u001B[0m \u001B[0;32mand\u001B[0m \u001B[0minferred_left\u001B[0m \u001B[0;32mnot\u001B[0m \u001B[0;32min\u001B[0m \u001B[0mstring_types\u001B[0m\u001B[0;34m\u001B[0m\u001B[0;34m\u001B[0m\u001B[0m\n\u001B[1;32m   1164\u001B[0m                 ):\n\u001B[0;32m-> 1165\u001B[0;31m                     \u001B[0;32mraise\u001B[0m \u001B[0mValueError\u001B[0m\u001B[0;34m(\u001B[0m\u001B[0mmsg\u001B[0m\u001B[0;34m)\u001B[0m\u001B[0;34m\u001B[0m\u001B[0;34m\u001B[0m\u001B[0m\n\u001B[0m\u001B[1;32m   1166\u001B[0m \u001B[0;34m\u001B[0m\u001B[0m\n\u001B[1;32m   1167\u001B[0m             \u001B[0;31m# datetimelikes must match exactly\u001B[0m\u001B[0;34m\u001B[0m\u001B[0;34m\u001B[0m\u001B[0;34m\u001B[0m\u001B[0m\n",
      "\u001B[0;31mValueError\u001B[0m: You are trying to merge on object and int64 columns. If you wish to proceed you should use pd.concat"
     ]
    }
   ],
   "source": [
    "print(income_rent.dtypes)\n",
    "# tract_income_rent = pd.merge(tract, income_rent, how='inner', left_on='GEOID', right_on='GEO_ID').drop(columns='GEO_ID')"
   ],
   "metadata": {
    "collapsed": false,
    "pycharm": {
     "name": "#%%\n"
    }
   }
  }
 ],
 "metadata": {
  "kernelspec": {
   "display_name": "Python 3",
   "language": "python",
   "name": "python3"
  },
  "language_info": {
   "codemirror_mode": {
    "name": "ipython",
    "version": 2
   },
   "file_extension": ".py",
   "mimetype": "text/x-python",
   "name": "python",
   "nbconvert_exporter": "python",
   "pygments_lexer": "ipython2",
   "version": "2.7.6"
  }
 },
 "nbformat": 4,
 "nbformat_minor": 0
}