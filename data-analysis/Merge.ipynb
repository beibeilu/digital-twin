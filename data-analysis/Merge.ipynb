{
 "cells": [
  {
   "cell_type": "code",
   "execution_count": 1,
   "metadata": {},
   "outputs": [],
   "source": [
    "import geopandas\n",
    "import pandas as pd\n",
    "import fiona\n",
    "import numpy as np\n",
    "import matplotlib as plt"
   ]
  },
  {
   "cell_type": "code",
   "execution_count": 40,
   "outputs": [
    {
     "data": {
      "text/plain": "pyproj.Proj('+units=m +init=epsg:4326', preserve_units=True)"
     },
     "execution_count": 40,
     "metadata": {},
     "output_type": "execute_result"
    }
   ],
   "source": [
    "import pyproj\n",
    "pyproj.Proj(\"+init=epsg:4326\")"
   ],
   "metadata": {
    "collapsed": false,
    "pycharm": {
     "name": "#%%\n"
    }
   }
  },
  {
   "cell_type": "code",
   "execution_count": 50,
   "outputs": [
    {
     "data": {
      "text/plain": "  STATEFP COUNTYFP TRACTCE        GEOID NAME          NAMELSAD  MTFCC  \\\n0      36      081  044800  36081044800  448  Census Tract 448  G5020   \n1      36      081  045800  36081045800  458  Census Tract 458  G5020   \n2      36      081  046200  36081046200  462  Census Tract 462  G5020   \n3      36      081  046300  36081046300  463  Census Tract 463  G5020   \n4      36      081  046400  36081046400  464  Census Tract 464  G5020   \n\n  FUNCSTAT   ALAND  AWATER     INTPTLAT      INTPTLON  \\\n0        S  208002       0  +40.7110219  -073.8026344   \n1        S  245281       0  +40.7152626  -073.7909261   \n2        S  249611       0  +40.7098547  -073.7879749   \n3        S  159415       0  +40.7440007  -073.8710900   \n4        S  228767       0  +40.7168637  -073.7869958   \n\n                                            geometry  \n0  POLYGON ((-73.80646 40.71206, -73.80556 40.712...  \n1  POLYGON ((-73.79364 40.71382, -73.79362 40.713...  \n2  POLYGON ((-73.79203 40.71107, -73.79101 40.711...  \n3  POLYGON ((-73.87468 40.74335, -73.87423 40.743...  \n4  POLYGON ((-73.79187 40.71379, -73.79085 40.714...  ",
      "text/html": "<div>\n<style scoped>\n    .dataframe tbody tr th:only-of-type {\n        vertical-align: middle;\n    }\n\n    .dataframe tbody tr th {\n        vertical-align: top;\n    }\n\n    .dataframe thead th {\n        text-align: right;\n    }\n</style>\n<table border=\"1\" class=\"dataframe\">\n  <thead>\n    <tr style=\"text-align: right;\">\n      <th></th>\n      <th>STATEFP</th>\n      <th>COUNTYFP</th>\n      <th>TRACTCE</th>\n      <th>GEOID</th>\n      <th>NAME</th>\n      <th>NAMELSAD</th>\n      <th>MTFCC</th>\n      <th>FUNCSTAT</th>\n      <th>ALAND</th>\n      <th>AWATER</th>\n      <th>INTPTLAT</th>\n      <th>INTPTLON</th>\n      <th>geometry</th>\n    </tr>\n  </thead>\n  <tbody>\n    <tr>\n      <th>0</th>\n      <td>36</td>\n      <td>081</td>\n      <td>044800</td>\n      <td>36081044800</td>\n      <td>448</td>\n      <td>Census Tract 448</td>\n      <td>G5020</td>\n      <td>S</td>\n      <td>208002</td>\n      <td>0</td>\n      <td>+40.7110219</td>\n      <td>-073.8026344</td>\n      <td>POLYGON ((-73.80646 40.71206, -73.80556 40.712...</td>\n    </tr>\n    <tr>\n      <th>1</th>\n      <td>36</td>\n      <td>081</td>\n      <td>045800</td>\n      <td>36081045800</td>\n      <td>458</td>\n      <td>Census Tract 458</td>\n      <td>G5020</td>\n      <td>S</td>\n      <td>245281</td>\n      <td>0</td>\n      <td>+40.7152626</td>\n      <td>-073.7909261</td>\n      <td>POLYGON ((-73.79364 40.71382, -73.79362 40.713...</td>\n    </tr>\n    <tr>\n      <th>2</th>\n      <td>36</td>\n      <td>081</td>\n      <td>046200</td>\n      <td>36081046200</td>\n      <td>462</td>\n      <td>Census Tract 462</td>\n      <td>G5020</td>\n      <td>S</td>\n      <td>249611</td>\n      <td>0</td>\n      <td>+40.7098547</td>\n      <td>-073.7879749</td>\n      <td>POLYGON ((-73.79203 40.71107, -73.79101 40.711...</td>\n    </tr>\n    <tr>\n      <th>3</th>\n      <td>36</td>\n      <td>081</td>\n      <td>046300</td>\n      <td>36081046300</td>\n      <td>463</td>\n      <td>Census Tract 463</td>\n      <td>G5020</td>\n      <td>S</td>\n      <td>159415</td>\n      <td>0</td>\n      <td>+40.7440007</td>\n      <td>-073.8710900</td>\n      <td>POLYGON ((-73.87468 40.74335, -73.87423 40.743...</td>\n    </tr>\n    <tr>\n      <th>4</th>\n      <td>36</td>\n      <td>081</td>\n      <td>046400</td>\n      <td>36081046400</td>\n      <td>464</td>\n      <td>Census Tract 464</td>\n      <td>G5020</td>\n      <td>S</td>\n      <td>228767</td>\n      <td>0</td>\n      <td>+40.7168637</td>\n      <td>-073.7869958</td>\n      <td>POLYGON ((-73.79187 40.71379, -73.79085 40.714...</td>\n    </tr>\n  </tbody>\n</table>\n</div>"
     },
     "execution_count": 50,
     "metadata": {},
     "output_type": "execute_result"
    }
   ],
   "source": [
    "# zipfile = \"zip:///Users/name/Downloads/gadm36_AFG_shp.zip!data\"\n",
    "census_tract = geopandas.read_file('Source/tl_2019_36_tract/tl_2019_36_tract.shp')\n",
    "census_tract.head()\n",
    "# census_tract.crs\n",
    "# census_tract = nyu_tract.to_crs('EPSG:4326')\n",
    "# {'init': 'epsg:2263'}\n",
    "# nyu_tract = nyu_tract.to_crs({'init': 'epsg:2263'})\n",
    "# nyu_tract = nyu_tract.to_crs(\"epsg:3395\")"
   ],
   "metadata": {
    "collapsed": false,
    "pycharm": {
     "name": "#%%\n"
    }
   }
  },
  {
   "cell_type": "code",
   "execution_count": 52,
   "outputs": [
    {
     "name": "stdout",
     "output_type": "stream",
     "text": [
      "STATEFP       object\n",
      "COUNTYFP      object\n",
      "TRACTCE       object\n",
      "GEO_ID         int64\n",
      "NAME          object\n",
      "NAMELSAD      object\n",
      "MTFCC         object\n",
      "FUNCSTAT      object\n",
      "ALAND          int64\n",
      "AWATER         int64\n",
      "INTPTLAT      object\n",
      "INTPTLON      object\n",
      "geometry    geometry\n",
      "dtype: object\n"
     ]
    },
    {
     "data": {
      "text/plain": "  STATEFP COUNTYFP TRACTCE       GEO_ID NAME          NAMELSAD  MTFCC  \\\n0      36      081  044800  36081044800  448  Census Tract 448  G5020   \n1      36      081  045800  36081045800  458  Census Tract 458  G5020   \n2      36      081  046200  36081046200  462  Census Tract 462  G5020   \n3      36      081  046300  36081046300  463  Census Tract 463  G5020   \n4      36      081  046400  36081046400  464  Census Tract 464  G5020   \n\n  FUNCSTAT   ALAND  AWATER     INTPTLAT      INTPTLON  \\\n0        S  208002       0  +40.7110219  -073.8026344   \n1        S  245281       0  +40.7152626  -073.7909261   \n2        S  249611       0  +40.7098547  -073.7879749   \n3        S  159415       0  +40.7440007  -073.8710900   \n4        S  228767       0  +40.7168637  -073.7869958   \n\n                                            geometry  \n0  POLYGON ((-73.80646 40.71206, -73.80556 40.712...  \n1  POLYGON ((-73.79364 40.71382, -73.79362 40.713...  \n2  POLYGON ((-73.79203 40.71107, -73.79101 40.711...  \n3  POLYGON ((-73.87468 40.74335, -73.87423 40.743...  \n4  POLYGON ((-73.79187 40.71379, -73.79085 40.714...  ",
      "text/html": "<div>\n<style scoped>\n    .dataframe tbody tr th:only-of-type {\n        vertical-align: middle;\n    }\n\n    .dataframe tbody tr th {\n        vertical-align: top;\n    }\n\n    .dataframe thead th {\n        text-align: right;\n    }\n</style>\n<table border=\"1\" class=\"dataframe\">\n  <thead>\n    <tr style=\"text-align: right;\">\n      <th></th>\n      <th>STATEFP</th>\n      <th>COUNTYFP</th>\n      <th>TRACTCE</th>\n      <th>GEO_ID</th>\n      <th>NAME</th>\n      <th>NAMELSAD</th>\n      <th>MTFCC</th>\n      <th>FUNCSTAT</th>\n      <th>ALAND</th>\n      <th>AWATER</th>\n      <th>INTPTLAT</th>\n      <th>INTPTLON</th>\n      <th>geometry</th>\n    </tr>\n  </thead>\n  <tbody>\n    <tr>\n      <th>0</th>\n      <td>36</td>\n      <td>081</td>\n      <td>044800</td>\n      <td>36081044800</td>\n      <td>448</td>\n      <td>Census Tract 448</td>\n      <td>G5020</td>\n      <td>S</td>\n      <td>208002</td>\n      <td>0</td>\n      <td>+40.7110219</td>\n      <td>-073.8026344</td>\n      <td>POLYGON ((-73.80646 40.71206, -73.80556 40.712...</td>\n    </tr>\n    <tr>\n      <th>1</th>\n      <td>36</td>\n      <td>081</td>\n      <td>045800</td>\n      <td>36081045800</td>\n      <td>458</td>\n      <td>Census Tract 458</td>\n      <td>G5020</td>\n      <td>S</td>\n      <td>245281</td>\n      <td>0</td>\n      <td>+40.7152626</td>\n      <td>-073.7909261</td>\n      <td>POLYGON ((-73.79364 40.71382, -73.79362 40.713...</td>\n    </tr>\n    <tr>\n      <th>2</th>\n      <td>36</td>\n      <td>081</td>\n      <td>046200</td>\n      <td>36081046200</td>\n      <td>462</td>\n      <td>Census Tract 462</td>\n      <td>G5020</td>\n      <td>S</td>\n      <td>249611</td>\n      <td>0</td>\n      <td>+40.7098547</td>\n      <td>-073.7879749</td>\n      <td>POLYGON ((-73.79203 40.71107, -73.79101 40.711...</td>\n    </tr>\n    <tr>\n      <th>3</th>\n      <td>36</td>\n      <td>081</td>\n      <td>046300</td>\n      <td>36081046300</td>\n      <td>463</td>\n      <td>Census Tract 463</td>\n      <td>G5020</td>\n      <td>S</td>\n      <td>159415</td>\n      <td>0</td>\n      <td>+40.7440007</td>\n      <td>-073.8710900</td>\n      <td>POLYGON ((-73.87468 40.74335, -73.87423 40.743...</td>\n    </tr>\n    <tr>\n      <th>4</th>\n      <td>36</td>\n      <td>081</td>\n      <td>046400</td>\n      <td>36081046400</td>\n      <td>464</td>\n      <td>Census Tract 464</td>\n      <td>G5020</td>\n      <td>S</td>\n      <td>228767</td>\n      <td>0</td>\n      <td>+40.7168637</td>\n      <td>-073.7869958</td>\n      <td>POLYGON ((-73.79187 40.71379, -73.79085 40.714...</td>\n    </tr>\n  </tbody>\n</table>\n</div>"
     },
     "execution_count": 52,
     "metadata": {},
     "output_type": "execute_result"
    }
   ],
   "source": [
    "# nyu_tract.head()\n",
    "census_tract = census_tract.rename(columns={'GEOID':'GEO_ID'})\n",
    "census_tract['GEO_ID'] = census_tract['GEO_ID'].apply(int)\n",
    "print(census_tract.dtypes)\n",
    "census_tract.head()\n",
    "# medium_income.head()\n",
    "# nyu_tract.to_file('Clean Data/geo_nyc_tract.geojson',driver='GeoJSON')\n",
    "# tract = tract.rename(columns={'GeoId':'GEO_ID'})\n",
    "# nyu_tract.plot()\n",
    "# nyu_tract.show()\n"
   ],
   "metadata": {
    "collapsed": false,
    "pycharm": {
     "name": "#%%\n"
    }
   }
  },
  {
   "cell_type": "code",
   "execution_count": 62,
   "outputs": [],
   "source": [
    "geo_median_income = geopandas.read_file('Clean Data/geo_median_income.geojson')\n",
    "geo_median_income.head()\n",
    "geo_median_income.crs\n",
    "geo_median_income = geo_median_income.to_crs('EPSG:4326')"
   ],
   "metadata": {
    "collapsed": false,
    "pycharm": {
     "name": "#%%\n"
    }
   }
  },
  {
   "cell_type": "code",
   "execution_count": 63,
   "outputs": [],
   "source": [
    "geo_median_income.head()\n",
    "geo_median_income.to_file('Clean Data/geo_median_income.geojson',driver='GeoJSON')\n",
    "# geo_median_income.plot()"
   ],
   "metadata": {
    "collapsed": false,
    "pycharm": {
     "name": "#%%\n"
    }
   }
  },
  {
   "cell_type": "code",
   "execution_count": null,
   "outputs": [],
   "source": [
    "medium_income = pd.DataFrame(pd.read_csv('Clean Data/medium_income.csv', sep = \",\", header = 0, index_col = 0))\n",
    "# medium_income.head()\n",
    "# medium_income.drop(columns=[''])\n",
    "medium_income.head()\n",
    "\n",
    "# medium_income.to_json(\"Clean Data/medium_income.json\", orient = \"records\", date_format = \"epoch\", double_precision = 10, force_ascii = True, date_unit = \"ms\", default_handler = None)\n",
    "# medium_income.to_json('Clean Data/medium_income.json')"
   ],
   "metadata": {
    "collapsed": false,
    "pycharm": {
     "name": "#%%\n"
    }
   }
  },
  {
   "cell_type": "code",
   "execution_count": 47,
   "metadata": {
    "pycharm": {
     "name": "#%%\n"
    }
   },
   "outputs": [
    {
     "data": {
      "text/plain": "  ntacode     shape_area                                    ntaname  \\\n0    SI22  2497009.71359  West New Brighton-New Brighton-St. George   \n1    MN19  1906016.35002                    Turtle Bay-East Midtown   \n2    MN19  1860938.37721                    Turtle Bay-East Midtown   \n3    MN17  1860992.70485                      Midtown-Midtown South   \n4    MN17  1864600.37503                      Midtown-Midtown South   \n\n      shape_leng      boro_name  puma  ct2010  boro_code cdeligibil  \\\n0  7729.01679383  Staten Island  3903     900          5          E   \n1  5534.19981063      Manhattan  3808    9800          1          I   \n2  5692.16873705      Manhattan  3808   10000          1          I   \n3  5687.80243866      Manhattan  3807   10200          1          I   \n4  5693.03636655      Manhattan  3807   10400          1          I   \n\n   boro_ct2010 ctlabel        GeoId  \\\n0      5000900       9  39035000900   \n1      1009800      98  38081009800   \n2      1010000     100  38081010000   \n3      1010200     102  38071010200   \n4      1010400     104  38071010400   \n\n                                            geometry  \n0  MULTIPOLYGON (((-74.07921 40.64343, -74.07914 ...  \n1  MULTIPOLYGON (((-73.96433 40.75638, -73.96479 ...  \n2  MULTIPOLYGON (((-73.96802 40.75958, -73.96848 ...  \n3  MULTIPOLYGON (((-73.97124 40.76094, -73.97170 ...  \n4  MULTIPOLYGON (((-73.97446 40.76229, -73.97491 ...  ",
      "text/html": "<div>\n<style scoped>\n    .dataframe tbody tr th:only-of-type {\n        vertical-align: middle;\n    }\n\n    .dataframe tbody tr th {\n        vertical-align: top;\n    }\n\n    .dataframe thead th {\n        text-align: right;\n    }\n</style>\n<table border=\"1\" class=\"dataframe\">\n  <thead>\n    <tr style=\"text-align: right;\">\n      <th></th>\n      <th>ntacode</th>\n      <th>shape_area</th>\n      <th>ntaname</th>\n      <th>shape_leng</th>\n      <th>boro_name</th>\n      <th>puma</th>\n      <th>ct2010</th>\n      <th>boro_code</th>\n      <th>cdeligibil</th>\n      <th>boro_ct2010</th>\n      <th>ctlabel</th>\n      <th>GeoId</th>\n      <th>geometry</th>\n    </tr>\n  </thead>\n  <tbody>\n    <tr>\n      <th>0</th>\n      <td>SI22</td>\n      <td>2497009.71359</td>\n      <td>West New Brighton-New Brighton-St. George</td>\n      <td>7729.01679383</td>\n      <td>Staten Island</td>\n      <td>3903</td>\n      <td>900</td>\n      <td>5</td>\n      <td>E</td>\n      <td>5000900</td>\n      <td>9</td>\n      <td>39035000900</td>\n      <td>MULTIPOLYGON (((-74.07921 40.64343, -74.07914 ...</td>\n    </tr>\n    <tr>\n      <th>1</th>\n      <td>MN19</td>\n      <td>1906016.35002</td>\n      <td>Turtle Bay-East Midtown</td>\n      <td>5534.19981063</td>\n      <td>Manhattan</td>\n      <td>3808</td>\n      <td>9800</td>\n      <td>1</td>\n      <td>I</td>\n      <td>1009800</td>\n      <td>98</td>\n      <td>38081009800</td>\n      <td>MULTIPOLYGON (((-73.96433 40.75638, -73.96479 ...</td>\n    </tr>\n    <tr>\n      <th>2</th>\n      <td>MN19</td>\n      <td>1860938.37721</td>\n      <td>Turtle Bay-East Midtown</td>\n      <td>5692.16873705</td>\n      <td>Manhattan</td>\n      <td>3808</td>\n      <td>10000</td>\n      <td>1</td>\n      <td>I</td>\n      <td>1010000</td>\n      <td>100</td>\n      <td>38081010000</td>\n      <td>MULTIPOLYGON (((-73.96802 40.75958, -73.96848 ...</td>\n    </tr>\n    <tr>\n      <th>3</th>\n      <td>MN17</td>\n      <td>1860992.70485</td>\n      <td>Midtown-Midtown South</td>\n      <td>5687.80243866</td>\n      <td>Manhattan</td>\n      <td>3807</td>\n      <td>10200</td>\n      <td>1</td>\n      <td>I</td>\n      <td>1010200</td>\n      <td>102</td>\n      <td>38071010200</td>\n      <td>MULTIPOLYGON (((-73.97124 40.76094, -73.97170 ...</td>\n    </tr>\n    <tr>\n      <th>4</th>\n      <td>MN17</td>\n      <td>1864600.37503</td>\n      <td>Midtown-Midtown South</td>\n      <td>5693.03636655</td>\n      <td>Manhattan</td>\n      <td>3807</td>\n      <td>10400</td>\n      <td>1</td>\n      <td>I</td>\n      <td>1010400</td>\n      <td>104</td>\n      <td>38071010400</td>\n      <td>MULTIPOLYGON (((-73.97446 40.76229, -73.97491 ...</td>\n    </tr>\n  </tbody>\n</table>\n</div>"
     },
     "execution_count": 47,
     "metadata": {},
     "output_type": "execute_result"
    }
   ],
   "source": [
    "tract = geopandas.read_file('Clean Data/tract.geojson')\n",
    "# tract['GeoId'] = tract['GeoId'].apply(int)\n",
    "# tract = tract.rename(columns={'GeoId':'GEO_ID'})\n",
    "tract.head()"
   ]
  },
  {
   "cell_type": "code",
   "execution_count": 24,
   "metadata": {
    "pycharm": {
     "name": "#%%\n"
    }
   },
   "outputs": [
    {
     "data": {
      "text/plain": "  ntacode     shape_area                                    ntaname  \\\n0    SI22  2497009.71359  West New Brighton-New Brighton-St. George   \n1    MN19  1906016.35002                    Turtle Bay-East Midtown   \n2    MN19  1860938.37721                    Turtle Bay-East Midtown   \n3    MN17  1860992.70485                      Midtown-Midtown South   \n4    MN17  1864600.37503                      Midtown-Midtown South   \n\n      shape_leng      boro_name  puma  ct2010  boro_code cdeligibil  \\\n0  7729.01679383  Staten Island  3903     900          5          E   \n1  5534.19981063      Manhattan  3808    9800          1          I   \n2  5692.16873705      Manhattan  3808   10000          1          I   \n3  5687.80243866      Manhattan  3807   10200          1          I   \n4  5693.03636655      Manhattan  3807   10400          1          I   \n\n   boro_ct2010 ctlabel       GEO_ID  \\\n0      5000900       9  39035000900   \n1      1009800      98  38081009800   \n2      1010000     100  38081010000   \n3      1010200     102  38071010200   \n4      1010400     104  38071010400   \n\n                                            geometry  \n0  MULTIPOLYGON (((-74.07921 40.64343, -74.07914 ...  \n1  MULTIPOLYGON (((-73.96433 40.75638, -73.96479 ...  \n2  MULTIPOLYGON (((-73.96802 40.75958, -73.96848 ...  \n3  MULTIPOLYGON (((-73.97124 40.76094, -73.97170 ...  \n4  MULTIPOLYGON (((-73.97446 40.76229, -73.97491 ...  ",
      "text/html": "<div>\n<style scoped>\n    .dataframe tbody tr th:only-of-type {\n        vertical-align: middle;\n    }\n\n    .dataframe tbody tr th {\n        vertical-align: top;\n    }\n\n    .dataframe thead th {\n        text-align: right;\n    }\n</style>\n<table border=\"1\" class=\"dataframe\">\n  <thead>\n    <tr style=\"text-align: right;\">\n      <th></th>\n      <th>ntacode</th>\n      <th>shape_area</th>\n      <th>ntaname</th>\n      <th>shape_leng</th>\n      <th>boro_name</th>\n      <th>puma</th>\n      <th>ct2010</th>\n      <th>boro_code</th>\n      <th>cdeligibil</th>\n      <th>boro_ct2010</th>\n      <th>ctlabel</th>\n      <th>GEO_ID</th>\n      <th>geometry</th>\n    </tr>\n  </thead>\n  <tbody>\n    <tr>\n      <th>0</th>\n      <td>SI22</td>\n      <td>2497009.71359</td>\n      <td>West New Brighton-New Brighton-St. George</td>\n      <td>7729.01679383</td>\n      <td>Staten Island</td>\n      <td>3903</td>\n      <td>900</td>\n      <td>5</td>\n      <td>E</td>\n      <td>5000900</td>\n      <td>9</td>\n      <td>39035000900</td>\n      <td>MULTIPOLYGON (((-74.07921 40.64343, -74.07914 ...</td>\n    </tr>\n    <tr>\n      <th>1</th>\n      <td>MN19</td>\n      <td>1906016.35002</td>\n      <td>Turtle Bay-East Midtown</td>\n      <td>5534.19981063</td>\n      <td>Manhattan</td>\n      <td>3808</td>\n      <td>9800</td>\n      <td>1</td>\n      <td>I</td>\n      <td>1009800</td>\n      <td>98</td>\n      <td>38081009800</td>\n      <td>MULTIPOLYGON (((-73.96433 40.75638, -73.96479 ...</td>\n    </tr>\n    <tr>\n      <th>2</th>\n      <td>MN19</td>\n      <td>1860938.37721</td>\n      <td>Turtle Bay-East Midtown</td>\n      <td>5692.16873705</td>\n      <td>Manhattan</td>\n      <td>3808</td>\n      <td>10000</td>\n      <td>1</td>\n      <td>I</td>\n      <td>1010000</td>\n      <td>100</td>\n      <td>38081010000</td>\n      <td>MULTIPOLYGON (((-73.96802 40.75958, -73.96848 ...</td>\n    </tr>\n    <tr>\n      <th>3</th>\n      <td>MN17</td>\n      <td>1860992.70485</td>\n      <td>Midtown-Midtown South</td>\n      <td>5687.80243866</td>\n      <td>Manhattan</td>\n      <td>3807</td>\n      <td>10200</td>\n      <td>1</td>\n      <td>I</td>\n      <td>1010200</td>\n      <td>102</td>\n      <td>38071010200</td>\n      <td>MULTIPOLYGON (((-73.97124 40.76094, -73.97170 ...</td>\n    </tr>\n    <tr>\n      <th>4</th>\n      <td>MN17</td>\n      <td>1864600.37503</td>\n      <td>Midtown-Midtown South</td>\n      <td>5693.03636655</td>\n      <td>Manhattan</td>\n      <td>3807</td>\n      <td>10400</td>\n      <td>1</td>\n      <td>I</td>\n      <td>1010400</td>\n      <td>104</td>\n      <td>38071010400</td>\n      <td>MULTIPOLYGON (((-73.97446 40.76229, -73.97491 ...</td>\n    </tr>\n  </tbody>\n</table>\n</div>"
     },
     "execution_count": 24,
     "metadata": {},
     "output_type": "execute_result"
    }
   ],
   "source": [
    "tract.head()\n",
    "# print(len(tract))   # 2164"
   ]
  },
  {
   "cell_type": "code",
   "execution_count": 42,
   "metadata": {
    "pycharm": {
     "name": "#%%\n"
    }
   },
   "outputs": [
    {
     "data": {
      "text/plain": "        GEO_ID                                      NAME  county  state  \\\n0  36005039000  Census Tract 390, Bronx County, New York       5     36   \n1  36005039100  Census Tract 391, Bronx County, New York       5     36   \n2  36005039200  Census Tract 392, Bronx County, New York       5     36   \n3  36005039300  Census Tract 393, Bronx County, New York       5     36   \n4  36005039400  Census Tract 394, Bronx County, New York       5     36   \n\n   tract  medium_income_2010  medium_income_2011  medium_income_2012  \\\n0  39000               35729               34010               34750   \n1  39100               22081               23804               24010   \n2  39200               57000               30577               31917   \n3  39300               17988               16825               15875   \n4  39400               35329               34759               38365   \n\n   medium_income_2013  medium_income_2014  medium_income_2015  \\\n0               35037               34531               32364   \n1               24193               24043               30661   \n2               32386               35515               39457   \n3               16949               19025               20891   \n4               39157               34348               33708   \n\n   medium_income_2016  medium_income_2017  medium_income_2018  \n0               32438               35313               42011  \n1               31238               33020               32298  \n2               40054               40282               44375  \n3               21587               21651               21370  \n4               34517               31738               34355  ",
      "text/html": "<div>\n<style scoped>\n    .dataframe tbody tr th:only-of-type {\n        vertical-align: middle;\n    }\n\n    .dataframe tbody tr th {\n        vertical-align: top;\n    }\n\n    .dataframe thead th {\n        text-align: right;\n    }\n</style>\n<table border=\"1\" class=\"dataframe\">\n  <thead>\n    <tr style=\"text-align: right;\">\n      <th></th>\n      <th>GEO_ID</th>\n      <th>NAME</th>\n      <th>county</th>\n      <th>state</th>\n      <th>tract</th>\n      <th>medium_income_2010</th>\n      <th>medium_income_2011</th>\n      <th>medium_income_2012</th>\n      <th>medium_income_2013</th>\n      <th>medium_income_2014</th>\n      <th>medium_income_2015</th>\n      <th>medium_income_2016</th>\n      <th>medium_income_2017</th>\n      <th>medium_income_2018</th>\n    </tr>\n  </thead>\n  <tbody>\n    <tr>\n      <th>0</th>\n      <td>36005039000</td>\n      <td>Census Tract 390, Bronx County, New York</td>\n      <td>5</td>\n      <td>36</td>\n      <td>39000</td>\n      <td>35729</td>\n      <td>34010</td>\n      <td>34750</td>\n      <td>35037</td>\n      <td>34531</td>\n      <td>32364</td>\n      <td>32438</td>\n      <td>35313</td>\n      <td>42011</td>\n    </tr>\n    <tr>\n      <th>1</th>\n      <td>36005039100</td>\n      <td>Census Tract 391, Bronx County, New York</td>\n      <td>5</td>\n      <td>36</td>\n      <td>39100</td>\n      <td>22081</td>\n      <td>23804</td>\n      <td>24010</td>\n      <td>24193</td>\n      <td>24043</td>\n      <td>30661</td>\n      <td>31238</td>\n      <td>33020</td>\n      <td>32298</td>\n    </tr>\n    <tr>\n      <th>2</th>\n      <td>36005039200</td>\n      <td>Census Tract 392, Bronx County, New York</td>\n      <td>5</td>\n      <td>36</td>\n      <td>39200</td>\n      <td>57000</td>\n      <td>30577</td>\n      <td>31917</td>\n      <td>32386</td>\n      <td>35515</td>\n      <td>39457</td>\n      <td>40054</td>\n      <td>40282</td>\n      <td>44375</td>\n    </tr>\n    <tr>\n      <th>3</th>\n      <td>36005039300</td>\n      <td>Census Tract 393, Bronx County, New York</td>\n      <td>5</td>\n      <td>36</td>\n      <td>39300</td>\n      <td>17988</td>\n      <td>16825</td>\n      <td>15875</td>\n      <td>16949</td>\n      <td>19025</td>\n      <td>20891</td>\n      <td>21587</td>\n      <td>21651</td>\n      <td>21370</td>\n    </tr>\n    <tr>\n      <th>4</th>\n      <td>36005039400</td>\n      <td>Census Tract 394, Bronx County, New York</td>\n      <td>5</td>\n      <td>36</td>\n      <td>39400</td>\n      <td>35329</td>\n      <td>34759</td>\n      <td>38365</td>\n      <td>39157</td>\n      <td>34348</td>\n      <td>33708</td>\n      <td>34517</td>\n      <td>31738</td>\n      <td>34355</td>\n    </tr>\n  </tbody>\n</table>\n</div>"
     },
     "execution_count": 42,
     "metadata": {},
     "output_type": "execute_result"
    }
   ],
   "source": [
    "median_income = pd.read_csv('Clean Data/medium_income.csv', index_col=0)\n",
    "median_income.head()\n",
    "\n",
    "# nyu_tract.head()"
   ]
  },
  {
   "cell_type": "code",
   "execution_count": 53,
   "metadata": {
    "pycharm": {
     "name": "#%%\n"
    }
   },
   "outputs": [
    {
     "data": {
      "text/plain": "  STATEFP COUNTYFP TRACTCE       GEO_ID NAME_x          NAMELSAD  MTFCC  \\\n0      36      081  044800  36081044800    448  Census Tract 448  G5020   \n1      36      081  045800  36081045800    458  Census Tract 458  G5020   \n2      36      081  046200  36081046200    462  Census Tract 462  G5020   \n3      36      081  046300  36081046300    463  Census Tract 463  G5020   \n4      36      081  046400  36081046400    464  Census Tract 464  G5020   \n\n  FUNCSTAT   ALAND  AWATER  ...    tract medium_income_2010  \\\n0        S  208002       0  ...  44800.0            52424.0   \n1        S  245281       0  ...  45800.0            66875.0   \n2        S  249611       0  ...  46200.0            40202.0   \n3        S  159415       0  ...  46300.0            50000.0   \n4        S  228767       0  ...  46400.0            66281.0   \n\n  medium_income_2011 medium_income_2012  medium_income_2013  \\\n0            44435.0            43474.0             43935.0   \n1            77857.0            83185.0             65139.0   \n2            40163.0            36964.0             37055.0   \n3            45020.0            43897.0             35134.0   \n4            71146.0            79018.0             78750.0   \n\n   medium_income_2014  medium_income_2015  medium_income_2016  \\\n0             46607.0             51184.0             66768.0   \n1             58750.0             54000.0             69063.0   \n2             40637.0             47524.0             45192.0   \n3             41339.0             42720.0             43456.0   \n4             92303.0             95250.0             80221.0   \n\n   medium_income_2017  medium_income_2018  \n0             57500.0             56518.0  \n1             60556.0             58942.0  \n2             49088.0             53295.0  \n3             44110.0             51644.0  \n4             76458.0             92625.0  \n\n[5 rows x 26 columns]",
      "text/html": "<div>\n<style scoped>\n    .dataframe tbody tr th:only-of-type {\n        vertical-align: middle;\n    }\n\n    .dataframe tbody tr th {\n        vertical-align: top;\n    }\n\n    .dataframe thead th {\n        text-align: right;\n    }\n</style>\n<table border=\"1\" class=\"dataframe\">\n  <thead>\n    <tr style=\"text-align: right;\">\n      <th></th>\n      <th>STATEFP</th>\n      <th>COUNTYFP</th>\n      <th>TRACTCE</th>\n      <th>GEO_ID</th>\n      <th>NAME_x</th>\n      <th>NAMELSAD</th>\n      <th>MTFCC</th>\n      <th>FUNCSTAT</th>\n      <th>ALAND</th>\n      <th>AWATER</th>\n      <th>...</th>\n      <th>tract</th>\n      <th>medium_income_2010</th>\n      <th>medium_income_2011</th>\n      <th>medium_income_2012</th>\n      <th>medium_income_2013</th>\n      <th>medium_income_2014</th>\n      <th>medium_income_2015</th>\n      <th>medium_income_2016</th>\n      <th>medium_income_2017</th>\n      <th>medium_income_2018</th>\n    </tr>\n  </thead>\n  <tbody>\n    <tr>\n      <th>0</th>\n      <td>36</td>\n      <td>081</td>\n      <td>044800</td>\n      <td>36081044800</td>\n      <td>448</td>\n      <td>Census Tract 448</td>\n      <td>G5020</td>\n      <td>S</td>\n      <td>208002</td>\n      <td>0</td>\n      <td>...</td>\n      <td>44800.0</td>\n      <td>52424.0</td>\n      <td>44435.0</td>\n      <td>43474.0</td>\n      <td>43935.0</td>\n      <td>46607.0</td>\n      <td>51184.0</td>\n      <td>66768.0</td>\n      <td>57500.0</td>\n      <td>56518.0</td>\n    </tr>\n    <tr>\n      <th>1</th>\n      <td>36</td>\n      <td>081</td>\n      <td>045800</td>\n      <td>36081045800</td>\n      <td>458</td>\n      <td>Census Tract 458</td>\n      <td>G5020</td>\n      <td>S</td>\n      <td>245281</td>\n      <td>0</td>\n      <td>...</td>\n      <td>45800.0</td>\n      <td>66875.0</td>\n      <td>77857.0</td>\n      <td>83185.0</td>\n      <td>65139.0</td>\n      <td>58750.0</td>\n      <td>54000.0</td>\n      <td>69063.0</td>\n      <td>60556.0</td>\n      <td>58942.0</td>\n    </tr>\n    <tr>\n      <th>2</th>\n      <td>36</td>\n      <td>081</td>\n      <td>046200</td>\n      <td>36081046200</td>\n      <td>462</td>\n      <td>Census Tract 462</td>\n      <td>G5020</td>\n      <td>S</td>\n      <td>249611</td>\n      <td>0</td>\n      <td>...</td>\n      <td>46200.0</td>\n      <td>40202.0</td>\n      <td>40163.0</td>\n      <td>36964.0</td>\n      <td>37055.0</td>\n      <td>40637.0</td>\n      <td>47524.0</td>\n      <td>45192.0</td>\n      <td>49088.0</td>\n      <td>53295.0</td>\n    </tr>\n    <tr>\n      <th>3</th>\n      <td>36</td>\n      <td>081</td>\n      <td>046300</td>\n      <td>36081046300</td>\n      <td>463</td>\n      <td>Census Tract 463</td>\n      <td>G5020</td>\n      <td>S</td>\n      <td>159415</td>\n      <td>0</td>\n      <td>...</td>\n      <td>46300.0</td>\n      <td>50000.0</td>\n      <td>45020.0</td>\n      <td>43897.0</td>\n      <td>35134.0</td>\n      <td>41339.0</td>\n      <td>42720.0</td>\n      <td>43456.0</td>\n      <td>44110.0</td>\n      <td>51644.0</td>\n    </tr>\n    <tr>\n      <th>4</th>\n      <td>36</td>\n      <td>081</td>\n      <td>046400</td>\n      <td>36081046400</td>\n      <td>464</td>\n      <td>Census Tract 464</td>\n      <td>G5020</td>\n      <td>S</td>\n      <td>228767</td>\n      <td>0</td>\n      <td>...</td>\n      <td>46400.0</td>\n      <td>66281.0</td>\n      <td>71146.0</td>\n      <td>79018.0</td>\n      <td>78750.0</td>\n      <td>92303.0</td>\n      <td>95250.0</td>\n      <td>80221.0</td>\n      <td>76458.0</td>\n      <td>92625.0</td>\n    </tr>\n  </tbody>\n</table>\n<p>5 rows × 26 columns</p>\n</div>"
     },
     "execution_count": 53,
     "metadata": {},
     "output_type": "execute_result"
    }
   ],
   "source": [
    "df = census_tract.merge(medium_income, on='GEO_ID', how='left')\n",
    "gdf = geopandas.GeoDataFrame(df)\n",
    "\n",
    "gdf.head()\n",
    "\n",
    "# geo_median_income = pd.merge(nyu_tract, median_income, how='inner', on='GEO_ID')\n",
    "# geo_median_income.head()\n",
    "\n",
    "\n",
    "\n",
    "\n",
    "# geo_median_income.to_file('median_income.geojson',driver='GeoJSON')"
   ]
  },
  {
   "cell_type": "code",
   "execution_count": 45,
   "outputs": [
    {
     "data": {
      "text/plain": "        GEO_ID tractnum name         namelsad   nta  \\\n0  36005000100   000100    1   Census Tract 1  BX98   \n1  36005000200   000200    2   Census Tract 2  BX09   \n2  36005000400   000400    4   Census Tract 4  BX09   \n3  36005001600   001600   16  Census Tract 16  BX09   \n4  36005001900   001900   19  Census Tract 19  BX39   \n\n                                          nta_name  bcode  \\\n0                                    Rikers Island  36005   \n1  Soundview-Castle Hill-Clason Point-Harding Park  36005   \n2  Soundview-Castle Hill-Clason Point-Harding Park  36005   \n3  Soundview-Castle Hill-Clason Point-Harding Park  36005   \n4                           Mott Haven-Port Morris  36005   \n\n                                            geometry  \n0  POLYGON ((-73.87102 40.78883, -73.87110 40.788...  \n1  POLYGON ((-73.86522 40.81453, -73.86425 40.814...  \n2  MULTIPOLYGON (((-73.85960 40.81528, -73.85870 ...  \n3  POLYGON ((-73.86111 40.82163, -73.86019 40.821...  \n4  MULTIPOLYGON (((-73.93161 40.80798, -73.93094 ...  ",
      "text/html": "<div>\n<style scoped>\n    .dataframe tbody tr th:only-of-type {\n        vertical-align: middle;\n    }\n\n    .dataframe tbody tr th {\n        vertical-align: top;\n    }\n\n    .dataframe thead th {\n        text-align: right;\n    }\n</style>\n<table border=\"1\" class=\"dataframe\">\n  <thead>\n    <tr style=\"text-align: right;\">\n      <th></th>\n      <th>GEO_ID</th>\n      <th>tractnum</th>\n      <th>name</th>\n      <th>namelsad</th>\n      <th>nta</th>\n      <th>nta_name</th>\n      <th>bcode</th>\n      <th>geometry</th>\n    </tr>\n  </thead>\n  <tbody>\n    <tr>\n      <th>0</th>\n      <td>36005000100</td>\n      <td>000100</td>\n      <td>1</td>\n      <td>Census Tract 1</td>\n      <td>BX98</td>\n      <td>Rikers Island</td>\n      <td>36005</td>\n      <td>POLYGON ((-73.87102 40.78883, -73.87110 40.788...</td>\n    </tr>\n    <tr>\n      <th>1</th>\n      <td>36005000200</td>\n      <td>000200</td>\n      <td>2</td>\n      <td>Census Tract 2</td>\n      <td>BX09</td>\n      <td>Soundview-Castle Hill-Clason Point-Harding Park</td>\n      <td>36005</td>\n      <td>POLYGON ((-73.86522 40.81453, -73.86425 40.814...</td>\n    </tr>\n    <tr>\n      <th>2</th>\n      <td>36005000400</td>\n      <td>000400</td>\n      <td>4</td>\n      <td>Census Tract 4</td>\n      <td>BX09</td>\n      <td>Soundview-Castle Hill-Clason Point-Harding Park</td>\n      <td>36005</td>\n      <td>MULTIPOLYGON (((-73.85960 40.81528, -73.85870 ...</td>\n    </tr>\n    <tr>\n      <th>3</th>\n      <td>36005001600</td>\n      <td>001600</td>\n      <td>16</td>\n      <td>Census Tract 16</td>\n      <td>BX09</td>\n      <td>Soundview-Castle Hill-Clason Point-Harding Park</td>\n      <td>36005</td>\n      <td>POLYGON ((-73.86111 40.82163, -73.86019 40.821...</td>\n    </tr>\n    <tr>\n      <th>4</th>\n      <td>36005001900</td>\n      <td>001900</td>\n      <td>19</td>\n      <td>Census Tract 19</td>\n      <td>BX39</td>\n      <td>Mott Haven-Port Morris</td>\n      <td>36005</td>\n      <td>MULTIPOLYGON (((-73.93161 40.80798, -73.93094 ...</td>\n    </tr>\n  </tbody>\n</table>\n</div>"
     },
     "execution_count": 45,
     "metadata": {},
     "output_type": "execute_result"
    }
   ],
   "source": [
    "nyu_tract.head()"
   ],
   "metadata": {
    "collapsed": false,
    "pycharm": {
     "name": "#%%\n"
    }
   }
  },
  {
   "cell_type": "code",
   "execution_count": 46,
   "outputs": [
    {
     "data": {
      "text/plain": "        GEO_ID                                      NAME  county  state  \\\n0  36005039000  Census Tract 390, Bronx County, New York       5     36   \n1  36005039100  Census Tract 391, Bronx County, New York       5     36   \n2  36005039200  Census Tract 392, Bronx County, New York       5     36   \n3  36005039300  Census Tract 393, Bronx County, New York       5     36   \n4  36005039400  Census Tract 394, Bronx County, New York       5     36   \n\n   tract  medium_income_2010  medium_income_2011  medium_income_2012  \\\n0  39000               35729               34010               34750   \n1  39100               22081               23804               24010   \n2  39200               57000               30577               31917   \n3  39300               17988               16825               15875   \n4  39400               35329               34759               38365   \n\n   medium_income_2013  medium_income_2014  medium_income_2015  \\\n0               35037               34531               32364   \n1               24193               24043               30661   \n2               32386               35515               39457   \n3               16949               19025               20891   \n4               39157               34348               33708   \n\n   medium_income_2016  medium_income_2017  medium_income_2018  \n0               32438               35313               42011  \n1               31238               33020               32298  \n2               40054               40282               44375  \n3               21587               21651               21370  \n4               34517               31738               34355  ",
      "text/html": "<div>\n<style scoped>\n    .dataframe tbody tr th:only-of-type {\n        vertical-align: middle;\n    }\n\n    .dataframe tbody tr th {\n        vertical-align: top;\n    }\n\n    .dataframe thead th {\n        text-align: right;\n    }\n</style>\n<table border=\"1\" class=\"dataframe\">\n  <thead>\n    <tr style=\"text-align: right;\">\n      <th></th>\n      <th>GEO_ID</th>\n      <th>NAME</th>\n      <th>county</th>\n      <th>state</th>\n      <th>tract</th>\n      <th>medium_income_2010</th>\n      <th>medium_income_2011</th>\n      <th>medium_income_2012</th>\n      <th>medium_income_2013</th>\n      <th>medium_income_2014</th>\n      <th>medium_income_2015</th>\n      <th>medium_income_2016</th>\n      <th>medium_income_2017</th>\n      <th>medium_income_2018</th>\n    </tr>\n  </thead>\n  <tbody>\n    <tr>\n      <th>0</th>\n      <td>36005039000</td>\n      <td>Census Tract 390, Bronx County, New York</td>\n      <td>5</td>\n      <td>36</td>\n      <td>39000</td>\n      <td>35729</td>\n      <td>34010</td>\n      <td>34750</td>\n      <td>35037</td>\n      <td>34531</td>\n      <td>32364</td>\n      <td>32438</td>\n      <td>35313</td>\n      <td>42011</td>\n    </tr>\n    <tr>\n      <th>1</th>\n      <td>36005039100</td>\n      <td>Census Tract 391, Bronx County, New York</td>\n      <td>5</td>\n      <td>36</td>\n      <td>39100</td>\n      <td>22081</td>\n      <td>23804</td>\n      <td>24010</td>\n      <td>24193</td>\n      <td>24043</td>\n      <td>30661</td>\n      <td>31238</td>\n      <td>33020</td>\n      <td>32298</td>\n    </tr>\n    <tr>\n      <th>2</th>\n      <td>36005039200</td>\n      <td>Census Tract 392, Bronx County, New York</td>\n      <td>5</td>\n      <td>36</td>\n      <td>39200</td>\n      <td>57000</td>\n      <td>30577</td>\n      <td>31917</td>\n      <td>32386</td>\n      <td>35515</td>\n      <td>39457</td>\n      <td>40054</td>\n      <td>40282</td>\n      <td>44375</td>\n    </tr>\n    <tr>\n      <th>3</th>\n      <td>36005039300</td>\n      <td>Census Tract 393, Bronx County, New York</td>\n      <td>5</td>\n      <td>36</td>\n      <td>39300</td>\n      <td>17988</td>\n      <td>16825</td>\n      <td>15875</td>\n      <td>16949</td>\n      <td>19025</td>\n      <td>20891</td>\n      <td>21587</td>\n      <td>21651</td>\n      <td>21370</td>\n    </tr>\n    <tr>\n      <th>4</th>\n      <td>36005039400</td>\n      <td>Census Tract 394, Bronx County, New York</td>\n      <td>5</td>\n      <td>36</td>\n      <td>39400</td>\n      <td>35329</td>\n      <td>34759</td>\n      <td>38365</td>\n      <td>39157</td>\n      <td>34348</td>\n      <td>33708</td>\n      <td>34517</td>\n      <td>31738</td>\n      <td>34355</td>\n    </tr>\n  </tbody>\n</table>\n</div>"
     },
     "execution_count": 46,
     "metadata": {},
     "output_type": "execute_result"
    }
   ],
   "source": [
    "medium_income.head()"
   ],
   "metadata": {
    "collapsed": false,
    "pycharm": {
     "name": "#%%\n"
    }
   }
  }
 ],
 "metadata": {
  "kernelspec": {
   "display_name": "Python 3",
   "language": "python",
   "name": "python3"
  },
  "language_info": {
   "codemirror_mode": {
    "name": "ipython",
    "version": 3
   },
   "file_extension": ".py",
   "mimetype": "text/x-python",
   "name": "python",
   "nbconvert_exporter": "python",
   "pygments_lexer": "ipython3",
   "version": "3.8.2"
  }
 },
 "nbformat": 4,
 "nbformat_minor": 1
}