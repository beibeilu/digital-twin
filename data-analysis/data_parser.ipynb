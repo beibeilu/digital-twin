{
 "cells": [
  {
   "cell_type": "code",
   "execution_count": 1,
   "metadata": {
    "collapsed": true,
    "pycharm": {
     "name": "#%%\n"
    }
   },
   "outputs": [
    {
     "ename": "DriverError",
     "evalue": "data/2010 Census Tracts.geojson: No such file or directory",
     "output_type": "error",
     "traceback": [
      "\u001B[0;31m---------------------------------------------------------------------------\u001B[0m",
      "\u001B[0;31mCPLE_OpenFailedError\u001B[0m                      Traceback (most recent call last)",
      "\u001B[0;32mfiona/_shim.pyx\u001B[0m in \u001B[0;36mfiona._shim.gdal_open_vector\u001B[0;34m()\u001B[0m\n",
      "\u001B[0;32mfiona/_err.pyx\u001B[0m in \u001B[0;36mfiona._err.exc_wrap_pointer\u001B[0;34m()\u001B[0m\n",
      "\u001B[0;31mCPLE_OpenFailedError\u001B[0m: data/2010 Census Tracts.geojson: No such file or directory",
      "\nDuring handling of the above exception, another exception occurred:\n",
      "\u001B[0;31mDriverError\u001B[0m                               Traceback (most recent call last)",
      "\u001B[0;32m<ipython-input-1-6d18437bfc90>\u001B[0m in \u001B[0;36m<module>\u001B[0;34m\u001B[0m\n\u001B[1;32m      1\u001B[0m \u001B[0;32mimport\u001B[0m \u001B[0mgeopandas\u001B[0m\u001B[0;34m\u001B[0m\u001B[0;34m\u001B[0m\u001B[0m\n\u001B[0;32m----> 2\u001B[0;31m \u001B[0mcensus\u001B[0m \u001B[0;34m=\u001B[0m \u001B[0mgeopandas\u001B[0m\u001B[0;34m.\u001B[0m\u001B[0mread_file\u001B[0m\u001B[0;34m(\u001B[0m\u001B[0;34m'data/2010 Census Tracts.geojson'\u001B[0m\u001B[0;34m)\u001B[0m\u001B[0;34m\u001B[0m\u001B[0;34m\u001B[0m\u001B[0m\n\u001B[0m\u001B[1;32m      3\u001B[0m \u001B[0;34m\u001B[0m\u001B[0m\n",
      "\u001B[0;32m/usr/local/anaconda3/envs/py38/lib/python3.8/site-packages/geopandas/io/file.py\u001B[0m in \u001B[0;36mread_file\u001B[0;34m(filename, bbox, **kwargs)\u001B[0m\n\u001B[1;32m     74\u001B[0m \u001B[0;34m\u001B[0m\u001B[0m\n\u001B[1;32m     75\u001B[0m     \u001B[0;32mwith\u001B[0m \u001B[0mfiona_env\u001B[0m\u001B[0;34m(\u001B[0m\u001B[0;34m)\u001B[0m\u001B[0;34m:\u001B[0m\u001B[0;34m\u001B[0m\u001B[0;34m\u001B[0m\u001B[0m\n\u001B[0;32m---> 76\u001B[0;31m         \u001B[0;32mwith\u001B[0m \u001B[0mreader\u001B[0m\u001B[0;34m(\u001B[0m\u001B[0mpath_or_bytes\u001B[0m\u001B[0;34m,\u001B[0m \u001B[0;34m**\u001B[0m\u001B[0mkwargs\u001B[0m\u001B[0;34m)\u001B[0m \u001B[0;32mas\u001B[0m \u001B[0mfeatures\u001B[0m\u001B[0;34m:\u001B[0m\u001B[0;34m\u001B[0m\u001B[0;34m\u001B[0m\u001B[0m\n\u001B[0m\u001B[1;32m     77\u001B[0m \u001B[0;34m\u001B[0m\u001B[0m\n\u001B[1;32m     78\u001B[0m             \u001B[0;31m# In a future Fiona release the crs attribute of features will\u001B[0m\u001B[0;34m\u001B[0m\u001B[0;34m\u001B[0m\u001B[0;34m\u001B[0m\u001B[0m\n",
      "\u001B[0;32m/usr/local/anaconda3/envs/py38/lib/python3.8/site-packages/fiona/env.py\u001B[0m in \u001B[0;36mwrapper\u001B[0;34m(*args, **kwargs)\u001B[0m\n\u001B[1;32m    394\u001B[0m     \u001B[0;32mdef\u001B[0m \u001B[0mwrapper\u001B[0m\u001B[0;34m(\u001B[0m\u001B[0;34m*\u001B[0m\u001B[0margs\u001B[0m\u001B[0;34m,\u001B[0m \u001B[0;34m**\u001B[0m\u001B[0mkwargs\u001B[0m\u001B[0;34m)\u001B[0m\u001B[0;34m:\u001B[0m\u001B[0;34m\u001B[0m\u001B[0;34m\u001B[0m\u001B[0m\n\u001B[1;32m    395\u001B[0m         \u001B[0;32mif\u001B[0m \u001B[0mlocal\u001B[0m\u001B[0;34m.\u001B[0m\u001B[0m_env\u001B[0m\u001B[0;34m:\u001B[0m\u001B[0;34m\u001B[0m\u001B[0;34m\u001B[0m\u001B[0m\n\u001B[0;32m--> 396\u001B[0;31m             \u001B[0;32mreturn\u001B[0m \u001B[0mf\u001B[0m\u001B[0;34m(\u001B[0m\u001B[0;34m*\u001B[0m\u001B[0margs\u001B[0m\u001B[0;34m,\u001B[0m \u001B[0;34m**\u001B[0m\u001B[0mkwargs\u001B[0m\u001B[0;34m)\u001B[0m\u001B[0;34m\u001B[0m\u001B[0;34m\u001B[0m\u001B[0m\n\u001B[0m\u001B[1;32m    397\u001B[0m         \u001B[0;32melse\u001B[0m\u001B[0;34m:\u001B[0m\u001B[0;34m\u001B[0m\u001B[0;34m\u001B[0m\u001B[0m\n\u001B[1;32m    398\u001B[0m             \u001B[0;32mif\u001B[0m \u001B[0misinstance\u001B[0m\u001B[0;34m(\u001B[0m\u001B[0margs\u001B[0m\u001B[0;34m[\u001B[0m\u001B[0;36m0\u001B[0m\u001B[0;34m]\u001B[0m\u001B[0;34m,\u001B[0m \u001B[0mstr\u001B[0m\u001B[0;34m)\u001B[0m\u001B[0;34m:\u001B[0m\u001B[0;34m\u001B[0m\u001B[0;34m\u001B[0m\u001B[0m\n",
      "\u001B[0;32m/usr/local/anaconda3/envs/py38/lib/python3.8/site-packages/fiona/__init__.py\u001B[0m in \u001B[0;36mopen\u001B[0;34m(fp, mode, driver, schema, crs, encoding, layer, vfs, enabled_drivers, crs_wkt, **kwargs)\u001B[0m\n\u001B[1;32m    250\u001B[0m \u001B[0;34m\u001B[0m\u001B[0m\n\u001B[1;32m    251\u001B[0m         \u001B[0;32mif\u001B[0m \u001B[0mmode\u001B[0m \u001B[0;32min\u001B[0m \u001B[0;34m(\u001B[0m\u001B[0;34m'a'\u001B[0m\u001B[0;34m,\u001B[0m \u001B[0;34m'r'\u001B[0m\u001B[0;34m)\u001B[0m\u001B[0;34m:\u001B[0m\u001B[0;34m\u001B[0m\u001B[0;34m\u001B[0m\u001B[0m\n\u001B[0;32m--> 252\u001B[0;31m             c = Collection(path, mode, driver=driver, encoding=encoding,\n\u001B[0m\u001B[1;32m    253\u001B[0m                            layer=layer, enabled_drivers=enabled_drivers, **kwargs)\n\u001B[1;32m    254\u001B[0m         \u001B[0;32melif\u001B[0m \u001B[0mmode\u001B[0m \u001B[0;34m==\u001B[0m \u001B[0;34m'w'\u001B[0m\u001B[0;34m:\u001B[0m\u001B[0;34m\u001B[0m\u001B[0;34m\u001B[0m\u001B[0m\n",
      "\u001B[0;32m/usr/local/anaconda3/envs/py38/lib/python3.8/site-packages/fiona/collection.py\u001B[0m in \u001B[0;36m__init__\u001B[0;34m(self, path, mode, driver, schema, crs, encoding, layer, vsi, archive, enabled_drivers, crs_wkt, ignore_fields, ignore_geometry, **kwargs)\u001B[0m\n\u001B[1;32m    157\u001B[0m             \u001B[0;32mif\u001B[0m \u001B[0mself\u001B[0m\u001B[0;34m.\u001B[0m\u001B[0mmode\u001B[0m \u001B[0;34m==\u001B[0m \u001B[0;34m'r'\u001B[0m\u001B[0;34m:\u001B[0m\u001B[0;34m\u001B[0m\u001B[0;34m\u001B[0m\u001B[0m\n\u001B[1;32m    158\u001B[0m                 \u001B[0mself\u001B[0m\u001B[0;34m.\u001B[0m\u001B[0msession\u001B[0m \u001B[0;34m=\u001B[0m \u001B[0mSession\u001B[0m\u001B[0;34m(\u001B[0m\u001B[0;34m)\u001B[0m\u001B[0;34m\u001B[0m\u001B[0;34m\u001B[0m\u001B[0m\n\u001B[0;32m--> 159\u001B[0;31m                 \u001B[0mself\u001B[0m\u001B[0;34m.\u001B[0m\u001B[0msession\u001B[0m\u001B[0;34m.\u001B[0m\u001B[0mstart\u001B[0m\u001B[0;34m(\u001B[0m\u001B[0mself\u001B[0m\u001B[0;34m,\u001B[0m \u001B[0;34m**\u001B[0m\u001B[0mkwargs\u001B[0m\u001B[0;34m)\u001B[0m\u001B[0;34m\u001B[0m\u001B[0;34m\u001B[0m\u001B[0m\n\u001B[0m\u001B[1;32m    160\u001B[0m             \u001B[0;32melif\u001B[0m \u001B[0mself\u001B[0m\u001B[0;34m.\u001B[0m\u001B[0mmode\u001B[0m \u001B[0;32min\u001B[0m \u001B[0;34m(\u001B[0m\u001B[0;34m'a'\u001B[0m\u001B[0;34m,\u001B[0m \u001B[0;34m'w'\u001B[0m\u001B[0;34m)\u001B[0m\u001B[0;34m:\u001B[0m\u001B[0;34m\u001B[0m\u001B[0;34m\u001B[0m\u001B[0m\n\u001B[1;32m    161\u001B[0m                 \u001B[0mself\u001B[0m\u001B[0;34m.\u001B[0m\u001B[0msession\u001B[0m \u001B[0;34m=\u001B[0m \u001B[0mWritingSession\u001B[0m\u001B[0;34m(\u001B[0m\u001B[0;34m)\u001B[0m\u001B[0;34m\u001B[0m\u001B[0;34m\u001B[0m\u001B[0m\n",
      "\u001B[0;32mfiona/ogrext.pyx\u001B[0m in \u001B[0;36mfiona.ogrext.Session.start\u001B[0;34m()\u001B[0m\n",
      "\u001B[0;32mfiona/_shim.pyx\u001B[0m in \u001B[0;36mfiona._shim.gdal_open_vector\u001B[0;34m()\u001B[0m\n",
      "\u001B[0;31mDriverError\u001B[0m: data/2010 Census Tracts.geojson: No such file or directory"
     ]
    }
   ],
   "source": [
    "import geopandas\n",
    "census = geopandas.read_file('data/2010 Census Tracts.geojson')"
   ]
  },
  {
   "cell_type": "code",
   "execution_count": 2,
   "outputs": [
    {
     "name": "stderr",
     "output_type": "stream",
     "text": [
      "/usr/local/anaconda3/envs/py38/lib/python3.8/site-packages/IPython/core/interactiveshell.py:3145: DtypeWarning: Columns (2) have mixed types.Specify dtype option on import or set low_memory=False.\n",
      "  has_raised = await self.run_ast_nodes(code_ast.body, cell_name,\n"
     ]
    }
   ],
   "source": [
    "import pandas as pd\n",
    "rent  = pd.read_csv('data/rent_tracts.csv')"
   ],
   "metadata": {
    "collapsed": false,
    "pycharm": {
     "name": "#%%\n"
    }
   }
  },
  {
   "cell_type": "code",
   "execution_count": 36,
   "outputs": [],
   "source": [
    "census\n",
    "rent\n",
    "\n",
    "census['GeoId'] = census['puma'] + census['boro_ct2010']\n",
    "census\n",
    "census.to_file(\"tract.geojson\", driver='GeoJSON')"
   ],
   "metadata": {
    "collapsed": false,
    "pycharm": {
     "name": "#%%\n"
    }
   }
  },
  {
   "cell_type": "code",
   "execution_count": 38,
   "outputs": [
    {
     "name": "stdout",
     "output_type": "stream",
     "text": [
      "0             -\n",
      "1          1273\n",
      "2          1330\n",
      "3           823\n",
      "4           870\n",
      "           ... \n",
      "1045853     NaN\n",
      "1045854     NaN\n",
      "1045855     NaN\n",
      "1045856     NaN\n",
      "1045857     NaN\n",
      "Name: Gross median rent, Length: 1045858, dtype: object\n"
     ]
    }
   ],
   "source": [
    "print(rent['Gross median rent'])"
   ],
   "metadata": {
    "collapsed": false,
    "pycharm": {
     "name": "#%%\n"
    }
   }
  },
  {
   "cell_type": "code",
   "execution_count": 40,
   "outputs": [
    {
     "name": "stdout",
     "output_type": "stream",
     "text": [
      "0             -\n",
      "1          1273\n",
      "2          1330\n",
      "3           823\n",
      "4           870\n",
      "           ... \n",
      "1045853     NaN\n",
      "1045854     NaN\n",
      "1045855     NaN\n",
      "1045856     NaN\n",
      "1045857     NaN\n",
      "Name: Gross median rent, Length: 1045858, dtype: object\n"
     ]
    },
    {
     "data": {
      "text/plain": "     ntacode     shape_area  \\\n0       SI22  2497009.71359   \n1       MN19  1906016.35002   \n2       MN19  1860938.37721   \n3       MN17  1860992.70485   \n4       MN17  1864600.37503   \n...      ...            ...   \n2160    QN61  2536195.96005   \n2161    QN10  15530528.5775   \n2162    QN99  71788388.9114   \n2163    SI11  86233396.7938   \n2164    SI11  17601621.2932   \n\n                                                ntaname     shape_leng  \\\n0             West New Brighton-New Brighton-St. George  7729.01679383   \n1                               Turtle Bay-East Midtown  5534.19981063   \n2                               Turtle Bay-East Midtown  5692.16873705   \n3                                 Midtown-Midtown South  5687.80243866   \n4                                 Midtown-Midtown South  5693.03636655   \n...                                                 ...            ...   \n2160                                            Jamaica   8201.8752654   \n2161  Breezy Point-Belle Harbor-Rockaway Park-Broad ...  35194.2249482   \n2162                           park-cemetery-etc-Queens  182384.827557   \n2163             Charleston-Richmond Valley-Tottenville  54954.3509498   \n2164             Charleston-Richmond Valley-Tottenville  31778.4434412   \n\n          boro_name  puma  ct2010 boro_code cdeligibil boro_ct2010  ctlabel  \\\n0     Staten Island  3903  000900         5          E     5000900        9   \n1         Manhattan  3808  009800         1          I     1009800       98   \n2         Manhattan  3808  010000         1          I     1010000      100   \n3         Manhattan  3807  010200         1          I     1010200      102   \n4         Manhattan  3807  010400         1          I     1010400      104   \n...             ...   ...     ...       ...        ...         ...      ...   \n2160         Queens  4112  021200         4          I     4021200      212   \n2161         Queens  4114  107201         4          I     4107201  1072.01   \n2162         Queens  4114  107202         4          I     4107202  1072.02   \n2163  Staten Island  3901  022600         5          I     5022600      226   \n2164  Staten Island  3901  024800         5          I     5024800      248   \n\n                                               geometry         GeoId  \\\n0     MULTIPOLYGON (((-74.07921 40.64343, -74.07914 ...  3.903500e+10   \n1     MULTIPOLYGON (((-73.96433 40.75638, -73.96479 ...  3.808101e+10   \n2     MULTIPOLYGON (((-73.96802 40.75958, -73.96848 ...  3.808101e+10   \n3     MULTIPOLYGON (((-73.97124 40.76094, -73.97170 ...  3.807101e+10   \n4     MULTIPOLYGON (((-73.97446 40.76229, -73.97491 ...  3.807101e+10   \n...                                                 ...           ...   \n2160  MULTIPOLYGON (((-73.81153 40.70227, -73.81083 ...  4.112402e+10   \n2161  MULTIPOLYGON (((-73.81653 40.61495, -73.81655 ...  4.114411e+10   \n2162  MULTIPOLYGON (((-73.82645 40.59053, -73.82642 ...  4.114411e+10   \n2163  MULTIPOLYGON (((-74.20700 40.55757, -74.20880 ...  3.901502e+10   \n2164  MULTIPOLYGON (((-74.22948 40.51908, -74.22963 ...  3.901502e+10   \n\n      tractId Gross median rent  \n0         NaN               NaN  \n1         NaN               NaN  \n2         NaN               NaN  \n3         NaN               NaN  \n4         NaN               NaN  \n...       ...               ...  \n2160      NaN               NaN  \n2161      NaN               NaN  \n2162      NaN               NaN  \n2163      NaN               NaN  \n2164      NaN               NaN  \n\n[2165 rows x 15 columns]",
      "text/html": "<div>\n<style scoped>\n    .dataframe tbody tr th:only-of-type {\n        vertical-align: middle;\n    }\n\n    .dataframe tbody tr th {\n        vertical-align: top;\n    }\n\n    .dataframe thead th {\n        text-align: right;\n    }\n</style>\n<table border=\"1\" class=\"dataframe\">\n  <thead>\n    <tr style=\"text-align: right;\">\n      <th></th>\n      <th>ntacode</th>\n      <th>shape_area</th>\n      <th>ntaname</th>\n      <th>shape_leng</th>\n      <th>boro_name</th>\n      <th>puma</th>\n      <th>ct2010</th>\n      <th>boro_code</th>\n      <th>cdeligibil</th>\n      <th>boro_ct2010</th>\n      <th>ctlabel</th>\n      <th>geometry</th>\n      <th>GeoId</th>\n      <th>tractId</th>\n      <th>Gross median rent</th>\n    </tr>\n  </thead>\n  <tbody>\n    <tr>\n      <th>0</th>\n      <td>SI22</td>\n      <td>2497009.71359</td>\n      <td>West New Brighton-New Brighton-St. George</td>\n      <td>7729.01679383</td>\n      <td>Staten Island</td>\n      <td>3903</td>\n      <td>000900</td>\n      <td>5</td>\n      <td>E</td>\n      <td>5000900</td>\n      <td>9</td>\n      <td>MULTIPOLYGON (((-74.07921 40.64343, -74.07914 ...</td>\n      <td>3.903500e+10</td>\n      <td>NaN</td>\n      <td>NaN</td>\n    </tr>\n    <tr>\n      <th>1</th>\n      <td>MN19</td>\n      <td>1906016.35002</td>\n      <td>Turtle Bay-East Midtown</td>\n      <td>5534.19981063</td>\n      <td>Manhattan</td>\n      <td>3808</td>\n      <td>009800</td>\n      <td>1</td>\n      <td>I</td>\n      <td>1009800</td>\n      <td>98</td>\n      <td>MULTIPOLYGON (((-73.96433 40.75638, -73.96479 ...</td>\n      <td>3.808101e+10</td>\n      <td>NaN</td>\n      <td>NaN</td>\n    </tr>\n    <tr>\n      <th>2</th>\n      <td>MN19</td>\n      <td>1860938.37721</td>\n      <td>Turtle Bay-East Midtown</td>\n      <td>5692.16873705</td>\n      <td>Manhattan</td>\n      <td>3808</td>\n      <td>010000</td>\n      <td>1</td>\n      <td>I</td>\n      <td>1010000</td>\n      <td>100</td>\n      <td>MULTIPOLYGON (((-73.96802 40.75958, -73.96848 ...</td>\n      <td>3.808101e+10</td>\n      <td>NaN</td>\n      <td>NaN</td>\n    </tr>\n    <tr>\n      <th>3</th>\n      <td>MN17</td>\n      <td>1860992.70485</td>\n      <td>Midtown-Midtown South</td>\n      <td>5687.80243866</td>\n      <td>Manhattan</td>\n      <td>3807</td>\n      <td>010200</td>\n      <td>1</td>\n      <td>I</td>\n      <td>1010200</td>\n      <td>102</td>\n      <td>MULTIPOLYGON (((-73.97124 40.76094, -73.97170 ...</td>\n      <td>3.807101e+10</td>\n      <td>NaN</td>\n      <td>NaN</td>\n    </tr>\n    <tr>\n      <th>4</th>\n      <td>MN17</td>\n      <td>1864600.37503</td>\n      <td>Midtown-Midtown South</td>\n      <td>5693.03636655</td>\n      <td>Manhattan</td>\n      <td>3807</td>\n      <td>010400</td>\n      <td>1</td>\n      <td>I</td>\n      <td>1010400</td>\n      <td>104</td>\n      <td>MULTIPOLYGON (((-73.97446 40.76229, -73.97491 ...</td>\n      <td>3.807101e+10</td>\n      <td>NaN</td>\n      <td>NaN</td>\n    </tr>\n    <tr>\n      <th>...</th>\n      <td>...</td>\n      <td>...</td>\n      <td>...</td>\n      <td>...</td>\n      <td>...</td>\n      <td>...</td>\n      <td>...</td>\n      <td>...</td>\n      <td>...</td>\n      <td>...</td>\n      <td>...</td>\n      <td>...</td>\n      <td>...</td>\n      <td>...</td>\n      <td>...</td>\n    </tr>\n    <tr>\n      <th>2160</th>\n      <td>QN61</td>\n      <td>2536195.96005</td>\n      <td>Jamaica</td>\n      <td>8201.8752654</td>\n      <td>Queens</td>\n      <td>4112</td>\n      <td>021200</td>\n      <td>4</td>\n      <td>I</td>\n      <td>4021200</td>\n      <td>212</td>\n      <td>MULTIPOLYGON (((-73.81153 40.70227, -73.81083 ...</td>\n      <td>4.112402e+10</td>\n      <td>NaN</td>\n      <td>NaN</td>\n    </tr>\n    <tr>\n      <th>2161</th>\n      <td>QN10</td>\n      <td>15530528.5775</td>\n      <td>Breezy Point-Belle Harbor-Rockaway Park-Broad ...</td>\n      <td>35194.2249482</td>\n      <td>Queens</td>\n      <td>4114</td>\n      <td>107201</td>\n      <td>4</td>\n      <td>I</td>\n      <td>4107201</td>\n      <td>1072.01</td>\n      <td>MULTIPOLYGON (((-73.81653 40.61495, -73.81655 ...</td>\n      <td>4.114411e+10</td>\n      <td>NaN</td>\n      <td>NaN</td>\n    </tr>\n    <tr>\n      <th>2162</th>\n      <td>QN99</td>\n      <td>71788388.9114</td>\n      <td>park-cemetery-etc-Queens</td>\n      <td>182384.827557</td>\n      <td>Queens</td>\n      <td>4114</td>\n      <td>107202</td>\n      <td>4</td>\n      <td>I</td>\n      <td>4107202</td>\n      <td>1072.02</td>\n      <td>MULTIPOLYGON (((-73.82645 40.59053, -73.82642 ...</td>\n      <td>4.114411e+10</td>\n      <td>NaN</td>\n      <td>NaN</td>\n    </tr>\n    <tr>\n      <th>2163</th>\n      <td>SI11</td>\n      <td>86233396.7938</td>\n      <td>Charleston-Richmond Valley-Tottenville</td>\n      <td>54954.3509498</td>\n      <td>Staten Island</td>\n      <td>3901</td>\n      <td>022600</td>\n      <td>5</td>\n      <td>I</td>\n      <td>5022600</td>\n      <td>226</td>\n      <td>MULTIPOLYGON (((-74.20700 40.55757, -74.20880 ...</td>\n      <td>3.901502e+10</td>\n      <td>NaN</td>\n      <td>NaN</td>\n    </tr>\n    <tr>\n      <th>2164</th>\n      <td>SI11</td>\n      <td>17601621.2932</td>\n      <td>Charleston-Richmond Valley-Tottenville</td>\n      <td>31778.4434412</td>\n      <td>Staten Island</td>\n      <td>3901</td>\n      <td>024800</td>\n      <td>5</td>\n      <td>I</td>\n      <td>5024800</td>\n      <td>248</td>\n      <td>MULTIPOLYGON (((-74.22948 40.51908, -74.22963 ...</td>\n      <td>3.901502e+10</td>\n      <td>NaN</td>\n      <td>NaN</td>\n    </tr>\n  </tbody>\n</table>\n<p>2165 rows × 15 columns</p>\n</div>"
     },
     "execution_count": 40,
     "metadata": {},
     "output_type": "execute_result"
    }
   ],
   "source": [
    "# df_merge = geopandas.pd.merge(census, rent, how='left', on='GeoId')\n",
    "census.head()\n",
    "census['GeoId'] = census['GeoId'].astype(float)\n",
    "# rent['Gross median rent'] = rent['Gross median rent'].astype(float)\n",
    "\n",
    "print(rent['Gross median rent'])\n",
    "\n",
    "# merged_master = census.GeoDataFrame(pd.merge(census, rent, on=\"GeoId\", how=\"left\"))\n",
    "df  = census.merge(rent, on='GeoId', how='left')\n",
    "df\n",
    "# df  = tab_df.merge(spatial_df, on='mukey', how='right')\n",
    "# gdf = gpd.GeoDataFrame(df)\n"
   ],
   "metadata": {
    "collapsed": false,
    "pycharm": {
     "name": "#%%\n"
    }
   }
  },
  {
   "cell_type": "code",
   "execution_count": 51,
   "outputs": [
    {
     "data": {
      "text/plain": "0     NaN\n1     NaN\n2     NaN\n3     NaN\n4     NaN\n       ..\n995   NaN\n996   NaN\n997   NaN\n998   NaN\n999   NaN\nName: Gross median rent, Length: 1000, dtype: float64"
     },
     "execution_count": 51,
     "metadata": {},
     "output_type": "execute_result"
    }
   ],
   "source": [
    "df['Gross median rent'] = df['Gross median rent'].astype(float)\n",
    "df.dtypes\n",
    "df['Gross median rent'].head(1000)"
   ],
   "metadata": {
    "collapsed": false,
    "pycharm": {
     "name": "#%%\n"
    }
   }
  },
  {
   "cell_type": "code",
   "execution_count": 3,
   "outputs": [
    {
     "data": {
      "text/plain": "(1045858, 3)"
     },
     "execution_count": 3,
     "metadata": {},
     "output_type": "execute_result"
    }
   ],
   "source": [
    "rent.shape\n"
   ],
   "metadata": {
    "collapsed": false,
    "pycharm": {
     "name": "#%%\n"
    }
   }
  },
  {
   "cell_type": "code",
   "execution_count": 10,
   "outputs": [
    {
     "name": "stdout",
     "output_type": "stream",
     "text": [
      "['3903' '3808' '3807' '3805' '3804' '3803' '3801' '4004' '4013' '4005'\n",
      " '4012' '4014' '4017' '4006' '4003' '4002' '4011' '4018' '4007' '4016'\n",
      " '4015' '4001' '4009' '4010' '4008' '3710' '3709' '3705' '3708' '3703'\n",
      " '3704' '3707' '3701' '3702' '3706' '4111' '4101' '4113' '4109' '4112'\n",
      " '4106' '4107' '4102' '4110' '4105' '4108' '4103' '4114' '4104' '3802'\n",
      " '3809' '3902' '3901' '3810' '3806']\n",
      "hello\n"
     ]
    }
   ],
   "source": [
    "print(census['puma'].unique())\n",
    "print('hello')"
   ],
   "metadata": {
    "collapsed": false,
    "pycharm": {
     "name": "#%%\n"
    }
   }
  }
 ],
 "metadata": {
  "kernelspec": {
   "display_name": "Python 3",
   "language": "python",
   "name": "python3"
  },
  "language_info": {
   "codemirror_mode": {
    "name": "ipython",
    "version": 2
   },
   "file_extension": ".py",
   "mimetype": "text/x-python",
   "name": "python",
   "nbconvert_exporter": "python",
   "pygments_lexer": "ipython2",
   "version": "2.7.6"
  }
 },
 "nbformat": 4,
 "nbformat_minor": 0
}