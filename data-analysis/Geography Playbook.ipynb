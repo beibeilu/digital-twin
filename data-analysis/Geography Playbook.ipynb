{
 "cells": [
  {
   "cell_type": "code",
   "execution_count": 1,
   "metadata": {
    "pycharm": {
     "name": "#%%\n"
    }
   },
   "outputs": [],
   "source": [
    "import geopandas\n",
    "import pandas as pd\n",
    "import matplotlib as plt"
   ]
  },
  {
   "cell_type": "code",
   "execution_count": 2,
   "metadata": {
    "pycharm": {
     "name": "#%%\n"
    }
   },
   "outputs": [],
   "source": [
    "geo_opendata = geopandas.read_file('Source/2010 Census Tracts.geojson')\n",
    "geo_slim = geopandas.read_file('Clean Data/geo_income_rent.geojson')\n",
    "zipcode = geopandas.read_file('Source/ZIP_CODE_shapefile/ZIP_CODE_040114.shp')\n",
    "nyu_tract = geopandas.read_file('Source/nyu_2010 New York City Census Tracts/nyu_2451_34505.shp')"
   ]
  },
  {
   "cell_type": "code",
   "execution_count": 34,
   "metadata": {
    "pycharm": {
     "name": "#%%\n"
    }
   },
   "outputs": [
    {
     "data": {
      "text/html": [
       "<div>\n",
       "<style scoped>\n",
       "    .dataframe tbody tr th:only-of-type {\n",
       "        vertical-align: middle;\n",
       "    }\n",
       "\n",
       "    .dataframe tbody tr th {\n",
       "        vertical-align: top;\n",
       "    }\n",
       "\n",
       "    .dataframe thead th {\n",
       "        text-align: right;\n",
       "    }\n",
       "</style>\n",
       "<table border=\"1\" class=\"dataframe\">\n",
       "  <thead>\n",
       "    <tr style=\"text-align: right;\">\n",
       "      <th></th>\n",
       "      <th>GEO_ID</th>\n",
       "      <th>County</th>\n",
       "      <th>first_4_digits</th>\n",
       "      <th>boro</th>\n",
       "      <th>MEDIAN_HOUSEHOLD_INCOME_2010</th>\n",
       "      <th>MEDIAN_RENT_2010</th>\n",
       "      <th>GROSS_RENT_MEDIAN_INCOME_PERCENTAGE_2010</th>\n",
       "      <th>geometry</th>\n",
       "    </tr>\n",
       "  </thead>\n",
       "  <tbody>\n",
       "    <tr>\n",
       "      <th>0</th>\n",
       "      <td>36005000100</td>\n",
       "      <td>Bronx County</td>\n",
       "      <td>3600</td>\n",
       "      <td>5000</td>\n",
       "      <td>-666666666</td>\n",
       "      <td>0</td>\n",
       "      <td>0</td>\n",
       "      <td>POLYGON ((-8223304.523 4981044.586, -8223307.3...</td>\n",
       "    </tr>\n",
       "    <tr>\n",
       "      <th>1</th>\n",
       "      <td>36005000200</td>\n",
       "      <td>Bronx County</td>\n",
       "      <td>3600</td>\n",
       "      <td>5000</td>\n",
       "      <td>59826</td>\n",
       "      <td>482</td>\n",
       "      <td>30</td>\n",
       "      <td>POLYGON ((-8221503.700 4983296.896, -8221648.4...</td>\n",
       "    </tr>\n",
       "    <tr>\n",
       "      <th>2</th>\n",
       "      <td>36005000400</td>\n",
       "      <td>Bronx County</td>\n",
       "      <td>3600</td>\n",
       "      <td>5000</td>\n",
       "      <td>71968</td>\n",
       "      <td>560</td>\n",
       "      <td>60</td>\n",
       "      <td>MULTIPOLYGON (((-8221072.012 4985004.760, -822...</td>\n",
       "    </tr>\n",
       "    <tr>\n",
       "      <th>3</th>\n",
       "      <td>36005001600</td>\n",
       "      <td>Bronx County</td>\n",
       "      <td>3600</td>\n",
       "      <td>5001</td>\n",
       "      <td>30355</td>\n",
       "      <td>1494</td>\n",
       "      <td>94</td>\n",
       "      <td>POLYGON ((-8221516.289 4986187.406, -8221497.4...</td>\n",
       "    </tr>\n",
       "    <tr>\n",
       "      <th>4</th>\n",
       "      <td>36005001900</td>\n",
       "      <td>Bronx County</td>\n",
       "      <td>3600</td>\n",
       "      <td>5001</td>\n",
       "      <td>25093</td>\n",
       "      <td>568</td>\n",
       "      <td>46</td>\n",
       "      <td>MULTIPOLYGON (((-8226302.917 4982445.645, -822...</td>\n",
       "    </tr>\n",
       "  </tbody>\n",
       "</table>\n",
       "</div>"
      ],
      "text/plain": [
       "        GEO_ID        County first_4_digits  boro  \\\n",
       "0  36005000100  Bronx County           3600  5000   \n",
       "1  36005000200  Bronx County           3600  5000   \n",
       "2  36005000400  Bronx County           3600  5000   \n",
       "3  36005001600  Bronx County           3600  5001   \n",
       "4  36005001900  Bronx County           3600  5001   \n",
       "\n",
       "   MEDIAN_HOUSEHOLD_INCOME_2010  MEDIAN_RENT_2010  \\\n",
       "0                    -666666666                 0   \n",
       "1                         59826               482   \n",
       "2                         71968               560   \n",
       "3                         30355              1494   \n",
       "4                         25093               568   \n",
       "\n",
       "   GROSS_RENT_MEDIAN_INCOME_PERCENTAGE_2010  \\\n",
       "0                                         0   \n",
       "1                                        30   \n",
       "2                                        60   \n",
       "3                                        94   \n",
       "4                                        46   \n",
       "\n",
       "                                            geometry  \n",
       "0  POLYGON ((-8223304.523 4981044.586, -8223307.3...  \n",
       "1  POLYGON ((-8221503.700 4983296.896, -8221648.4...  \n",
       "2  MULTIPOLYGON (((-8221072.012 4985004.760, -822...  \n",
       "3  POLYGON ((-8221516.289 4986187.406, -8221497.4...  \n",
       "4  MULTIPOLYGON (((-8226302.917 4982445.645, -822...  "
      ]
     },
     "execution_count": 34,
     "metadata": {},
     "output_type": "execute_result"
    }
   ],
   "source": [
    "geo_slim.head()"
   ]
  },
  {
   "cell_type": "code",
   "execution_count": 20,
   "metadata": {
    "pycharm": {
     "name": "#%%\n"
    }
   },
   "outputs": [
    {
     "data": {
      "text/plain": [
       "<AxesSubplot:>"
      ]
     },
     "execution_count": 20,
     "metadata": {},
     "output_type": "execute_result"
    },
    {
     "data": {
      "image/png": "[encoded data removed]",
      "text/plain": [
       "<Figure size 432x288 with 1 Axes>"
      ]
     },
     "metadata": {
      "needs_background": "light"
     },
     "output_type": "display_data"
    }
   ],
   "source": [
    "nyu_tract.plot()"
   ]
  },
  {
   "cell_type": "code",
   "execution_count": 21,
   "metadata": {
    "pycharm": {
     "name": "#%%\n"
    }
   },
   "outputs": [
    {
     "data": {
      "text/html": [
       "<div>\n",
       "<style scoped>\n",
       "    .dataframe tbody tr th:only-of-type {\n",
       "        vertical-align: middle;\n",
       "    }\n",
       "\n",
       "    .dataframe tbody tr th {\n",
       "        vertical-align: top;\n",
       "    }\n",
       "\n",
       "    .dataframe thead th {\n",
       "        text-align: right;\n",
       "    }\n",
       "</style>\n",
       "<table border=\"1\" class=\"dataframe\">\n",
       "  <thead>\n",
       "    <tr style=\"text-align: right;\">\n",
       "      <th></th>\n",
       "      <th>tractid</th>\n",
       "      <th>tractnum</th>\n",
       "      <th>name</th>\n",
       "      <th>namelsad</th>\n",
       "      <th>nta</th>\n",
       "      <th>nta_name</th>\n",
       "      <th>bcode</th>\n",
       "      <th>geometry</th>\n",
       "    </tr>\n",
       "  </thead>\n",
       "  <tbody>\n",
       "    <tr>\n",
       "      <th>0</th>\n",
       "      <td>36005000100</td>\n",
       "      <td>000100</td>\n",
       "      <td>1</td>\n",
       "      <td>Census Tract 1</td>\n",
       "      <td>BX98</td>\n",
       "      <td>Rikers Island</td>\n",
       "      <td>36005</td>\n",
       "      <td>POLYGON ((1019965.737 226696.334, 1019943.935 ...</td>\n",
       "    </tr>\n",
       "    <tr>\n",
       "      <th>1</th>\n",
       "      <td>36005000200</td>\n",
       "      <td>000200</td>\n",
       "      <td>2</td>\n",
       "      <td>Census Tract 2</td>\n",
       "      <td>BX09</td>\n",
       "      <td>Soundview-Castle Hill-Clason Point-Harding Park</td>\n",
       "      <td>36005</td>\n",
       "      <td>POLYGON ((1021558.247 236060.696, 1021824.736 ...</td>\n",
       "    </tr>\n",
       "    <tr>\n",
       "      <th>2</th>\n",
       "      <td>36005000400</td>\n",
       "      <td>000400</td>\n",
       "      <td>4</td>\n",
       "      <td>Census Tract 4</td>\n",
       "      <td>BX09</td>\n",
       "      <td>Soundview-Castle Hill-Clason Point-Harding Park</td>\n",
       "      <td>36005</td>\n",
       "      <td>MULTIPOLYGON (((1023113.723 236337.849, 102336...</td>\n",
       "    </tr>\n",
       "    <tr>\n",
       "      <th>3</th>\n",
       "      <td>36005001600</td>\n",
       "      <td>001600</td>\n",
       "      <td>16</td>\n",
       "      <td>Census Tract 16</td>\n",
       "      <td>BX09</td>\n",
       "      <td>Soundview-Castle Hill-Clason Point-Harding Park</td>\n",
       "      <td>36005</td>\n",
       "      <td>POLYGON ((1022690.148 238650.346, 1022944.985 ...</td>\n",
       "    </tr>\n",
       "    <tr>\n",
       "      <th>4</th>\n",
       "      <td>36005001900</td>\n",
       "      <td>001900</td>\n",
       "      <td>19</td>\n",
       "      <td>Census Tract 19</td>\n",
       "      <td>BX39</td>\n",
       "      <td>Mott Haven-Port Morris</td>\n",
       "      <td>36005</td>\n",
       "      <td>MULTIPOLYGON (((1003183.626 233654.444, 100336...</td>\n",
       "    </tr>\n",
       "  </tbody>\n",
       "</table>\n",
       "</div>"
      ],
      "text/plain": [
       "       tractid tractnum name         namelsad   nta  \\\n",
       "0  36005000100   000100    1   Census Tract 1  BX98   \n",
       "1  36005000200   000200    2   Census Tract 2  BX09   \n",
       "2  36005000400   000400    4   Census Tract 4  BX09   \n",
       "3  36005001600   001600   16  Census Tract 16  BX09   \n",
       "4  36005001900   001900   19  Census Tract 19  BX39   \n",
       "\n",
       "                                          nta_name  bcode  \\\n",
       "0                                    Rikers Island  36005   \n",
       "1  Soundview-Castle Hill-Clason Point-Harding Park  36005   \n",
       "2  Soundview-Castle Hill-Clason Point-Harding Park  36005   \n",
       "3  Soundview-Castle Hill-Clason Point-Harding Park  36005   \n",
       "4                           Mott Haven-Port Morris  36005   \n",
       "\n",
       "                                            geometry  \n",
       "0  POLYGON ((1019965.737 226696.334, 1019943.935 ...  \n",
       "1  POLYGON ((1021558.247 236060.696, 1021824.736 ...  \n",
       "2  MULTIPOLYGON (((1023113.723 236337.849, 102336...  \n",
       "3  POLYGON ((1022690.148 238650.346, 1022944.985 ...  \n",
       "4  MULTIPOLYGON (((1003183.626 233654.444, 100336...  "
      ]
     },
     "execution_count": 21,
     "metadata": {},
     "output_type": "execute_result"
    }
   ],
   "source": [
    "nyu_tract.head()"
   ]
  },
  {
   "cell_type": "code",
   "execution_count": 5,
   "metadata": {
    "pycharm": {
     "name": "#%%\n"
    }
   },
   "outputs": [],
   "source": [
    "cols = ['tractid','nta','nta_name']\n",
    "nyu_tract_slim = nyu_tract[cols]"
   ]
  },
  {
   "cell_type": "code",
   "execution_count": 6,
   "metadata": {
    "pycharm": {
     "name": "#%%\n"
    }
   },
   "outputs": [
    {
     "name": "stdout",
     "output_type": "stream",
     "text": [
      "tractid      int64\n",
      "nta         object\n",
      "nta_name    object\n",
      "dtype: object\n"
     ]
    },
    {
     "name": "stderr",
     "output_type": "stream",
     "text": [
      "<ipython-input-6-37406e2b821b>:1: SettingWithCopyWarning: \n",
      "A value is trying to be set on a copy of a slice from a DataFrame.\n",
      "Try using .loc[row_indexer,col_indexer] = value instead\n",
      "\n",
      "See the caveats in the documentation: https://pandas.pydata.org/pandas-docs/stable/user_guide/indexing.html#returning-a-view-versus-a-copy\n",
      "  nyu_tract_slim['tractid'] = nyu_tract_slim['tractid'].astype(int)\n"
     ]
    }
   ],
   "source": [
    "nyu_tract_slim['tractid'] = nyu_tract_slim['tractid'].astype(int)\n",
    "print(nyu_tract_slim.dtypes)"
   ]
  },
  {
   "cell_type": "code",
   "execution_count": 7,
   "metadata": {
    "pycharm": {
     "name": "#%%\n"
    }
   },
   "outputs": [
    {
     "name": "stderr",
     "output_type": "stream",
     "text": [
      "/usr/local/anaconda3/envs/py38/lib/python3.8/site-packages/pandas/core/frame.py:4293: SettingWithCopyWarning: \n",
      "A value is trying to be set on a copy of a slice from a DataFrame\n",
      "\n",
      "See the caveats in the documentation: https://pandas.pydata.org/pandas-docs/stable/user_guide/indexing.html#returning-a-view-versus-a-copy\n",
      "  return super().rename(\n"
     ]
    }
   ],
   "source": [
    "nyu_tract_slim.rename(columns={'tractid':\"GEO_ID\"}, inplace=True)"
   ]
  },
  {
   "cell_type": "code",
   "execution_count": 8,
   "metadata": {
    "pycharm": {
     "name": "#%%\n"
    }
   },
   "outputs": [],
   "source": [
    "geo_name_income_rent = pd.merge(nyu_tract_slim, geo_slim, how='inner', on='GEO_ID')"
   ]
  },
  {
   "cell_type": "code",
   "execution_count": 12,
   "metadata": {
    "pycharm": {
     "name": "#%%\n"
    }
   },
   "outputs": [
    {
     "data": {
      "text/html": [
       "<div>\n",
       "<style scoped>\n",
       "    .dataframe tbody tr th:only-of-type {\n",
       "        vertical-align: middle;\n",
       "    }\n",
       "\n",
       "    .dataframe tbody tr th {\n",
       "        vertical-align: top;\n",
       "    }\n",
       "\n",
       "    .dataframe thead th {\n",
       "        text-align: right;\n",
       "    }\n",
       "</style>\n",
       "<table border=\"1\" class=\"dataframe\">\n",
       "  <thead>\n",
       "    <tr style=\"text-align: right;\">\n",
       "      <th></th>\n",
       "      <th>GEO_ID</th>\n",
       "      <th>nta</th>\n",
       "      <th>nta_name</th>\n",
       "      <th>County</th>\n",
       "      <th>first_4_digits</th>\n",
       "      <th>boro</th>\n",
       "      <th>MEDIAN_HOUSEHOLD_INCOME_2010</th>\n",
       "      <th>MEDIAN_RENT_2010</th>\n",
       "      <th>GROSS_RENT_MEDIAN_INCOME_PERCENTAGE_2010</th>\n",
       "      <th>geometry</th>\n",
       "    </tr>\n",
       "  </thead>\n",
       "  <tbody>\n",
       "    <tr>\n",
       "      <th>0</th>\n",
       "      <td>36005000100</td>\n",
       "      <td>BX98</td>\n",
       "      <td>Rikers Island</td>\n",
       "      <td>Bronx County</td>\n",
       "      <td>3600</td>\n",
       "      <td>5000</td>\n",
       "      <td>-666666666</td>\n",
       "      <td>0</td>\n",
       "      <td>0</td>\n",
       "      <td>POLYGON ((-8223304.523 4981044.586, -8223307.3...</td>\n",
       "    </tr>\n",
       "    <tr>\n",
       "      <th>1</th>\n",
       "      <td>36005000200</td>\n",
       "      <td>BX09</td>\n",
       "      <td>Soundview-Castle Hill-Clason Point-Harding Park</td>\n",
       "      <td>Bronx County</td>\n",
       "      <td>3600</td>\n",
       "      <td>5000</td>\n",
       "      <td>59826</td>\n",
       "      <td>482</td>\n",
       "      <td>30</td>\n",
       "      <td>POLYGON ((-8221503.700 4983296.896, -8221648.4...</td>\n",
       "    </tr>\n",
       "    <tr>\n",
       "      <th>2</th>\n",
       "      <td>36005000400</td>\n",
       "      <td>BX09</td>\n",
       "      <td>Soundview-Castle Hill-Clason Point-Harding Park</td>\n",
       "      <td>Bronx County</td>\n",
       "      <td>3600</td>\n",
       "      <td>5000</td>\n",
       "      <td>71968</td>\n",
       "      <td>560</td>\n",
       "      <td>60</td>\n",
       "      <td>MULTIPOLYGON (((-8221072.012 4985004.760, -822...</td>\n",
       "    </tr>\n",
       "    <tr>\n",
       "      <th>3</th>\n",
       "      <td>36005001600</td>\n",
       "      <td>BX09</td>\n",
       "      <td>Soundview-Castle Hill-Clason Point-Harding Park</td>\n",
       "      <td>Bronx County</td>\n",
       "      <td>3600</td>\n",
       "      <td>5001</td>\n",
       "      <td>30355</td>\n",
       "      <td>1494</td>\n",
       "      <td>94</td>\n",
       "      <td>POLYGON ((-8221516.289 4986187.406, -8221497.4...</td>\n",
       "    </tr>\n",
       "    <tr>\n",
       "      <th>4</th>\n",
       "      <td>36005001900</td>\n",
       "      <td>BX39</td>\n",
       "      <td>Mott Haven-Port Morris</td>\n",
       "      <td>Bronx County</td>\n",
       "      <td>3600</td>\n",
       "      <td>5001</td>\n",
       "      <td>25093</td>\n",
       "      <td>568</td>\n",
       "      <td>46</td>\n",
       "      <td>MULTIPOLYGON (((-8226302.917 4982445.645, -822...</td>\n",
       "    </tr>\n",
       "  </tbody>\n",
       "</table>\n",
       "</div>"
      ],
      "text/plain": [
       "        GEO_ID   nta                                         nta_name  \\\n",
       "0  36005000100  BX98                                    Rikers Island   \n",
       "1  36005000200  BX09  Soundview-Castle Hill-Clason Point-Harding Park   \n",
       "2  36005000400  BX09  Soundview-Castle Hill-Clason Point-Harding Park   \n",
       "3  36005001600  BX09  Soundview-Castle Hill-Clason Point-Harding Park   \n",
       "4  36005001900  BX39                           Mott Haven-Port Morris   \n",
       "\n",
       "         County first_4_digits  boro  MEDIAN_HOUSEHOLD_INCOME_2010  \\\n",
       "0  Bronx County           3600  5000                    -666666666   \n",
       "1  Bronx County           3600  5000                         59826   \n",
       "2  Bronx County           3600  5000                         71968   \n",
       "3  Bronx County           3600  5001                         30355   \n",
       "4  Bronx County           3600  5001                         25093   \n",
       "\n",
       "   MEDIAN_RENT_2010  GROSS_RENT_MEDIAN_INCOME_PERCENTAGE_2010  \\\n",
       "0                 0                                         0   \n",
       "1               482                                        30   \n",
       "2               560                                        60   \n",
       "3              1494                                        94   \n",
       "4               568                                        46   \n",
       "\n",
       "                                            geometry  \n",
       "0  POLYGON ((-8223304.523 4981044.586, -8223307.3...  \n",
       "1  POLYGON ((-8221503.700 4983296.896, -8221648.4...  \n",
       "2  MULTIPOLYGON (((-8221072.012 4985004.760, -822...  \n",
       "3  POLYGON ((-8221516.289 4986187.406, -8221497.4...  \n",
       "4  MULTIPOLYGON (((-8226302.917 4982445.645, -822...  "
      ]
     },
     "execution_count": 12,
     "metadata": {},
     "output_type": "execute_result"
    }
   ],
   "source": [
    "geo_name_income_rent.dtypes\n",
    "geo_name_income_rent.head()"
   ]
  },
  {
   "cell_type": "code",
   "execution_count": 13,
   "metadata": {
    "pycharm": {
     "name": "#%%\n"
    }
   },
   "outputs": [
    {
     "data": {
      "text/html": [
       "<div>\n",
       "<style scoped>\n",
       "    .dataframe tbody tr th:only-of-type {\n",
       "        vertical-align: middle;\n",
       "    }\n",
       "\n",
       "    .dataframe tbody tr th {\n",
       "        vertical-align: top;\n",
       "    }\n",
       "\n",
       "    .dataframe thead th {\n",
       "        text-align: right;\n",
       "    }\n",
       "</style>\n",
       "<table border=\"1\" class=\"dataframe\">\n",
       "  <thead>\n",
       "    <tr style=\"text-align: right;\">\n",
       "      <th></th>\n",
       "      <th>GEO_ID</th>\n",
       "      <th>nta_name</th>\n",
       "      <th>County</th>\n",
       "      <th>MEDIAN_HOUSEHOLD_INCOME_2010</th>\n",
       "      <th>MEDIAN_RENT_2010</th>\n",
       "      <th>GROSS_RENT_MEDIAN_INCOME_PERCENTAGE_2010</th>\n",
       "      <th>geometry</th>\n",
       "    </tr>\n",
       "  </thead>\n",
       "  <tbody>\n",
       "    <tr>\n",
       "      <th>0</th>\n",
       "      <td>36005000100</td>\n",
       "      <td>Rikers Island</td>\n",
       "      <td>Bronx County</td>\n",
       "      <td>-666666666</td>\n",
       "      <td>0</td>\n",
       "      <td>0</td>\n",
       "      <td>POLYGON ((-8223304.523 4981044.586, -8223307.3...</td>\n",
       "    </tr>\n",
       "    <tr>\n",
       "      <th>1</th>\n",
       "      <td>36005000200</td>\n",
       "      <td>Soundview-Castle Hill-Clason Point-Harding Park</td>\n",
       "      <td>Bronx County</td>\n",
       "      <td>59826</td>\n",
       "      <td>482</td>\n",
       "      <td>30</td>\n",
       "      <td>POLYGON ((-8221503.700 4983296.896, -8221648.4...</td>\n",
       "    </tr>\n",
       "    <tr>\n",
       "      <th>2</th>\n",
       "      <td>36005000400</td>\n",
       "      <td>Soundview-Castle Hill-Clason Point-Harding Park</td>\n",
       "      <td>Bronx County</td>\n",
       "      <td>71968</td>\n",
       "      <td>560</td>\n",
       "      <td>60</td>\n",
       "      <td>MULTIPOLYGON (((-8221072.012 4985004.760, -822...</td>\n",
       "    </tr>\n",
       "    <tr>\n",
       "      <th>3</th>\n",
       "      <td>36005001600</td>\n",
       "      <td>Soundview-Castle Hill-Clason Point-Harding Park</td>\n",
       "      <td>Bronx County</td>\n",
       "      <td>30355</td>\n",
       "      <td>1494</td>\n",
       "      <td>94</td>\n",
       "      <td>POLYGON ((-8221516.289 4986187.406, -8221497.4...</td>\n",
       "    </tr>\n",
       "    <tr>\n",
       "      <th>4</th>\n",
       "      <td>36005001900</td>\n",
       "      <td>Mott Haven-Port Morris</td>\n",
       "      <td>Bronx County</td>\n",
       "      <td>25093</td>\n",
       "      <td>568</td>\n",
       "      <td>46</td>\n",
       "      <td>MULTIPOLYGON (((-8226302.917 4982445.645, -822...</td>\n",
       "    </tr>\n",
       "    <tr>\n",
       "      <th>...</th>\n",
       "      <td>...</td>\n",
       "      <td>...</td>\n",
       "      <td>...</td>\n",
       "      <td>...</td>\n",
       "      <td>...</td>\n",
       "      <td>...</td>\n",
       "      <td>...</td>\n",
       "    </tr>\n",
       "    <tr>\n",
       "      <th>2159</th>\n",
       "      <td>36085030301</td>\n",
       "      <td>Mariner's Harbor-Arlington-Port Ivory-Granitev...</td>\n",
       "      <td>Richmond County</td>\n",
       "      <td>67431</td>\n",
       "      <td>758</td>\n",
       "      <td>88</td>\n",
       "      <td>POLYGON ((-8253911.271 4957176.553, -8253911.3...</td>\n",
       "    </tr>\n",
       "    <tr>\n",
       "      <th>2160</th>\n",
       "      <td>36085030302</td>\n",
       "      <td>Mariner's Harbor-Arlington-Port Ivory-Granitev...</td>\n",
       "      <td>Richmond County</td>\n",
       "      <td>75724</td>\n",
       "      <td>512</td>\n",
       "      <td>18</td>\n",
       "      <td>POLYGON ((-8255509.486 4957411.225, -8255480.7...</td>\n",
       "    </tr>\n",
       "    <tr>\n",
       "      <th>2161</th>\n",
       "      <td>36085031901</td>\n",
       "      <td>Mariner's Harbor-Arlington-Port Ivory-Granitev...</td>\n",
       "      <td>Richmond County</td>\n",
       "      <td>30492</td>\n",
       "      <td>829</td>\n",
       "      <td>65</td>\n",
       "      <td>POLYGON ((-8255488.224 4958475.827, -8255491.6...</td>\n",
       "    </tr>\n",
       "    <tr>\n",
       "      <th>2162</th>\n",
       "      <td>36085031902</td>\n",
       "      <td>Mariner's Harbor-Arlington-Port Ivory-Granitev...</td>\n",
       "      <td>Richmond County</td>\n",
       "      <td>44412</td>\n",
       "      <td>630</td>\n",
       "      <td>102</td>\n",
       "      <td>MULTIPOLYGON (((-8255601.770 4959713.657, -825...</td>\n",
       "    </tr>\n",
       "    <tr>\n",
       "      <th>2163</th>\n",
       "      <td>36085032300</td>\n",
       "      <td>Mariner's Harbor-Arlington-Port Ivory-Granitev...</td>\n",
       "      <td>Richmond County</td>\n",
       "      <td>27600</td>\n",
       "      <td>196</td>\n",
       "      <td>30</td>\n",
       "      <td>MULTIPOLYGON (((-8259066.256 4958422.580, -825...</td>\n",
       "    </tr>\n",
       "  </tbody>\n",
       "</table>\n",
       "<p>2164 rows × 7 columns</p>\n",
       "</div>"
      ],
      "text/plain": [
       "           GEO_ID                                           nta_name  \\\n",
       "0     36005000100                                      Rikers Island   \n",
       "1     36005000200    Soundview-Castle Hill-Clason Point-Harding Park   \n",
       "2     36005000400    Soundview-Castle Hill-Clason Point-Harding Park   \n",
       "3     36005001600    Soundview-Castle Hill-Clason Point-Harding Park   \n",
       "4     36005001900                             Mott Haven-Port Morris   \n",
       "...           ...                                                ...   \n",
       "2159  36085030301  Mariner's Harbor-Arlington-Port Ivory-Granitev...   \n",
       "2160  36085030302  Mariner's Harbor-Arlington-Port Ivory-Granitev...   \n",
       "2161  36085031901  Mariner's Harbor-Arlington-Port Ivory-Granitev...   \n",
       "2162  36085031902  Mariner's Harbor-Arlington-Port Ivory-Granitev...   \n",
       "2163  36085032300  Mariner's Harbor-Arlington-Port Ivory-Granitev...   \n",
       "\n",
       "               County  MEDIAN_HOUSEHOLD_INCOME_2010  MEDIAN_RENT_2010  \\\n",
       "0        Bronx County                    -666666666                 0   \n",
       "1        Bronx County                         59826               482   \n",
       "2        Bronx County                         71968               560   \n",
       "3        Bronx County                         30355              1494   \n",
       "4        Bronx County                         25093               568   \n",
       "...               ...                           ...               ...   \n",
       "2159  Richmond County                         67431               758   \n",
       "2160  Richmond County                         75724               512   \n",
       "2161  Richmond County                         30492               829   \n",
       "2162  Richmond County                         44412               630   \n",
       "2163  Richmond County                         27600               196   \n",
       "\n",
       "      GROSS_RENT_MEDIAN_INCOME_PERCENTAGE_2010  \\\n",
       "0                                            0   \n",
       "1                                           30   \n",
       "2                                           60   \n",
       "3                                           94   \n",
       "4                                           46   \n",
       "...                                        ...   \n",
       "2159                                        88   \n",
       "2160                                        18   \n",
       "2161                                        65   \n",
       "2162                                       102   \n",
       "2163                                        30   \n",
       "\n",
       "                                               geometry  \n",
       "0     POLYGON ((-8223304.523 4981044.586, -8223307.3...  \n",
       "1     POLYGON ((-8221503.700 4983296.896, -8221648.4...  \n",
       "2     MULTIPOLYGON (((-8221072.012 4985004.760, -822...  \n",
       "3     POLYGON ((-8221516.289 4986187.406, -8221497.4...  \n",
       "4     MULTIPOLYGON (((-8226302.917 4982445.645, -822...  \n",
       "...                                                 ...  \n",
       "2159  POLYGON ((-8253911.271 4957176.553, -8253911.3...  \n",
       "2160  POLYGON ((-8255509.486 4957411.225, -8255480.7...  \n",
       "2161  POLYGON ((-8255488.224 4958475.827, -8255491.6...  \n",
       "2162  MULTIPOLYGON (((-8255601.770 4959713.657, -825...  \n",
       "2163  MULTIPOLYGON (((-8259066.256 4958422.580, -825...  \n",
       "\n",
       "[2164 rows x 7 columns]"
      ]
     },
     "execution_count": 13,
     "metadata": {},
     "output_type": "execute_result"
    }
   ],
   "source": [
    "geo_name_income_rent.drop(columns=['first_4_digits', 'boro', 'nta'])"
   ]
  },
  {
   "cell_type": "code",
   "execution_count": 14,
   "metadata": {
    "pycharm": {
     "name": "#%%\n"
    }
   },
   "outputs": [
    {
     "ename": "AttributeError",
     "evalue": "'DataFrame' object has no attribute 'to_file'",
     "output_type": "error",
     "traceback": [
      "\u001B[0;31m---------------------------------------------------------------------------\u001B[0m",
      "\u001B[0;31mAttributeError\u001B[0m                            Traceback (most recent call last)",
      "\u001B[0;32m<ipython-input-14-261f6af891a3>\u001B[0m in \u001B[0;36m<module>\u001B[0;34m\u001B[0m\n\u001B[0;32m----> 1\u001B[0;31m \u001B[0mgeo_name_income_rent\u001B[0m\u001B[0;34m.\u001B[0m\u001B[0mto_file\u001B[0m\u001B[0;34m(\u001B[0m\u001B[0;34m'geo_name_income_rent.geojson'\u001B[0m\u001B[0;34m,\u001B[0m\u001B[0mdriver\u001B[0m\u001B[0;34m=\u001B[0m\u001B[0;34m'GeoJSON'\u001B[0m\u001B[0;34m)\u001B[0m\u001B[0;34m\u001B[0m\u001B[0;34m\u001B[0m\u001B[0m\n\u001B[0m",
      "\u001B[0;32m/usr/local/anaconda3/envs/py38/lib/python3.8/site-packages/pandas/core/generic.py\u001B[0m in \u001B[0;36m__getattr__\u001B[0;34m(self, name)\u001B[0m\n\u001B[1;32m   5128\u001B[0m             \u001B[0;32mif\u001B[0m \u001B[0mself\u001B[0m\u001B[0;34m.\u001B[0m\u001B[0m_info_axis\u001B[0m\u001B[0;34m.\u001B[0m\u001B[0m_can_hold_identifiers_and_holds_name\u001B[0m\u001B[0;34m(\u001B[0m\u001B[0mname\u001B[0m\u001B[0;34m)\u001B[0m\u001B[0;34m:\u001B[0m\u001B[0;34m\u001B[0m\u001B[0;34m\u001B[0m\u001B[0m\n\u001B[1;32m   5129\u001B[0m                 \u001B[0;32mreturn\u001B[0m \u001B[0mself\u001B[0m\u001B[0;34m[\u001B[0m\u001B[0mname\u001B[0m\u001B[0;34m]\u001B[0m\u001B[0;34m\u001B[0m\u001B[0;34m\u001B[0m\u001B[0m\n\u001B[0;32m-> 5130\u001B[0;31m             \u001B[0;32mreturn\u001B[0m \u001B[0mobject\u001B[0m\u001B[0;34m.\u001B[0m\u001B[0m__getattribute__\u001B[0m\u001B[0;34m(\u001B[0m\u001B[0mself\u001B[0m\u001B[0;34m,\u001B[0m \u001B[0mname\u001B[0m\u001B[0;34m)\u001B[0m\u001B[0;34m\u001B[0m\u001B[0;34m\u001B[0m\u001B[0m\n\u001B[0m\u001B[1;32m   5131\u001B[0m \u001B[0;34m\u001B[0m\u001B[0m\n\u001B[1;32m   5132\u001B[0m     \u001B[0;32mdef\u001B[0m \u001B[0m__setattr__\u001B[0m\u001B[0;34m(\u001B[0m\u001B[0mself\u001B[0m\u001B[0;34m,\u001B[0m \u001B[0mname\u001B[0m\u001B[0;34m:\u001B[0m \u001B[0mstr\u001B[0m\u001B[0;34m,\u001B[0m \u001B[0mvalue\u001B[0m\u001B[0;34m)\u001B[0m \u001B[0;34m->\u001B[0m \u001B[0;32mNone\u001B[0m\u001B[0;34m:\u001B[0m\u001B[0;34m\u001B[0m\u001B[0;34m\u001B[0m\u001B[0m\n",
      "\u001B[0;31mAttributeError\u001B[0m: 'DataFrame' object has no attribute 'to_file'"
     ]
    }
   ],
   "source": [
    "geo_name_income_rent.to_file('geo_name_income_rent.geojson',driver='GeoJSON')\n",
    "trialyield[[title_col, 'yield', 'geometry']].to_file('trialyield_output.shp')"
   ]
  },
  {
   "cell_type": "code",
   "execution_count": 22,
   "metadata": {
    "pycharm": {
     "name": "#%%\n"
    }
   },
   "outputs": [
    {
     "data": {
      "text/plain": [
       "<AxesSubplot:>"
      ]
     },
     "execution_count": 22,
     "metadata": {},
     "output_type": "execute_result"
    },
    {
     "data": {
      "image/png": "[encoded data removed]",
      "text/plain": [
       "<Figure size 432x288 with 1 Axes>"
      ]
     },
     "metadata": {
      "needs_background": "light"
     },
     "output_type": "display_data"
    }
   ],
   "source": [
    "zipcode.plot()"
   ]
  },
  {
   "cell_type": "code",
   "execution_count": 28,
   "metadata": {
    "pycharm": {
     "name": "#%%\n"
    }
   },
   "outputs": [
    {
     "data": {
      "text/html": [
       "<div>\n",
       "<style scoped>\n",
       "    .dataframe tbody tr th:only-of-type {\n",
       "        vertical-align: middle;\n",
       "    }\n",
       "\n",
       "    .dataframe tbody tr th {\n",
       "        vertical-align: top;\n",
       "    }\n",
       "\n",
       "    .dataframe thead th {\n",
       "        text-align: right;\n",
       "    }\n",
       "</style>\n",
       "<table border=\"1\" class=\"dataframe\">\n",
       "  <thead>\n",
       "    <tr style=\"text-align: right;\">\n",
       "      <th></th>\n",
       "      <th>ZIPCODE</th>\n",
       "      <th>BLDGZIP</th>\n",
       "      <th>PO_NAME</th>\n",
       "      <th>POPULATION</th>\n",
       "      <th>AREA</th>\n",
       "      <th>STATE</th>\n",
       "      <th>COUNTY</th>\n",
       "      <th>ST_FIPS</th>\n",
       "      <th>CTY_FIPS</th>\n",
       "      <th>URL</th>\n",
       "      <th>SHAPE_AREA</th>\n",
       "      <th>SHAPE_LEN</th>\n",
       "      <th>geometry</th>\n",
       "    </tr>\n",
       "  </thead>\n",
       "  <tbody>\n",
       "    <tr>\n",
       "      <th>0</th>\n",
       "      <td>11436</td>\n",
       "      <td>0</td>\n",
       "      <td>Jamaica</td>\n",
       "      <td>18681.0</td>\n",
       "      <td>2.269930e+07</td>\n",
       "      <td>NY</td>\n",
       "      <td>Queens</td>\n",
       "      <td>36</td>\n",
       "      <td>081</td>\n",
       "      <td>http://www.usps.com/</td>\n",
       "      <td>0.0</td>\n",
       "      <td>0.0</td>\n",
       "      <td>POLYGON ((1038098.252 188138.380, 1038141.936 ...</td>\n",
       "    </tr>\n",
       "    <tr>\n",
       "      <th>1</th>\n",
       "      <td>11213</td>\n",
       "      <td>0</td>\n",
       "      <td>Brooklyn</td>\n",
       "      <td>62426.0</td>\n",
       "      <td>2.963100e+07</td>\n",
       "      <td>NY</td>\n",
       "      <td>Kings</td>\n",
       "      <td>36</td>\n",
       "      <td>047</td>\n",
       "      <td>http://www.usps.com/</td>\n",
       "      <td>0.0</td>\n",
       "      <td>0.0</td>\n",
       "      <td>POLYGON ((1001613.713 186926.440, 1002314.243 ...</td>\n",
       "    </tr>\n",
       "    <tr>\n",
       "      <th>2</th>\n",
       "      <td>11212</td>\n",
       "      <td>0</td>\n",
       "      <td>Brooklyn</td>\n",
       "      <td>83866.0</td>\n",
       "      <td>4.197210e+07</td>\n",
       "      <td>NY</td>\n",
       "      <td>Kings</td>\n",
       "      <td>36</td>\n",
       "      <td>047</td>\n",
       "      <td>http://www.usps.com/</td>\n",
       "      <td>0.0</td>\n",
       "      <td>0.0</td>\n",
       "      <td>POLYGON ((1011174.276 183696.338, 1011373.584 ...</td>\n",
       "    </tr>\n",
       "    <tr>\n",
       "      <th>3</th>\n",
       "      <td>11225</td>\n",
       "      <td>0</td>\n",
       "      <td>Brooklyn</td>\n",
       "      <td>56527.0</td>\n",
       "      <td>2.369863e+07</td>\n",
       "      <td>NY</td>\n",
       "      <td>Kings</td>\n",
       "      <td>36</td>\n",
       "      <td>047</td>\n",
       "      <td>http://www.usps.com/</td>\n",
       "      <td>0.0</td>\n",
       "      <td>0.0</td>\n",
       "      <td>POLYGON ((995908.365 183617.613, 996522.848 18...</td>\n",
       "    </tr>\n",
       "    <tr>\n",
       "      <th>4</th>\n",
       "      <td>11218</td>\n",
       "      <td>0</td>\n",
       "      <td>Brooklyn</td>\n",
       "      <td>72280.0</td>\n",
       "      <td>3.686880e+07</td>\n",
       "      <td>NY</td>\n",
       "      <td>Kings</td>\n",
       "      <td>36</td>\n",
       "      <td>047</td>\n",
       "      <td>http://www.usps.com/</td>\n",
       "      <td>0.0</td>\n",
       "      <td>0.0</td>\n",
       "      <td>POLYGON ((991997.113 176307.496, 992042.798 17...</td>\n",
       "    </tr>\n",
       "  </tbody>\n",
       "</table>\n",
       "</div>"
      ],
      "text/plain": [
       "  ZIPCODE BLDGZIP   PO_NAME  POPULATION          AREA STATE  COUNTY ST_FIPS  \\\n",
       "0   11436       0   Jamaica     18681.0  2.269930e+07    NY  Queens      36   \n",
       "1   11213       0  Brooklyn     62426.0  2.963100e+07    NY   Kings      36   \n",
       "2   11212       0  Brooklyn     83866.0  4.197210e+07    NY   Kings      36   \n",
       "3   11225       0  Brooklyn     56527.0  2.369863e+07    NY   Kings      36   \n",
       "4   11218       0  Brooklyn     72280.0  3.686880e+07    NY   Kings      36   \n",
       "\n",
       "  CTY_FIPS                   URL  SHAPE_AREA  SHAPE_LEN  \\\n",
       "0      081  http://www.usps.com/         0.0        0.0   \n",
       "1      047  http://www.usps.com/         0.0        0.0   \n",
       "2      047  http://www.usps.com/         0.0        0.0   \n",
       "3      047  http://www.usps.com/         0.0        0.0   \n",
       "4      047  http://www.usps.com/         0.0        0.0   \n",
       "\n",
       "                                            geometry  \n",
       "0  POLYGON ((1038098.252 188138.380, 1038141.936 ...  \n",
       "1  POLYGON ((1001613.713 186926.440, 1002314.243 ...  \n",
       "2  POLYGON ((1011174.276 183696.338, 1011373.584 ...  \n",
       "3  POLYGON ((995908.365 183617.613, 996522.848 18...  \n",
       "4  POLYGON ((991997.113 176307.496, 992042.798 17...  "
      ]
     },
     "execution_count": 28,
     "metadata": {},
     "output_type": "execute_result"
    }
   ],
   "source": [
    "zipcode.head()"
   ]
  },
  {
   "cell_type": "code",
   "execution_count": 31,
   "metadata": {
    "pycharm": {
     "name": "#%%\n"
    }
   },
   "outputs": [
    {
     "data": {
      "text/html": [
       "<div>\n",
       "<style scoped>\n",
       "    .dataframe tbody tr th:only-of-type {\n",
       "        vertical-align: middle;\n",
       "    }\n",
       "\n",
       "    .dataframe tbody tr th {\n",
       "        vertical-align: top;\n",
       "    }\n",
       "\n",
       "    .dataframe thead th {\n",
       "        text-align: right;\n",
       "    }\n",
       "</style>\n",
       "<table border=\"1\" class=\"dataframe\">\n",
       "  <thead>\n",
       "    <tr style=\"text-align: right;\">\n",
       "      <th></th>\n",
       "      <th>ZIPCODE</th>\n",
       "      <th>PO_NAME</th>\n",
       "      <th>POPULATION</th>\n",
       "      <th>AREA</th>\n",
       "      <th>STATE</th>\n",
       "      <th>COUNTY</th>\n",
       "      <th>ST_FIPS</th>\n",
       "      <th>CTY_FIPS</th>\n",
       "      <th>geometry</th>\n",
       "    </tr>\n",
       "  </thead>\n",
       "  <tbody>\n",
       "    <tr>\n",
       "      <th>0</th>\n",
       "      <td>11436</td>\n",
       "      <td>Jamaica</td>\n",
       "      <td>18681.0</td>\n",
       "      <td>2.269930e+07</td>\n",
       "      <td>NY</td>\n",
       "      <td>Queens</td>\n",
       "      <td>36</td>\n",
       "      <td>081</td>\n",
       "      <td>POLYGON ((1038098.252 188138.380, 1038141.936 ...</td>\n",
       "    </tr>\n",
       "    <tr>\n",
       "      <th>1</th>\n",
       "      <td>11213</td>\n",
       "      <td>Brooklyn</td>\n",
       "      <td>62426.0</td>\n",
       "      <td>2.963100e+07</td>\n",
       "      <td>NY</td>\n",
       "      <td>Kings</td>\n",
       "      <td>36</td>\n",
       "      <td>047</td>\n",
       "      <td>POLYGON ((1001613.713 186926.440, 1002314.243 ...</td>\n",
       "    </tr>\n",
       "    <tr>\n",
       "      <th>2</th>\n",
       "      <td>11212</td>\n",
       "      <td>Brooklyn</td>\n",
       "      <td>83866.0</td>\n",
       "      <td>4.197210e+07</td>\n",
       "      <td>NY</td>\n",
       "      <td>Kings</td>\n",
       "      <td>36</td>\n",
       "      <td>047</td>\n",
       "      <td>POLYGON ((1011174.276 183696.338, 1011373.584 ...</td>\n",
       "    </tr>\n",
       "    <tr>\n",
       "      <th>3</th>\n",
       "      <td>11225</td>\n",
       "      <td>Brooklyn</td>\n",
       "      <td>56527.0</td>\n",
       "      <td>2.369863e+07</td>\n",
       "      <td>NY</td>\n",
       "      <td>Kings</td>\n",
       "      <td>36</td>\n",
       "      <td>047</td>\n",
       "      <td>POLYGON ((995908.365 183617.613, 996522.848 18...</td>\n",
       "    </tr>\n",
       "    <tr>\n",
       "      <th>4</th>\n",
       "      <td>11218</td>\n",
       "      <td>Brooklyn</td>\n",
       "      <td>72280.0</td>\n",
       "      <td>3.686880e+07</td>\n",
       "      <td>NY</td>\n",
       "      <td>Kings</td>\n",
       "      <td>36</td>\n",
       "      <td>047</td>\n",
       "      <td>POLYGON ((991997.113 176307.496, 992042.798 17...</td>\n",
       "    </tr>\n",
       "  </tbody>\n",
       "</table>\n",
       "</div>"
      ],
      "text/plain": [
       "  ZIPCODE   PO_NAME  POPULATION          AREA STATE  COUNTY ST_FIPS CTY_FIPS  \\\n",
       "0   11436   Jamaica     18681.0  2.269930e+07    NY  Queens      36      081   \n",
       "1   11213  Brooklyn     62426.0  2.963100e+07    NY   Kings      36      047   \n",
       "2   11212  Brooklyn     83866.0  4.197210e+07    NY   Kings      36      047   \n",
       "3   11225  Brooklyn     56527.0  2.369863e+07    NY   Kings      36      047   \n",
       "4   11218  Brooklyn     72280.0  3.686880e+07    NY   Kings      36      047   \n",
       "\n",
       "                                            geometry  \n",
       "0  POLYGON ((1038098.252 188138.380, 1038141.936 ...  \n",
       "1  POLYGON ((1001613.713 186926.440, 1002314.243 ...  \n",
       "2  POLYGON ((1011174.276 183696.338, 1011373.584 ...  \n",
       "3  POLYGON ((995908.365 183617.613, 996522.848 18...  \n",
       "4  POLYGON ((991997.113 176307.496, 992042.798 17...  "
      ]
     },
     "execution_count": 31,
     "metadata": {},
     "output_type": "execute_result"
    }
   ],
   "source": [
    "cols_zip = ['ZIPCODE', 'PO_NAME', 'POPULATION', 'AREA', 'STATE', 'COUNTY', 'ST_FIPS', 'CTY_FIPS', 'geometry']\n",
    "zipcode_slim = zipcode[cols_zip]\n",
    "zipcode_slim.head()"
   ]
  },
  {
   "cell_type": "code",
   "execution_count": 32,
   "metadata": {
    "pycharm": {
     "name": "#%%\n"
    }
   },
   "outputs": [],
   "source": [
    "zipcode_slim.to_file('zipcode.geojson',driver='GeoJSON')"
   ]
  }
 ],
 "metadata": {
  "kernelspec": {
   "display_name": "Python 3",
   "language": "python",
   "name": "python3"
  },
  "language_info": {
   "codemirror_mode": {
    "name": "ipython",
    "version": 3
   },
   "file_extension": ".py",
   "mimetype": "text/x-python",
   "name": "python",
   "nbconvert_exporter": "python",
   "pygments_lexer": "ipython3",
   "version": "3.8.2"
  }
 },
 "nbformat": 4,
 "nbformat_minor": 1
}