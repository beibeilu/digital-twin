{
 "cells": [
  {
   "cell_type": "markdown",
   "metadata": {
    "collapsed": true,
    "pycharm": {
     "name": "#%% md\n"
    }
   },
   "source": [
    "Assumption:\n",
    "- ACS conduct on ~1.5% of household annually."
   ]
  },
  {
   "cell_type": "code",
   "source": [
    "import requests\n",
    "import pandas as pd\n",
    "HOST = \"https://api.census.gov/data\"\n",
    "dataset = \"acs/acs1\""
   ],
   "metadata": {
    "collapsed": false,
    "pycharm": {
     "name": "#%%\n"
    }
   },
   "execution_count": 5,
   "outputs": []
  },
  {
   "cell_type": "code",
   "execution_count": 8,
   "outputs": [],
   "source": [
    "# list comprehension\n",
    "# B25045001 - B25045019\n",
    "HOST, dataset = \"https://api.census.gov/data\", \"acs/acs1\"\n",
    "get_vars = [\"B25045_\" + str(i + 1).zfill(3) + \"E\" for i in range(19)]\n",
    "get_vars = [\"NAME\"] + get_vars\n",
    "# print(get_vars)\n",
    "predicates = {}\n",
    "predicates[\"get\"] = \",\".join(get_vars)\n",
    "predicates[\"for\"] = \"us:*\""
   ],
   "metadata": {
    "collapsed": false,
    "pycharm": {
     "name": "#%%\n"
    }
   }
  },
  {
   "cell_type": "code",
   "execution_count": 9,
   "outputs": [],
   "source": [
    "# dataframe collector for each year.\n",
    "# Initialize data frame collector\n",
    "dfs = []\n",
    "for year in range(2011, 2018):\n",
    "    base_url = \"/\".join([HOST, str(year), dataset])\n",
    "    r = requests.get(base_url, params=predicates)\n",
    "    df = pd.DataFrame(columns=r.json()[0], data=r.json()[1:])\n",
    "    # Add column to hold year value\n",
    "    df[\"year\"] = year\n",
    "    dfs.append(df)\n",
    "# Concatenate all data frames in collector\n",
    "us = pd.concat(dfs)"
   ],
   "metadata": {
    "collapsed": false,
    "pycharm": {
     "name": "#%%\n"
    }
   }
  },
  {
   "cell_type": "code",
   "execution_count": 10,
   "outputs": [
    {
     "name": "stdout",
     "output_type": "stream",
     "text": [
      "            NAME B25045_001E B25045_002E B25045_003E B25045_004E B25045_005E  \\\n",
      "0  United States   114991725    74264435     2510277      173746     1020070   \n",
      "0  United States   115969540    74119256     2498950      165428     1003166   \n",
      "0  United States   116291033    73843861     2491387      166955     1022752   \n",
      "0  United States   117259427    73991995     2460464      164809      993511   \n",
      "0  United States   118208250    74506512     2437175      167963      987917   \n",
      "\n",
      "  B25045_006E B25045_007E B25045_008E B25045_009E  ... B25045_012E  \\\n",
      "0     1316461    71754158     7499566    45628394  ...     8170479   \n",
      "0     1330356    71620306     7138750    44942720  ...     8190481   \n",
      "0     1301680    71352474     7046650    44284406  ...     8082693   \n",
      "0     1302144    71531531     6963152    43870068  ...     8214112   \n",
      "0     1281295    72069337     6991648    43749617  ...     8131681   \n",
      "\n",
      "  B25045_013E B25045_014E B25045_015E B25045_016E B25045_017E B25045_018E  \\\n",
      "0     2120124     3821261     2229094    32556811    12615981    16708018   \n",
      "0     2117428     3862197     2210856    33659803    12982695    17229936   \n",
      "0     2070846     3796464     2215383    34364479    13046247    17655910   \n",
      "0     2068912     3846898     2298302    35053320    13094778    18111142   \n",
      "0     2005318     3779705     2346658    35570057    13160651    18364976   \n",
      "\n",
      "  B25045_019E us  year  \n",
      "0     3232812  1  2011  \n",
      "0     3447172  1  2012  \n",
      "0     3662322  1  2013  \n",
      "0     3847400  1  2014  \n",
      "0     4044430  1  2015  \n",
      "\n",
      "[5 rows x 22 columns]\n"
     ]
    }
   ],
   "source": [
    "print(us.head())\n"
   ],
   "metadata": {
    "collapsed": false,
    "pycharm": {
     "name": "#%%\n"
    }
   }
  },
  {
   "cell_type": "code",
   "execution_count": null,
   "outputs": [],
   "source": [
    "# Data Sources\n",
    "# 2000 Census of Population and Housing - Summary File 3\n",
    "# P53: Median Household Income in 1999 (Dollars)\n",
    "# H34: Year Structure Built\n",
    "# P37: Sex by Educational Attainment for the Population 25 Years and Over H85: Median Value (Dollars) for All Owner-Occupied Housing Units\n",
    "# American Community Survey 5-Year Data (2008-20012)\n",
    "# B15003: Educational Attainment for the Population 25 Years and Over\n",
    "# B25077: Median Value (Dollars) - Owner-occupied housing units"
   ],
   "metadata": {
    "collapsed": false,
    "pycharm": {
     "name": "#%%\n"
    }
   }
  }
 ],
 "metadata": {
  "kernelspec": {
   "display_name": "Python 3",
   "language": "python",
   "name": "python3"
  },
  "language_info": {
   "codemirror_mode": {
    "name": "ipython",
    "version": 2
   },
   "file_extension": ".py",
   "mimetype": "text/x-python",
   "name": "python",
   "nbconvert_exporter": "python",
   "pygments_lexer": "ipython2",
   "version": "2.7.6"
  }
 },
 "nbformat": 4,
 "nbformat_minor": 0
}